{
 "cells": [
  {
   "cell_type": "code",
   "execution_count": 1,
   "metadata": {},
   "outputs": [
    {
     "data": {
      "text/html": [
       "<script>\n",
       "code_show=true; \n",
       "function code_toggle() {\n",
       "    if (code_show){\n",
       "        $('div.cell.code_cell.rendered.selected div.input').hide();\n",
       "    } else {\n",
       "        $('div.cell.code_cell.rendered.selected div.input').show();\n",
       "    }\n",
       "    code_show = !code_show\n",
       "} \n",
       "$( document ).ready(code_toggle);\n",
       "\n",
       "var flagHighlight=0;\n",
       "var flagHighlightCode = 0;\n",
       "var flagMagnifyCell = 0;\n",
       "var flagMagnifyCode =0;\n",
       "var flagMagnifyOutputs=0;\n",
       "var flagEnlarge = 0;\n",
       "var flagHighlightOutput = 0;\n",
       "\n",
       "function enlarge_markdown(){\n",
       "    \n",
       "if(flagEnlarge==0){\n",
       "flagEnlarges = 1;\n",
       "document.getElementById('button7').classList.toggle('active_button');\n",
       "var els = document.getElementsByClassName('text_cell');\n",
       "var i;\n",
       "for(i=0;i<els.length;i++){\n",
       "els[i].classList.toggle('enlarged');}}\n",
       "else{\n",
       "flagEnlarge = 0;\n",
       "document.getElementById('button7').classList.toggle('active_button');\n",
       "var els = document.getElementsByClassName('text_cell');\n",
       "var i;\n",
       "for(i=0;i<els.length;i++){\n",
       "els[i].classList.remove('enlarged');\n",
       "}};};\n",
       "\n",
       "\n",
       "function magnify_outputs(){\n",
       "    \n",
       "if(flagMagnifyOutputs==0){\n",
       "flagMagnifyOutputs = 1;\n",
       "document.getElementById('button5').classList.toggle('active_button');\n",
       "var els = document.getElementsByClassName('output_wrapper');\n",
       "var i;\n",
       "for(i=0;i<els.length;i++){\n",
       "els[i].classList.toggle('magnified_output');}}\n",
       "else{\n",
       "flagMagnifyOutputs = 0;\n",
       "document.getElementById('button5').classList.toggle('active_button');\n",
       "var els = document.getElementsByClassName('output_wrapper');\n",
       "var i;\n",
       "for(i=0;i<els.length;i++){\n",
       "els[i].classList.remove('magnified_output');\n",
       "}};};\n",
       "\n",
       "function magnify_output_lines(){\n",
       "    \n",
       "if(flagHighlightOutput==0){\n",
       "flagHighlightOutput = 1;\n",
       "document.getElementById('button6').classList.toggle('active_button');\n",
       "var els = document.getElementsByClassName('output_wrapper');\n",
       "var i;\n",
       "for(i=0;i<els.length;i++){\n",
       "els[i].classList.toggle('magnified_output_lines');}}\n",
       "else{flagHighlightOutput = 0;\n",
       "document.getElementById('button6').classList.toggle('active_button');\n",
       "var els = document.getElementsByClassName('output_wrapper');\n",
       "var i;\n",
       "for(i=0;i<els.length;i++){\n",
       "els[i].classList.remove('magnified_output_lines');\n",
       "}};};\n",
       "\n",
       "\n",
       "function highlight_cell(){\n",
       "    \n",
       "if(flagHighlight==0){\n",
       "flagHighlight = 1;\n",
       "document.getElementById('button4').classList.toggle('active_button');\n",
       "var els = document.getElementsByClassName('CodeMirror-lines');\n",
       "var i;\n",
       "for(i=0;i<els.length;i++){\n",
       "els[i].classList.toggle('highlighted');}}\n",
       "else{flagHighlight = 0;\n",
       "document.getElementById('button4').classList.toggle('active_button');\n",
       "var els = document.getElementsByClassName('CodeMirror-lines');\n",
       "var i;\n",
       "for(i=0;i<els.length;i++){\n",
       "els[i].classList.remove('highlighted');\n",
       "}};};\n",
       "\n",
       "\n",
       "function highlight_code(){   \n",
       "if(flagHighlightCode==0){\n",
       "\n",
       "flagHighlightCode = 1;\n",
       "document.getElementById('button3').classList.toggle('active_button');\n",
       "var els = document.getElementsByClassName('CodeMirror-lines');\n",
       "var i;\n",
       "for(i=0;i<els.length;i++){\n",
       "els[i].classList.toggle('highlighted_code');}}   \n",
       "else{flagHighlightCode = 0;\n",
       "document.getElementById('button3').classList.toggle('active_button');\n",
       "var els = document.getElementsByClassName('CodeMirror-lines');\n",
       "var i;\n",
       "for(i=0;i<els.length;i++){\n",
       "els[i].classList.remove('highlighted_code');\n",
       "}};};\n",
       "\n",
       "function magnify_cell(){   \n",
       "if(flagMagnifyCell==0){\n",
       "flagMagnifyCell = 1;\n",
       "document.getElementById('button2').classList.toggle('active_button');\n",
       "var els = document.getElementsByClassName('CodeMirror-lines');\n",
       "var i;\n",
       "for(i=0;i<els.length;i++){\n",
       "els[i].classList.toggle('magnified_cell');}}   \n",
       "else{flagMagnifyCell = 0;\n",
       "document.getElementById('button2').classList.toggle('active_button');\n",
       "var els = document.getElementsByClassName('CodeMirror-lines');\n",
       "var i;\n",
       "for(i=0;i<els.length;i++){\n",
       "els[i].classList.remove('magnified_cell');\n",
       "}};};\n",
       "\n",
       "function magnify_code(){   \n",
       "if(flagMagnifyCode==0){\n",
       "flagMagnifyCode = 1;\n",
       "document.getElementById('button1').classList.toggle('active_button');\n",
       "var els = document.getElementsByClassName('CodeMirror-lines');\n",
       "var i;\n",
       "for(i=0;i<els.length;i++){\n",
       "els[i].classList.toggle('magnified_code');}}   \n",
       "else{flagMagnifyCode = 0;\n",
       "document.getElementById('button1').classList.toggle('active_button');\n",
       "var els = document.getElementsByClassName('CodeMirror-lines');\n",
       "var i;\n",
       "for(i=0;i<els.length;i++){\n",
       "els[i].classList.remove('magnified_code');\n",
       "}};};\n",
       "\n",
       "\n",
       "document.getElementsByTagName(\"BODY\")[0].insertAdjacentHTML(\"afterend\", \"<div id='help_box'></div>\");\n",
       "document.getElementsByTagName(\"BODY\")[0].insertAdjacentHTML(\"afterend\",\"<img src= 'https://img.flaticon.com/icons/png/512/25/25186.png?size=1200x630f&pad=10,10,10,10&ext=png&bg=FFFFFFFF' id='mvlogo'>\")\n",
       "document.getElementsByTagName(\"BODY\")[0].insertAdjacentHTML(\"afterend\", \"<div class='hidden' id='tooltip2'><p>click the eye to hide/show tools</p></div>\");\n",
       "var help_box = document.getElementById('help_box');\n",
       "\n",
       "help_box.classList.add('floater');\n",
       "\n",
       "help_box.innerHTML = \"<h2 id='heading'><b>Visual tools</b></h2><button id='button1' class='clean_buttons'>Magnify lines </button><button id='button2'class = 'clean_buttons' >Enlarge cells</button><button id='button3' class = 'clean_buttons' >highlight lines</button><button id='button4' class = 'clean_buttons' >highlight cell</button>\";\n",
       "help_box.innerHTML +=\"<button id='button5' class='clean_buttons'>Enlarge</button><button id='button6' class='clean_buttons'>Highlight</button>\"\n",
       "help_box.innerHTML += \"<button id='button7' class='clean_buttons'>enlarge</button\"\n",
       "help_box.innerHTML+= \"<p class='sections' id='code_heading'><b>Code</b></p>\"\n",
       "help_box.innerHTML+= \"<p class='sections' id='output_heading'><b>Outputs</b></p>\"\n",
       "help_box.innerHTML+= \"<p class='sections' id='markdown_heading'><b>Markdowns</b></p>\"\n",
       "help_box.innerHTML +=\"<p id='credit'>logo credit to https://www.flaticon.com/free-icon/eye-open_25186 <br>  used under open license: Attribution 3.0 Unported (CC BY 3.0)<br> Coded by N.Griffiths employed by Muliverse </p>\"\n",
       "document.body.appendChild(help_box);\n",
       "\n",
       "document.getElementById('button7').addEventListener('click',function(){\n",
       "   enlarge_markdown();});\n",
       "    \n",
       "document.getElementById('button6').addEventListener('click',function(){\n",
       "    magnify_output_lines();});\n",
       "\n",
       "document.getElementById('button5').addEventListener('click',function(){\n",
       "    magnify_outputs();});\n",
       "    \n",
       "document.getElementById('button4').addEventListener('click',function(){\n",
       "    highlight_cell();});\n",
       "\n",
       "document.getElementById('button3').addEventListener('click',function(){\n",
       "    highlight_code();});\n",
       "\n",
       "document.getElementById('button2').addEventListener('click',function(){\n",
       "    magnify_cell();});\n",
       "\n",
       "document.getElementById('button1').addEventListener('click',function(){\n",
       "    magnify_code();});\n",
       " \n",
       "document.getElementById('mvlogo').addEventListener('click',function(){  \n",
       "document.getElementById('help_box').classList.toggle('hidden');}); \n",
       " \n",
       " \n",
       "document.getElementById('mvlogo').addEventListener('mouseover',function(){  \n",
       "document.getElementById('tooltip2').classList.toggle('hidden');});\n",
       "\n",
       "document.getElementById('mvlogo').addEventListener('mouseout',function(){  \n",
       "document.getElementById('tooltip2').classList.toggle('hidden');});\n",
       "\n",
       "\n",
       "</script>\n",
       "<a id='boilerplate' href=\"javascript:code_toggle()\">change js running visual-aids</a>.\n",
       "\n",
       "\n",
       "<style>\n",
       "\n",
       ".hidden{\n",
       "display:none;\n",
       "}\n",
       "\n",
       "#credit{\n",
       "position: fixed;\n",
       "top:65.5vh;\n",
       "left:81vw;\n",
       "font-size:0.9vmin;\n",
       "}\n",
       "#boilerplate{\n",
       "color:white;\n",
       "}\n",
       "\n",
       "#boilerplate:hover{\n",
       "color:blue;\n",
       "}\n",
       "\n",
       "#tooltip2{\n",
       "position:fixed;\n",
       "z-index:1001;\n",
       "left:80vw;\n",
       "top:18vh;\n",
       "font-size:1.5vh;\n",
       "background-color:white;\n",
       "}\n",
       "\n",
       ".floater{\n",
       "background-color:#FFFFFF;\n",
       "color:#003b49;\n",
       "border-style:solid;\n",
       "border-color:#003b49;\n",
       "borderwidth:0.1vh;\n",
       "z-index:1000;\n",
       "position:fixed;\n",
       "left: 80vw;\n",
       "Top: 20vh;\n",
       "height: 53vh;\n",
       "width: 18vw;\n",
       "\n",
       "}\n",
       "\n",
       "#heading{\n",
       "position:fixed;\n",
       "top:21vh;\n",
       "left:80vw;\n",
       "margin: 1vh 1vh 1vh  1vh;\n",
       "font-size:3vmin;}\n",
       "\n",
       ".clean_buttons{\n",
       "padding: 0px 0px 0px 0px;\n",
       "background-color:#d0d3d4;\n",
       "color:#003b49;\n",
       "cursor: pointer;\n",
       "width:8vw;\n",
       "height:6vh;\n",
       "font-size:2vmin;\n",
       "border-width:0.1vh;\n",
       "}\n",
       "#button1{\n",
       "position:fixed;\n",
       "top:31vh;\n",
       "left:80.5vw;\n",
       "}\n",
       "#button2{\n",
       "position:fixed;\n",
       "top:31vh;\n",
       "left:89vw;\n",
       "}\n",
       "#button3{\n",
       "position:fixed;\n",
       "top:38vh;\n",
       "left:80.5vw;\n",
       "}\n",
       "#button4{\n",
       "position:fixed;\n",
       "top:38vh;\n",
       "left:89vw;\n",
       "}\n",
       "#button5{\n",
       "position:fixed;\n",
       "top:48.5vh;\n",
       "left:80.5vw;\n",
       "}\n",
       "#button6{\n",
       "position:fixed;\n",
       "top:48.5vh;\n",
       "left:89vw;\n",
       "}\n",
       "#button7{\n",
       "position:fixed;\n",
       "top:58vh;\n",
       "left: 84vw;\n",
       "}\n",
       ".active_button{\n",
       "background:#003b49;\n",
       "color:#d0d3d4;\n",
       "}\n",
       "\n",
       ".sections{\n",
       "font-size: 2vmin;\n",
       "left:82vw;\n",
       "}\n",
       "#code_heading{\n",
       "position:fixed;\n",
       "top:28vh;\n",
       "}\n",
       "#output_heading{\n",
       "position:fixed;\n",
       "top:45vh;\n",
       "}\n",
       "#markdown_heading{\n",
       "position:fixed;\n",
       "top:55vh;\n",
       "}\n",
       "\n",
       "#mvlogo{\n",
       "width:18vw;\n",
       "height:8vh;\n",
       "object-fit: cover;\n",
       "position:fixed;\n",
       "z-index:1000;\n",
       "left: 80vw;\n",
       "top: 10vh;\n",
       "border: 0.5vh solid #003b49;\n",
       "cursor: pointer;\n",
       "}\n",
       "\n",
       ".highlighted :hover{\n",
       "background-color:#fcfaeb;\n",
       "}\n",
       "\n",
       ".highlighted_code div pre :hover{\n",
       "background-color:yellow;\n",
       "}\n",
       "\n",
       ".magnified_code div pre span:hover{\n",
       "margin-top:3vh;\n",
       "margin-bottom:3vh;\n",
       "height:30px;\n",
       "width:auto;\n",
       "font-size:130%;}\n",
       "\n",
       ".magnified_cell div pre{\n",
       "padding: 6px 0px 6px 0px;\n",
       "}\n",
       "\n",
       ".magnified_cell div{\n",
       "font-size:120%;\n",
       "line-height:120%;\n",
       "}\n",
       "\n",
       ".magnified_output *{\n",
       "font-size: 115%;\n",
       "}\n",
       "\n",
       ".magnified_output_lines :hover{\n",
       "background-color:#FFFF99;\n",
       "color:purple;\n",
       "\n",
       "}\n",
       "\n",
       ".enlarged *  {\n",
       "font-size:120%;\n",
       "line-height:120%;\n",
       "\n",
       "}\n",
       "\n",
       "\n",
       "\n",
       "</style>\n"
      ],
      "text/plain": [
       "<IPython.core.display.HTML object>"
      ]
     },
     "metadata": {},
     "output_type": "display_data"
    }
   ],
   "source": [
    "from IPython.display import HTML\n",
    "from IPython.display import Javascript\n",
    "\n",
    "from IPython.display import display\n",
    "\n",
    "# Taken from https://stackoverflow.com/questions/31517194/how-to-hide-one-specific-cell-input-or-output-in-ipython-notebook\n",
    "tag = HTML(\"\"\"<script>\n",
    "code_show=true; \n",
    "function code_toggle() {\n",
    "    if (code_show){\n",
    "        $('div.cell.code_cell.rendered.selected div.input').hide();\n",
    "    } else {\n",
    "        $('div.cell.code_cell.rendered.selected div.input').show();\n",
    "    }\n",
    "    code_show = !code_show\n",
    "} \n",
    "$( document ).ready(code_toggle);\n",
    "\n",
    "var flagHighlight=0;\n",
    "var flagHighlightCode = 0;\n",
    "var flagMagnifyCell = 0;\n",
    "var flagMagnifyCode =0;\n",
    "var flagMagnifyOutputs=0;\n",
    "var flagEnlarge = 0;\n",
    "var flagHighlightOutput = 0;\n",
    "\n",
    "function enlarge_markdown(){\n",
    "    \n",
    "if(flagEnlarge==0){\n",
    "flagEnlarges = 1;\n",
    "document.getElementById('button7').classList.toggle('active_button');\n",
    "var els = document.getElementsByClassName('text_cell');\n",
    "var i;\n",
    "for(i=0;i<els.length;i++){\n",
    "els[i].classList.toggle('enlarged');}}\n",
    "else{\n",
    "flagEnlarge = 0;\n",
    "document.getElementById('button7').classList.toggle('active_button');\n",
    "var els = document.getElementsByClassName('text_cell');\n",
    "var i;\n",
    "for(i=0;i<els.length;i++){\n",
    "els[i].classList.remove('enlarged');\n",
    "}};};\n",
    "\n",
    "\n",
    "function magnify_outputs(){\n",
    "    \n",
    "if(flagMagnifyOutputs==0){\n",
    "flagMagnifyOutputs = 1;\n",
    "document.getElementById('button5').classList.toggle('active_button');\n",
    "var els = document.getElementsByClassName('output_wrapper');\n",
    "var i;\n",
    "for(i=0;i<els.length;i++){\n",
    "els[i].classList.toggle('magnified_output');}}\n",
    "else{\n",
    "flagMagnifyOutputs = 0;\n",
    "document.getElementById('button5').classList.toggle('active_button');\n",
    "var els = document.getElementsByClassName('output_wrapper');\n",
    "var i;\n",
    "for(i=0;i<els.length;i++){\n",
    "els[i].classList.remove('magnified_output');\n",
    "}};};\n",
    "\n",
    "function magnify_output_lines(){\n",
    "    \n",
    "if(flagHighlightOutput==0){\n",
    "flagHighlightOutput = 1;\n",
    "document.getElementById('button6').classList.toggle('active_button');\n",
    "var els = document.getElementsByClassName('output_wrapper');\n",
    "var i;\n",
    "for(i=0;i<els.length;i++){\n",
    "els[i].classList.toggle('magnified_output_lines');}}\n",
    "else{flagHighlightOutput = 0;\n",
    "document.getElementById('button6').classList.toggle('active_button');\n",
    "var els = document.getElementsByClassName('output_wrapper');\n",
    "var i;\n",
    "for(i=0;i<els.length;i++){\n",
    "els[i].classList.remove('magnified_output_lines');\n",
    "}};};\n",
    "\n",
    "\n",
    "function highlight_cell(){\n",
    "    \n",
    "if(flagHighlight==0){\n",
    "flagHighlight = 1;\n",
    "document.getElementById('button4').classList.toggle('active_button');\n",
    "var els = document.getElementsByClassName('CodeMirror-lines');\n",
    "var i;\n",
    "for(i=0;i<els.length;i++){\n",
    "els[i].classList.toggle('highlighted');}}\n",
    "else{flagHighlight = 0;\n",
    "document.getElementById('button4').classList.toggle('active_button');\n",
    "var els = document.getElementsByClassName('CodeMirror-lines');\n",
    "var i;\n",
    "for(i=0;i<els.length;i++){\n",
    "els[i].classList.remove('highlighted');\n",
    "}};};\n",
    "\n",
    "\n",
    "function highlight_code(){   \n",
    "if(flagHighlightCode==0){\n",
    "\n",
    "flagHighlightCode = 1;\n",
    "document.getElementById('button3').classList.toggle('active_button');\n",
    "var els = document.getElementsByClassName('CodeMirror-lines');\n",
    "var i;\n",
    "for(i=0;i<els.length;i++){\n",
    "els[i].classList.toggle('highlighted_code');}}   \n",
    "else{flagHighlightCode = 0;\n",
    "document.getElementById('button3').classList.toggle('active_button');\n",
    "var els = document.getElementsByClassName('CodeMirror-lines');\n",
    "var i;\n",
    "for(i=0;i<els.length;i++){\n",
    "els[i].classList.remove('highlighted_code');\n",
    "}};};\n",
    "\n",
    "function magnify_cell(){   \n",
    "if(flagMagnifyCell==0){\n",
    "flagMagnifyCell = 1;\n",
    "document.getElementById('button2').classList.toggle('active_button');\n",
    "var els = document.getElementsByClassName('CodeMirror-lines');\n",
    "var i;\n",
    "for(i=0;i<els.length;i++){\n",
    "els[i].classList.toggle('magnified_cell');}}   \n",
    "else{flagMagnifyCell = 0;\n",
    "document.getElementById('button2').classList.toggle('active_button');\n",
    "var els = document.getElementsByClassName('CodeMirror-lines');\n",
    "var i;\n",
    "for(i=0;i<els.length;i++){\n",
    "els[i].classList.remove('magnified_cell');\n",
    "}};};\n",
    "\n",
    "function magnify_code(){   \n",
    "if(flagMagnifyCode==0){\n",
    "flagMagnifyCode = 1;\n",
    "document.getElementById('button1').classList.toggle('active_button');\n",
    "var els = document.getElementsByClassName('CodeMirror-lines');\n",
    "var i;\n",
    "for(i=0;i<els.length;i++){\n",
    "els[i].classList.toggle('magnified_code');}}   \n",
    "else{flagMagnifyCode = 0;\n",
    "document.getElementById('button1').classList.toggle('active_button');\n",
    "var els = document.getElementsByClassName('CodeMirror-lines');\n",
    "var i;\n",
    "for(i=0;i<els.length;i++){\n",
    "els[i].classList.remove('magnified_code');\n",
    "}};};\n",
    "\n",
    "\n",
    "document.getElementsByTagName(\"BODY\")[0].insertAdjacentHTML(\"afterend\", \"<div id='help_box'></div>\");\n",
    "document.getElementsByTagName(\"BODY\")[0].insertAdjacentHTML(\"afterend\",\"<img src= 'https://img.flaticon.com/icons/png/512/25/25186.png?size=1200x630f&pad=10,10,10,10&ext=png&bg=FFFFFFFF' id='mvlogo'>\")\n",
    "document.getElementsByTagName(\"BODY\")[0].insertAdjacentHTML(\"afterend\", \"<div class='hidden' id='tooltip2'><p>click the eye to hide/show tools</p></div>\");\n",
    "var help_box = document.getElementById('help_box');\n",
    "\n",
    "help_box.classList.add('floater');\n",
    "\n",
    "help_box.innerHTML = \"<h2 id='heading'><b>Visual tools</b></h2><button id='button1' class='clean_buttons'>Magnify lines </button><button id='button2'class = 'clean_buttons' >Enlarge cells</button><button id='button3' class = 'clean_buttons' >highlight lines</button><button id='button4' class = 'clean_buttons' >highlight cell</button>\";\n",
    "help_box.innerHTML +=\"<button id='button5' class='clean_buttons'>Enlarge</button><button id='button6' class='clean_buttons'>Highlight</button>\"\n",
    "help_box.innerHTML += \"<button id='button7' class='clean_buttons'>enlarge</button\"\n",
    "help_box.innerHTML+= \"<p class='sections' id='code_heading'><b>Code</b></p>\"\n",
    "help_box.innerHTML+= \"<p class='sections' id='output_heading'><b>Outputs</b></p>\"\n",
    "help_box.innerHTML+= \"<p class='sections' id='markdown_heading'><b>Markdowns</b></p>\"\n",
    "help_box.innerHTML +=\"<p id='credit'>logo credit to https://www.flaticon.com/free-icon/eye-open_25186 <br>  used under open license: Attribution 3.0 Unported (CC BY 3.0)<br> Coded by N.Griffiths employed by Muliverse </p>\"\n",
    "document.body.appendChild(help_box);\n",
    "\n",
    "document.getElementById('button7').addEventListener('click',function(){\n",
    "   enlarge_markdown();});\n",
    "    \n",
    "document.getElementById('button6').addEventListener('click',function(){\n",
    "    magnify_output_lines();});\n",
    "\n",
    "document.getElementById('button5').addEventListener('click',function(){\n",
    "    magnify_outputs();});\n",
    "    \n",
    "document.getElementById('button4').addEventListener('click',function(){\n",
    "    highlight_cell();});\n",
    "\n",
    "document.getElementById('button3').addEventListener('click',function(){\n",
    "    highlight_code();});\n",
    "\n",
    "document.getElementById('button2').addEventListener('click',function(){\n",
    "    magnify_cell();});\n",
    "\n",
    "document.getElementById('button1').addEventListener('click',function(){\n",
    "    magnify_code();});\n",
    " \n",
    "document.getElementById('mvlogo').addEventListener('click',function(){  \n",
    "document.getElementById('help_box').classList.toggle('hidden');}); \n",
    " \n",
    " \n",
    "document.getElementById('mvlogo').addEventListener('mouseover',function(){  \n",
    "document.getElementById('tooltip2').classList.toggle('hidden');});\n",
    "\n",
    "document.getElementById('mvlogo').addEventListener('mouseout',function(){  \n",
    "document.getElementById('tooltip2').classList.toggle('hidden');});\n",
    "\n",
    "\n",
    "</script>\n",
    "<a id='boilerplate' href=\"javascript:code_toggle()\">change js running visual-aids</a>.\n",
    "\n",
    "\n",
    "<style>\n",
    "\n",
    ".hidden{\n",
    "display:none;\n",
    "}\n",
    "\n",
    "#credit{\n",
    "position: fixed;\n",
    "top:65.5vh;\n",
    "left:81vw;\n",
    "font-size:0.9vmin;\n",
    "}\n",
    "#boilerplate{\n",
    "color:white;\n",
    "}\n",
    "\n",
    "#boilerplate:hover{\n",
    "color:blue;\n",
    "}\n",
    "\n",
    "#tooltip2{\n",
    "position:fixed;\n",
    "z-index:1001;\n",
    "left:80vw;\n",
    "top:18vh;\n",
    "font-size:1.5vh;\n",
    "background-color:white;\n",
    "}\n",
    "\n",
    ".floater{\n",
    "background-color:#FFFFFF;\n",
    "color:#003b49;\n",
    "border-style:solid;\n",
    "border-color:#003b49;\n",
    "borderwidth:0.1vh;\n",
    "z-index:1000;\n",
    "position:fixed;\n",
    "left: 80vw;\n",
    "Top: 20vh;\n",
    "height: 53vh;\n",
    "width: 18vw;\n",
    "\n",
    "}\n",
    "\n",
    "#heading{\n",
    "position:fixed;\n",
    "top:21vh;\n",
    "left:80vw;\n",
    "margin: 1vh 1vh 1vh  1vh;\n",
    "font-size:3vmin;}\n",
    "\n",
    ".clean_buttons{\n",
    "padding: 0px 0px 0px 0px;\n",
    "background-color:#d0d3d4;\n",
    "color:#003b49;\n",
    "cursor: pointer;\n",
    "width:8vw;\n",
    "height:6vh;\n",
    "font-size:2vmin;\n",
    "border-width:0.1vh;\n",
    "}\n",
    "#button1{\n",
    "position:fixed;\n",
    "top:31vh;\n",
    "left:80.5vw;\n",
    "}\n",
    "#button2{\n",
    "position:fixed;\n",
    "top:31vh;\n",
    "left:89vw;\n",
    "}\n",
    "#button3{\n",
    "position:fixed;\n",
    "top:38vh;\n",
    "left:80.5vw;\n",
    "}\n",
    "#button4{\n",
    "position:fixed;\n",
    "top:38vh;\n",
    "left:89vw;\n",
    "}\n",
    "#button5{\n",
    "position:fixed;\n",
    "top:48.5vh;\n",
    "left:80.5vw;\n",
    "}\n",
    "#button6{\n",
    "position:fixed;\n",
    "top:48.5vh;\n",
    "left:89vw;\n",
    "}\n",
    "#button7{\n",
    "position:fixed;\n",
    "top:58vh;\n",
    "left: 84vw;\n",
    "}\n",
    ".active_button{\n",
    "background:#003b49;\n",
    "color:#d0d3d4;\n",
    "}\n",
    "\n",
    ".sections{\n",
    "font-size: 2vmin;\n",
    "left:82vw;\n",
    "}\n",
    "#code_heading{\n",
    "position:fixed;\n",
    "top:28vh;\n",
    "}\n",
    "#output_heading{\n",
    "position:fixed;\n",
    "top:45vh;\n",
    "}\n",
    "#markdown_heading{\n",
    "position:fixed;\n",
    "top:55vh;\n",
    "}\n",
    "\n",
    "#mvlogo{\n",
    "width:18vw;\n",
    "height:8vh;\n",
    "object-fit: cover;\n",
    "position:fixed;\n",
    "z-index:1000;\n",
    "left: 80vw;\n",
    "top: 10vh;\n",
    "border: 0.5vh solid #003b49;\n",
    "cursor: pointer;\n",
    "}\n",
    "\n",
    ".highlighted :hover{\n",
    "background-color:#fcfaeb;\n",
    "}\n",
    "\n",
    ".highlighted_code div pre :hover{\n",
    "background-color:yellow;\n",
    "}\n",
    "\n",
    ".magnified_code div pre span:hover{\n",
    "margin-top:3vh;\n",
    "margin-bottom:3vh;\n",
    "height:30px;\n",
    "width:auto;\n",
    "font-size:130%;}\n",
    "\n",
    ".magnified_cell div pre{\n",
    "padding: 6px 0px 6px 0px;\n",
    "}\n",
    "\n",
    ".magnified_cell div{\n",
    "font-size:120%;\n",
    "line-height:120%;\n",
    "}\n",
    "\n",
    ".magnified_output *{\n",
    "font-size: 115%;\n",
    "}\n",
    "\n",
    ".magnified_output_lines :hover{\n",
    "background-color:#FFFF99;\n",
    "color:purple;\n",
    "\n",
    "}\n",
    "\n",
    ".enlarged *  {\n",
    "font-size:120%;\n",
    "line-height:120%;\n",
    "\n",
    "}\n",
    "\n",
    "\n",
    "\n",
    "</style>\n",
    "\"\"\")\n",
    "\n",
    "display(tag)"
   ]
  },
  {
   "cell_type": "markdown",
   "metadata": {},
   "source": [
    "<img src=\"http://imgur.com/1ZcRyrc.png\" style=\"float: left; margin: 20px; height: 55px\">\n",
    "\n",
    "## Review of Python Types, Lists, and Dictionaries\n",
    "\n",
    "_Author: Kiefer Katovich (San Francisco)_\n",
    "\n",
    "---\n"
   ]
  },
  {
   "cell_type": "code",
   "execution_count": null,
   "metadata": {},
   "outputs": [],
   "source": [
    "# Create a list of 6 fruit names here:\n",
    "## Remember, these are strings! \n",
    "\n",
    "fruit_names = []"
   ]
  },
  {
   "cell_type": "markdown",
   "metadata": {},
   "source": [
    "Click here for solution\n",
    "\n",
    "<span style ='color:white'>\n",
    "\n",
    "fruit_names = ['apple', 'banana', 'pear', 'orange', 'melon', 'strawberry']"
   ]
  },
  {
   "cell_type": "markdown",
   "metadata": {},
   "source": [
    "---\n",
    "\n",
    "### 1) What are the types of the following variables?"
   ]
  },
  {
   "cell_type": "code",
   "execution_count": null,
   "metadata": {},
   "outputs": [],
   "source": [
    "a = 1\n",
    "b = 2.6\n",
    "c = [1,2,3,5,6]\n",
    "d = {'kiefer':'katovich', 'dave':'yerrington'}\n",
    "e = ('one', 'two', 'three')\n",
    "f = {1:{'key':'value'}, 2:{'key2':'value2'}}\n",
    "g = True\n",
    "h = False\n",
    "i = 'integer'"
   ]
  },
  {
   "cell_type": "code",
   "execution_count": null,
   "metadata": {},
   "outputs": [],
   "source": [
    "# A:"
   ]
  },
  {
   "cell_type": "markdown",
   "metadata": {},
   "source": [
    "Click here for solution\n",
    "\n",
    "<span style ='color:white'>\n",
    "\n",
    "a: integer (or int)\n",
    "b: float\n",
    "c: list\n",
    "d: dictionary (or dict)\n",
    "e: tuple\n",
    "f: dictionary\n",
    "g: boolean (or bool)\n",
    "h: boolean\n",
    "i: string"
   ]
  },
  {
   "cell_type": "markdown",
   "metadata": {},
   "source": [
    "---\n",
    "\n",
    "### 2) What is the difference between a \"mutable\" and an \"immutable\" object?"
   ]
  },
  {
   "cell_type": "code",
   "execution_count": null,
   "metadata": {},
   "outputs": [],
   "source": [
    "# A:"
   ]
  },
  {
   "cell_type": "markdown",
   "metadata": {},
   "source": [
    "Click here for solution\n",
    "\n",
    "<span style ='color:white'>\n",
    "\n",
    "Mutable objects can be altered, whereas immutable objects cannot be changed once they are created."
   ]
  },
  {
   "cell_type": "markdown",
   "metadata": {},
   "source": [
    "---\n",
    "\n",
    "### 3) Print the `fruit_names` list."
   ]
  },
  {
   "cell_type": "code",
   "execution_count": null,
   "metadata": {},
   "outputs": [],
   "source": [
    "# A:"
   ]
  },
  {
   "cell_type": "markdown",
   "metadata": {},
   "source": [
    "Click here for solution\n",
    "\n",
    "<span style ='color:white'>\n",
    "\n",
    "print(fruit_names)"
   ]
  },
  {
   "cell_type": "markdown",
   "metadata": {},
   "source": [
    "---\n",
    "\n",
    "### 4) Print the names of the first and last fruit in the list."
   ]
  },
  {
   "cell_type": "code",
   "execution_count": null,
   "metadata": {},
   "outputs": [],
   "source": [
    "# A:"
   ]
  },
  {
   "cell_type": "markdown",
   "metadata": {},
   "source": [
    "Click here for solution\n",
    "\n",
    "<span style ='color:white'>\n",
    "\n",
    "print(fruit_names[0])<br>\n",
    "print(fruit_names[-1])"
   ]
  },
  {
   "cell_type": "markdown",
   "metadata": {},
   "source": [
    "---\n",
    "\n",
    "### 5) Print the first five names in the `fruit_names` list."
   ]
  },
  {
   "cell_type": "code",
   "execution_count": null,
   "metadata": {},
   "outputs": [],
   "source": [
    "# A:"
   ]
  },
  {
   "cell_type": "markdown",
   "metadata": {},
   "source": [
    "Click here for solution\n",
    "\n",
    "<span style ='color:white'>\n",
    "\n",
    "print(fruit_names[0:5])"
   ]
  },
  {
   "cell_type": "markdown",
   "metadata": {},
   "source": [
    "---\n",
    "\n",
    "### 6) Combine the second and fith fruit names into a single string, separated by a space. Assign that string to a variable."
   ]
  },
  {
   "cell_type": "code",
   "execution_count": null,
   "metadata": {},
   "outputs": [],
   "source": [
    "# A:"
   ]
  },
  {
   "cell_type": "markdown",
   "metadata": {},
   "source": [
    "Click here for solution\n",
    "\n",
    "<span style ='color:white'>\n",
    "\n",
    "var = fruit_names[1] + ' ' + fruit_names[4]<br>\n",
    "print(var)"
   ]
  },
  {
   "cell_type": "markdown",
   "metadata": {},
   "source": [
    "---\n",
    "\n",
    "### 7) Append an animal to the list of animals."
   ]
  },
  {
   "cell_type": "code",
   "execution_count": null,
   "metadata": {},
   "outputs": [],
   "source": [
    "animals = ['duck', 'rat', 'boar', 'slug', 'mammoth', 'gazelle']"
   ]
  },
  {
   "cell_type": "code",
   "execution_count": null,
   "metadata": {},
   "outputs": [],
   "source": [
    "# A:"
   ]
  },
  {
   "cell_type": "markdown",
   "metadata": {},
   "source": [
    "Click here for solution\n",
    "\n",
    "<span style ='color:white'>\n",
    "\n",
    "animals.append('gopher')<br>\n",
    "print(animals)"
   ]
  },
  {
   "cell_type": "markdown",
   "metadata": {},
   "source": [
    "---\n",
    "\n",
    "### 8) Print the length of the `animals` list."
   ]
  },
  {
   "cell_type": "code",
   "execution_count": null,
   "metadata": {},
   "outputs": [],
   "source": [
    "# A:"
   ]
  },
  {
   "cell_type": "markdown",
   "metadata": {},
   "source": [
    "Click here for solution\n",
    "\n",
    "<span style ='color:white'>\n",
    "\n",
    "print(len(animals))"
   ]
  },
  {
   "cell_type": "markdown",
   "metadata": {},
   "source": [
    "---\n",
    "\n",
    "### 9) Divide the length of the fifth animal by the second."
   ]
  },
  {
   "cell_type": "code",
   "execution_count": null,
   "metadata": {},
   "outputs": [],
   "source": [
    "# A:"
   ]
  },
  {
   "cell_type": "markdown",
   "metadata": {},
   "source": [
    "Click here for solution\n",
    "\n",
    "<span style ='color:white'>\n",
    "\n",
    "print(len(animals[4])/len(animals[1]))"
   ]
  },
  {
   "cell_type": "markdown",
   "metadata": {},
   "source": [
    "---\n",
    "\n",
    "### 10) Perform the same division, but ensure the output is a decimal number."
   ]
  },
  {
   "cell_type": "code",
   "execution_count": null,
   "metadata": {},
   "outputs": [],
   "source": [
    "# A:"
   ]
  },
  {
   "cell_type": "markdown",
   "metadata": {},
   "source": [
    "Click here for solution\n",
    "\n",
    "<span style ='color:white'>\n",
    "\n",
    "print(float(len(animals[4]))/len(animals[1]))"
   ]
  },
  {
   "cell_type": "markdown",
   "metadata": {},
   "source": [
    "---\n",
    "\n",
    "### 11) Demonstrate two different ways to combine the `animals` list and the `numbers` list."
   ]
  },
  {
   "cell_type": "code",
   "execution_count": null,
   "metadata": {},
   "outputs": [],
   "source": [
    "numbers = [0., 0.1, 1., 10., 100., 1000.]"
   ]
  },
  {
   "cell_type": "code",
   "execution_count": null,
   "metadata": {},
   "outputs": [],
   "source": [
    "# A:"
   ]
  },
  {
   "cell_type": "markdown",
   "metadata": {},
   "source": [
    "Click here for solution\n",
    "\n",
    "<span style ='color:white'>\n",
    "\n",
    "print(animals + numbers)<br>\n",
    "animals.extend(numbers)<br>\n",
    "print(animals)"
   ]
  },
  {
   "cell_type": "markdown",
   "metadata": {},
   "source": [
    "---\n",
    "\n",
    "### 12) Remove `'kiefer'` from the list and insert your own name in its place."
   ]
  },
  {
   "cell_type": "code",
   "execution_count": null,
   "metadata": {},
   "outputs": [],
   "source": [
    "names = ['doug', 'billy', 'kiefer', 'kian', 'sam']"
   ]
  },
  {
   "cell_type": "code",
   "execution_count": null,
   "metadata": {},
   "outputs": [],
   "source": [
    "# A:"
   ]
  },
  {
   "cell_type": "markdown",
   "metadata": {},
   "source": [
    "Click here for solution\n",
    "\n",
    "<span style ='color:white'>\n",
    "\n",
    "names.remove('kiefer')<br>\n",
    "names.insert(2, 'your name')<br>\n",
    "print(names)"
   ]
  },
  {
   "cell_type": "markdown",
   "metadata": {},
   "source": [
    "---\n",
    "\n",
    "### 13) Try to sort the following list using `.sort()`. What happens?"
   ]
  },
  {
   "cell_type": "code",
   "execution_count": null,
   "metadata": {},
   "outputs": [],
   "source": [
    "mix = [['billy', 'sam'], {'key':'value'}, 12.999, 12, 'flower', 'a', (1, 2, 3)]"
   ]
  },
  {
   "cell_type": "code",
   "execution_count": null,
   "metadata": {},
   "outputs": [],
   "source": [
    "# A: "
   ]
  },
  {
   "cell_type": "markdown",
   "metadata": {},
   "source": [
    "Click here for solution\n",
    "\n",
    "<span style ='color:white'>\n",
    "\n",
    "You cannot sort a list with different datatypes as elements"
   ]
  },
  {
   "cell_type": "markdown",
   "metadata": {},
   "source": [
    "---\n",
    "\n",
    "### 14) Manually check whether or not one element of `mix` is greater than another."
   ]
  },
  {
   "cell_type": "code",
   "execution_count": null,
   "metadata": {},
   "outputs": [],
   "source": [
    "# A:"
   ]
  },
  {
   "cell_type": "markdown",
   "metadata": {},
   "source": [
    "Click here for solution\n",
    "\n",
    "<span style ='color:white'>\n",
    "\n",
    "mix[5] > mix[2]"
   ]
  },
  {
   "cell_type": "markdown",
   "metadata": {},
   "source": [
    "---\n",
    "\n",
    "### 15) Find the index of `'a'` in the list."
   ]
  },
  {
   "cell_type": "code",
   "execution_count": null,
   "metadata": {},
   "outputs": [],
   "source": [
    "# A:"
   ]
  },
  {
   "cell_type": "markdown",
   "metadata": {},
   "source": [
    "Click here for solution\n",
    "\n",
    "<span style ='color:white'>\n",
    "\n",
    "mix.index('a')"
   ]
  },
  {
   "cell_type": "markdown",
   "metadata": {},
   "source": [
    "---\n",
    "\n",
    "### 16) Reverse the `mix` list."
   ]
  },
  {
   "cell_type": "code",
   "execution_count": null,
   "metadata": {},
   "outputs": [],
   "source": [
    "# A:"
   ]
  },
  {
   "cell_type": "markdown",
   "metadata": {},
   "source": [
    "Click here for solution\n",
    "\n",
    "<span style ='color:white'>\n",
    "\n",
    "mix.reverse()"
   ]
  },
  {
   "cell_type": "markdown",
   "metadata": {},
   "source": [
    "---\n",
    "\n",
    "### 17) Remove the last element of `mix`  and assign it to a variable."
   ]
  },
  {
   "cell_type": "code",
   "execution_count": null,
   "metadata": {},
   "outputs": [],
   "source": [
    "# A:"
   ]
  },
  {
   "cell_type": "markdown",
   "metadata": {},
   "source": [
    "Click here for solution\n",
    "\n",
    "<span style ='color:white'>\n",
    "\n",
    "var = mix.pop() # this will remove the last element\n",
    "<br>OR<br> \n",
    "var = mix[-1] <br>\n",
    "mix.remove(mix[-1])"
   ]
  },
  {
   "cell_type": "markdown",
   "metadata": {},
   "source": [
    "---\n",
    "\n",
    "### 18) Count the number of times `0` appears in the following list. (Hint: use the .count() method)"
   ]
  },
  {
   "cell_type": "code",
   "execution_count": null,
   "metadata": {},
   "outputs": [],
   "source": [
    "binary = [0,1,1,0,1,0,1,1,1,1,0,0,1,0,0,1,0,1,1,0,0,1,1,0,1,1,0,0,0,1,1,1,0,1,0,1]"
   ]
  },
  {
   "cell_type": "code",
   "execution_count": null,
   "metadata": {},
   "outputs": [],
   "source": [
    "# A:"
   ]
  },
  {
   "cell_type": "markdown",
   "metadata": {},
   "source": [
    "Click here for solution\n",
    "\n",
    "<span style ='color:white'>\n",
    "\n",
    "binary.count(0)"
   ]
  },
  {
   "cell_type": "markdown",
   "metadata": {},
   "source": [
    "---\n",
    "\n",
    "### 19) Create an SF (San Francisco) zip code dictionary.\n",
    "\n",
    "With the following key-value pairs:\n",
    "\n",
    "    'sunset':94122\n",
    "    'presidio':94129\n",
    "    'soma':94105\n",
    "    'marina':94123"
   ]
  },
  {
   "cell_type": "code",
   "execution_count": null,
   "metadata": {},
   "outputs": [],
   "source": [
    "# A: "
   ]
  },
  {
   "cell_type": "markdown",
   "metadata": {},
   "source": [
    "Click here for solution\n",
    "\n",
    "<span style ='color:white'>\n",
    "\n",
    "sf = {'sunset':94122, 'presidio':94129,\n",
    "      'soma':94105, 'marina':94123}"
   ]
  },
  {
   "cell_type": "markdown",
   "metadata": {},
   "source": [
    "---\n",
    "\n",
    "### 20) Get the zip code for `'soma'` and assign it to a variable."
   ]
  },
  {
   "cell_type": "code",
   "execution_count": null,
   "metadata": {},
   "outputs": [],
   "source": [
    "# A: "
   ]
  },
  {
   "cell_type": "markdown",
   "metadata": {},
   "source": [
    "Click here for solution\n",
    "\n",
    "<span style ='color:white'>\n",
    "\n",
    "soma_zip = sf['soma']"
   ]
  },
  {
   "cell_type": "markdown",
   "metadata": {},
   "source": [
    "---\n",
    "\n",
    "### 21) Get the keys out of the dictionary."
   ]
  },
  {
   "cell_type": "code",
   "execution_count": null,
   "metadata": {},
   "outputs": [],
   "source": [
    "# A:"
   ]
  },
  {
   "cell_type": "markdown",
   "metadata": {},
   "source": [
    "Click here for solution\n",
    "\n",
    "<span style ='color:white'>\n",
    "\n",
    "print(sf.keys())"
   ]
  },
  {
   "cell_type": "markdown",
   "metadata": {},
   "source": [
    "---\n",
    "\n",
    "### 22) Get the key-value pairs out of the dictionary as a list of tuples."
   ]
  },
  {
   "cell_type": "code",
   "execution_count": null,
   "metadata": {},
   "outputs": [],
   "source": [
    "# A:"
   ]
  },
  {
   "cell_type": "markdown",
   "metadata": {},
   "source": [
    "Click here for solution\n",
    "\n",
    "<span style ='color:white'>\n",
    "\n",
    "kv_pairs = list(sf.items())"
   ]
  },
  {
   "cell_type": "markdown",
   "metadata": {},
   "source": [
    "---\n",
    "\n",
    "### 23) Add The Castro to the dictionary with the zip code 94114."
   ]
  },
  {
   "cell_type": "code",
   "execution_count": null,
   "metadata": {},
   "outputs": [],
   "source": [
    "# A:"
   ]
  },
  {
   "cell_type": "markdown",
   "metadata": {},
   "source": [
    "Click here for solution\n",
    "\n",
    "<span style ='color:white'>\n",
    "\n",
    "sf['castro'] = 94114"
   ]
  },
  {
   "cell_type": "markdown",
   "metadata": {},
   "source": [
    "---\n",
    "\n",
    "### 24) Combine the following smaller dictionary of districts with the SF zip code dictionary."
   ]
  },
  {
   "cell_type": "code",
   "execution_count": null,
   "metadata": {},
   "outputs": [],
   "source": [
    "small = {'outer_richmond':94121, 'dogpatch':94107}"
   ]
  },
  {
   "cell_type": "code",
   "execution_count": null,
   "metadata": {},
   "outputs": [],
   "source": [
    "# A:"
   ]
  },
  {
   "cell_type": "markdown",
   "metadata": {},
   "source": [
    "Click here for solution\n",
    "\n",
    "<span style ='color:white'>\n",
    "\n",
    "sf.update(small)"
   ]
  },
  {
   "cell_type": "markdown",
   "metadata": {},
   "source": [
    "---\n",
    "\n",
    "### 25) Remove the `'sunset'` zip code and assign it to a variable."
   ]
  },
  {
   "cell_type": "code",
   "execution_count": null,
   "metadata": {},
   "outputs": [],
   "source": [
    "# A:"
   ]
  },
  {
   "cell_type": "markdown",
   "metadata": {},
   "source": [
    "Click here for solution\n",
    "\n",
    "<span style ='color:white'>\n",
    "\n",
    "sunset = sf.pop('sunset')\n",
    "<br>OR<br> \n",
    "sunset = sf[-1]\n",
    "sf.remove(sf[-1])"
   ]
  },
  {
   "cell_type": "markdown",
   "metadata": {},
   "source": [
    "---\n",
    "\n",
    "### 26) Check if the `'dogpatch'` is in the dictionary."
   ]
  },
  {
   "cell_type": "code",
   "execution_count": null,
   "metadata": {},
   "outputs": [],
   "source": [
    "# A:"
   ]
  },
  {
   "cell_type": "markdown",
   "metadata": {},
   "source": [
    "Click here for solution\n",
    "\n",
    "<span style ='color:white'>\n",
    "\n",
    "'dogpatch' in sf"
   ]
  },
  {
   "cell_type": "code",
   "execution_count": null,
   "metadata": {},
   "outputs": [],
   "source": []
  }
 ],
 "metadata": {
  "kernelspec": {
   "display_name": "Python 3",
   "language": "python",
   "name": "python3"
  },
  "language_info": {
   "codemirror_mode": {
    "name": "ipython",
    "version": 3
   },
   "file_extension": ".py",
   "mimetype": "text/x-python",
   "name": "python",
   "nbconvert_exporter": "python",
   "pygments_lexer": "ipython3",
   "version": "3.8.3"
  },
  "toc": {
   "base_numbering": 1,
   "nav_menu": {},
   "number_sections": true,
   "sideBar": true,
   "skip_h1_title": false,
   "title_cell": "Table of Contents",
   "title_sidebar": "Contents",
   "toc_cell": false,
   "toc_position": {},
   "toc_section_display": true,
   "toc_window_display": false
  }
 },
 "nbformat": 4,
 "nbformat_minor": 1
}
