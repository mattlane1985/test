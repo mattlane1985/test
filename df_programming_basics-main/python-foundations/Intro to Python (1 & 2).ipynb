{
 "cells": [
  {
   "cell_type": "code",
   "execution_count": null,
   "metadata": {},
   "outputs": [],
   "source": [
    "from IPython.display import HTML\n",
    "from IPython.display import Javascript\n",
    "\n",
    "from IPython.display import display\n",
    "\n",
    "# Taken from https://stackoverflow.com/questions/31517194/how-to-hide-one-specific-cell-input-or-output-in-ipython-notebook\n",
    "tag = HTML(\"\"\"<script>\n",
    "code_show=true; \n",
    "function code_toggle() {\n",
    "    if (code_show){\n",
    "        $('div.cell.code_cell.rendered.selected div.input').hide();\n",
    "    } else {\n",
    "        $('div.cell.code_cell.rendered.selected div.input').show();\n",
    "    }\n",
    "    code_show = !code_show\n",
    "} \n",
    "$( document ).ready(code_toggle);\n",
    "\n",
    "var flagHighlight=0;\n",
    "var flagHighlightCode = 0;\n",
    "var flagMagnifyCell = 0;\n",
    "var flagMagnifyCode =0;\n",
    "var flagMagnifyOutputs=0;\n",
    "var flagEnlarge = 0;\n",
    "var flagHighlightOutput = 0;\n",
    "\n",
    "function enlarge_markdown(){\n",
    "    \n",
    "if(flagEnlarge==0){\n",
    "flagEnlarges = 1;\n",
    "document.getElementById('button7').classList.toggle('active_button');\n",
    "var els = document.getElementsByClassName('text_cell');\n",
    "var i;\n",
    "for(i=0;i<els.length;i++){\n",
    "els[i].classList.toggle('enlarged');}}\n",
    "else{\n",
    "flagEnlarge = 0;\n",
    "document.getElementById('button7').classList.toggle('active_button');\n",
    "var els = document.getElementsByClassName('text_cell');\n",
    "var i;\n",
    "for(i=0;i<els.length;i++){\n",
    "els[i].classList.remove('enlarged');\n",
    "}};};\n",
    "\n",
    "\n",
    "function magnify_outputs(){\n",
    "    \n",
    "if(flagMagnifyOutputs==0){\n",
    "flagMagnifyOutputs = 1;\n",
    "document.getElementById('button5').classList.toggle('active_button');\n",
    "var els = document.getElementsByClassName('output_wrapper');\n",
    "var i;\n",
    "for(i=0;i<els.length;i++){\n",
    "els[i].classList.toggle('magnified_output');}}\n",
    "else{\n",
    "flagMagnifyOutputs = 0;\n",
    "document.getElementById('button5').classList.toggle('active_button');\n",
    "var els = document.getElementsByClassName('output_wrapper');\n",
    "var i;\n",
    "for(i=0;i<els.length;i++){\n",
    "els[i].classList.remove('magnified_output');\n",
    "}};};\n",
    "\n",
    "function magnify_output_lines(){\n",
    "    \n",
    "if(flagHighlightOutput==0){\n",
    "flagHighlightOutput = 1;\n",
    "document.getElementById('button6').classList.toggle('active_button');\n",
    "var els = document.getElementsByClassName('output_wrapper');\n",
    "var i;\n",
    "for(i=0;i<els.length;i++){\n",
    "els[i].classList.toggle('magnified_output_lines');}}\n",
    "else{flagHighlightOutput = 0;\n",
    "document.getElementById('button6').classList.toggle('active_button');\n",
    "var els = document.getElementsByClassName('output_wrapper');\n",
    "var i;\n",
    "for(i=0;i<els.length;i++){\n",
    "els[i].classList.remove('magnified_output_lines');\n",
    "}};};\n",
    "\n",
    "\n",
    "function highlight_cell(){\n",
    "    \n",
    "if(flagHighlight==0){\n",
    "flagHighlight = 1;\n",
    "document.getElementById('button4').classList.toggle('active_button');\n",
    "var els = document.getElementsByClassName('CodeMirror-lines');\n",
    "var i;\n",
    "for(i=0;i<els.length;i++){\n",
    "els[i].classList.toggle('highlighted');}}\n",
    "else{flagHighlight = 0;\n",
    "document.getElementById('button4').classList.toggle('active_button');\n",
    "var els = document.getElementsByClassName('CodeMirror-lines');\n",
    "var i;\n",
    "for(i=0;i<els.length;i++){\n",
    "els[i].classList.remove('highlighted');\n",
    "}};};\n",
    "\n",
    "\n",
    "function highlight_code(){   \n",
    "if(flagHighlightCode==0){\n",
    "\n",
    "flagHighlightCode = 1;\n",
    "document.getElementById('button3').classList.toggle('active_button');\n",
    "var els = document.getElementsByClassName('CodeMirror-lines');\n",
    "var i;\n",
    "for(i=0;i<els.length;i++){\n",
    "els[i].classList.toggle('highlighted_code');}}   \n",
    "else{flagHighlightCode = 0;\n",
    "document.getElementById('button3').classList.toggle('active_button');\n",
    "var els = document.getElementsByClassName('CodeMirror-lines');\n",
    "var i;\n",
    "for(i=0;i<els.length;i++){\n",
    "els[i].classList.remove('highlighted_code');\n",
    "}};};\n",
    "\n",
    "function magnify_cell(){   \n",
    "if(flagMagnifyCell==0){\n",
    "flagMagnifyCell = 1;\n",
    "document.getElementById('button2').classList.toggle('active_button');\n",
    "var els = document.getElementsByClassName('CodeMirror-lines');\n",
    "var i;\n",
    "for(i=0;i<els.length;i++){\n",
    "els[i].classList.toggle('magnified_cell');}}   \n",
    "else{flagMagnifyCell = 0;\n",
    "document.getElementById('button2').classList.toggle('active_button');\n",
    "var els = document.getElementsByClassName('CodeMirror-lines');\n",
    "var i;\n",
    "for(i=0;i<els.length;i++){\n",
    "els[i].classList.remove('magnified_cell');\n",
    "}};};\n",
    "\n",
    "function magnify_code(){   \n",
    "if(flagMagnifyCode==0){\n",
    "flagMagnifyCode = 1;\n",
    "document.getElementById('button1').classList.toggle('active_button');\n",
    "var els = document.getElementsByClassName('CodeMirror-lines');\n",
    "var i;\n",
    "for(i=0;i<els.length;i++){\n",
    "els[i].classList.toggle('magnified_code');}}   \n",
    "else{flagMagnifyCode = 0;\n",
    "document.getElementById('button1').classList.toggle('active_button');\n",
    "var els = document.getElementsByClassName('CodeMirror-lines');\n",
    "var i;\n",
    "for(i=0;i<els.length;i++){\n",
    "els[i].classList.remove('magnified_code');\n",
    "}};};\n",
    "\n",
    "\n",
    "document.getElementsByTagName(\"BODY\")[0].insertAdjacentHTML(\"afterend\", \"<div id='help_box'></div>\");\n",
    "document.getElementsByTagName(\"BODY\")[0].insertAdjacentHTML(\"afterend\",\"<img src= 'https://img.flaticon.com/icons/png/512/25/25186.png?size=1200x630f&pad=10,10,10,10&ext=png&bg=FFFFFFFF' id='mvlogo'>\")\n",
    "document.getElementsByTagName(\"BODY\")[0].insertAdjacentHTML(\"afterend\", \"<div class='hidden' id='tooltip2'><p>click the eye to hide/show tools</p></div>\");\n",
    "var help_box = document.getElementById('help_box');\n",
    "\n",
    "help_box.classList.add('floater');\n",
    "\n",
    "help_box.innerHTML = \"<h2 id='heading'><b>Visual tools</b></h2><button id='button1' class='clean_buttons'>Magnify lines </button><button id='button2'class = 'clean_buttons' >Enlarge cells</button><button id='button3' class = 'clean_buttons' >highlight lines</button><button id='button4' class = 'clean_buttons' >highlight cell</button>\";\n",
    "help_box.innerHTML +=\"<button id='button5' class='clean_buttons'>Enlarge</button><button id='button6' class='clean_buttons'>Highlight</button>\"\n",
    "help_box.innerHTML += \"<button id='button7' class='clean_buttons'>enlarge</button\"\n",
    "help_box.innerHTML+= \"<p class='sections' id='code_heading'><b>Code</b></p>\"\n",
    "help_box.innerHTML+= \"<p class='sections' id='output_heading'><b>Outputs</b></p>\"\n",
    "help_box.innerHTML+= \"<p class='sections' id='markdown_heading'><b>Markdowns</b></p>\"\n",
    "help_box.innerHTML +=\"<p id='credit'>logo credit to https://www.flaticon.com/free-icon/eye-open_25186 <br>  used under open license: Attribution 3.0 Unported (CC BY 3.0)<br> Coded by N.Griffiths employed by Muliverse </p>\"\n",
    "document.body.appendChild(help_box);\n",
    "\n",
    "document.getElementById('button7').addEventListener('click',function(){\n",
    "   enlarge_markdown();});\n",
    "    \n",
    "document.getElementById('button6').addEventListener('click',function(){\n",
    "    magnify_output_lines();});\n",
    "\n",
    "document.getElementById('button5').addEventListener('click',function(){\n",
    "    magnify_outputs();});\n",
    "    \n",
    "document.getElementById('button4').addEventListener('click',function(){\n",
    "    highlight_cell();});\n",
    "\n",
    "document.getElementById('button3').addEventListener('click',function(){\n",
    "    highlight_code();});\n",
    "\n",
    "document.getElementById('button2').addEventListener('click',function(){\n",
    "    magnify_cell();});\n",
    "\n",
    "document.getElementById('button1').addEventListener('click',function(){\n",
    "    magnify_code();});\n",
    " \n",
    "document.getElementById('mvlogo').addEventListener('click',function(){  \n",
    "document.getElementById('help_box').classList.toggle('hidden');}); \n",
    " \n",
    " \n",
    "document.getElementById('mvlogo').addEventListener('mouseover',function(){  \n",
    "document.getElementById('tooltip2').classList.toggle('hidden');});\n",
    "\n",
    "document.getElementById('mvlogo').addEventListener('mouseout',function(){  \n",
    "document.getElementById('tooltip2').classList.toggle('hidden');});\n",
    "\n",
    "\n",
    "</script>\n",
    "<a id='boilerplate' href=\"javascript:code_toggle()\">change js running visual-aids</a>.\n",
    "\n",
    "\n",
    "<style>\n",
    "\n",
    ".hidden{\n",
    "display:none;\n",
    "}\n",
    "\n",
    "#credit{\n",
    "position: fixed;\n",
    "top:65.5vh;\n",
    "left:81vw;\n",
    "font-size:0.9vmin;\n",
    "}\n",
    "#boilerplate{\n",
    "color:white;\n",
    "}\n",
    "\n",
    "#boilerplate:hover{\n",
    "color:blue;\n",
    "}\n",
    "\n",
    "#tooltip2{\n",
    "position:fixed;\n",
    "z-index:1001;\n",
    "left:80vw;\n",
    "top:18vh;\n",
    "font-size:1.5vh;\n",
    "background-color:white;\n",
    "}\n",
    "\n",
    ".floater{\n",
    "background-color:#FFFFFF;\n",
    "color:#003b49;\n",
    "border-style:solid;\n",
    "border-color:#003b49;\n",
    "borderwidth:0.1vh;\n",
    "z-index:1000;\n",
    "position:fixed;\n",
    "left: 80vw;\n",
    "Top: 20vh;\n",
    "height: 53vh;\n",
    "width: 18vw;\n",
    "\n",
    "}\n",
    "\n",
    "#heading{\n",
    "position:fixed;\n",
    "top:21vh;\n",
    "left:80vw;\n",
    "margin: 1vh 1vh 1vh  1vh;\n",
    "font-size:3vmin;}\n",
    "\n",
    ".clean_buttons{\n",
    "padding: 0px 0px 0px 0px;\n",
    "background-color:#d0d3d4;\n",
    "color:#003b49;\n",
    "cursor: pointer;\n",
    "width:8vw;\n",
    "height:6vh;\n",
    "font-size:2vmin;\n",
    "border-width:0.1vh;\n",
    "}\n",
    "#button1{\n",
    "position:fixed;\n",
    "top:31vh;\n",
    "left:80.5vw;\n",
    "}\n",
    "#button2{\n",
    "position:fixed;\n",
    "top:31vh;\n",
    "left:89vw;\n",
    "}\n",
    "#button3{\n",
    "position:fixed;\n",
    "top:38vh;\n",
    "left:80.5vw;\n",
    "}\n",
    "#button4{\n",
    "position:fixed;\n",
    "top:38vh;\n",
    "left:89vw;\n",
    "}\n",
    "#button5{\n",
    "position:fixed;\n",
    "top:48.5vh;\n",
    "left:80.5vw;\n",
    "}\n",
    "#button6{\n",
    "position:fixed;\n",
    "top:48.5vh;\n",
    "left:89vw;\n",
    "}\n",
    "#button7{\n",
    "position:fixed;\n",
    "top:58vh;\n",
    "left: 84vw;\n",
    "}\n",
    ".active_button{\n",
    "background:#003b49;\n",
    "color:#d0d3d4;\n",
    "}\n",
    "\n",
    ".sections{\n",
    "font-size: 2vmin;\n",
    "left:82vw;\n",
    "}\n",
    "#code_heading{\n",
    "position:fixed;\n",
    "top:28vh;\n",
    "}\n",
    "#output_heading{\n",
    "position:fixed;\n",
    "top:45vh;\n",
    "}\n",
    "#markdown_heading{\n",
    "position:fixed;\n",
    "top:55vh;\n",
    "}\n",
    "\n",
    "#mvlogo{\n",
    "width:18vw;\n",
    "height:8vh;\n",
    "object-fit: cover;\n",
    "position:fixed;\n",
    "z-index:1000;\n",
    "left: 80vw;\n",
    "top: 10vh;\n",
    "border: 0.5vh solid #003b49;\n",
    "cursor: pointer;\n",
    "}\n",
    "\n",
    ".highlighted :hover{\n",
    "background-color:#fcfaeb;\n",
    "}\n",
    "\n",
    ".highlighted_code div pre :hover{\n",
    "background-color:yellow;\n",
    "}\n",
    "\n",
    ".magnified_code div pre span:hover{\n",
    "margin-top:3vh;\n",
    "margin-bottom:3vh;\n",
    "height:30px;\n",
    "width:auto;\n",
    "font-size:130%;}\n",
    "\n",
    ".magnified_cell div pre{\n",
    "padding: 6px 0px 6px 0px;\n",
    "}\n",
    "\n",
    ".magnified_cell div{\n",
    "font-size:120%;\n",
    "line-height:120%;\n",
    "}\n",
    "\n",
    ".magnified_output *{\n",
    "font-size: 115%;\n",
    "}\n",
    "\n",
    ".magnified_output_lines :hover{\n",
    "background-color:#FFFF99;\n",
    "color:purple;\n",
    "\n",
    "}\n",
    "\n",
    ".enlarged *  {\n",
    "font-size:120%;\n",
    "line-height:120%;\n",
    "\n",
    "}\n",
    "\n",
    "\n",
    "\n",
    "</style>\n",
    "\"\"\")\n",
    "\n",
    "display(tag)"
   ]
  },
  {
   "cell_type": "markdown",
   "metadata": {},
   "source": [
    "<img src=\"http://imgur.com/1ZcRyrc.png\" style=\"float: left; margin: 20px; height: 55px\">\n",
    "\n",
    "# Introduction to Python\n",
    "\n",
    "_Authors: Kiefer Katovich (San Francisco), Dave Yerrington (San Francisco), Joseph Nelson (Washington, D.C.), Sam Stack (Washington, D.C.)_\n",
    "\n",
    "---"
   ]
  },
  {
   "cell_type": "markdown",
   "metadata": {},
   "source": [
    "\n",
    "### Learning Objectives\n",
    "\n",
    "#### Part 1: Python Data Types\n",
    "**After this lesson, you will be able to:**\n",
    "- Discuss Python as a programming language.\n",
    "- Define integers, strings, tuples, lists, and dictionaries.\n",
    "- Demonstrate arithmetic operations and string operations.\n",
    "- Demonstrate variable assignment."
   ]
  },
  {
   "cell_type": "markdown",
   "metadata": {},
   "source": [
    "### Lesson Guide\n",
    "\n",
    "#### [Part 1: Python Data Types](#why_py)\n",
    "- [Why Python?](#why_py)\n",
    "- [Introduction to Data Types](#intro)\n",
    "- [Jupyter Notebook](#jupyter_nb)\n",
    "- [Python Variables](#variables)\n",
    "- [Operators](#operators)\n",
    "- [Integers and Floats](#numbers)\n",
    "- [Strings](#strings)\n",
    "\t-[String Indexing](#slicing)\n",
    "- [Printing Strings](#print)\n",
    "- [Lists](#lists)\n",
    "- [Tuples](#tuples)\n",
    "- [Dictionaries](#dictionary)\n",
    "- [Importing Packages and Documentation](#import)\n",
    "- [Practice With a Partner](#ind-practice)\n",
    "\n",
    "----"
   ]
  },
  {
   "cell_type": "markdown",
   "metadata": {},
   "source": [
    "<a id='why_py'></a>\n",
    "\n",
    "## Why Python?\n",
    "\n",
    "Python was created by Guido van Rossum and released back in 1991. Since then, Python has greatly grown as a high-level, general-purpose programming language with a huge open-source community supporting it. The language was developed to emphasize readability of code (specifically, white-space use and syntax). \"The Zen of Python\" is a poem that explains the nature of the Python functionality:\n",
    "\n",
    "\n",
    "#### _The Zen of Python_  \n",
    "_Beautiful is better than ugly.  \n",
    "Explicit is better than implicit.  \n",
    "Simple is better than complex.  \n",
    "Complex is better than complicated.  \n",
    "Flat is better than nested.  \n",
    "Sparse is better than dense.  \n",
    "Readability counts.  \n",
    "Special cases aren't special enough to break the rules. Although practicality beats purity.   \n",
    "Errors should never pass silently.  \n",
    "Unless explicitly silenced.  \n",
    "In the face of ambiguity, refuse the temptation to guess.  \n",
    "There should be one — and preferably only one — obvious way to do it. Although that way may not be obvious at first unless you're Dutch.\n",
    "Now is better than never.  \n",
    "Although never is often better than right now.  \n",
    "If the implementation is hard to explain, it's a bad idea.  \n",
    "If the implementation is easy to explain, it may be a good idea.   \n",
    "Namespaces are one honking great idea — let's do more of those. _"
   ]
  },
  {
   "cell_type": "markdown",
   "metadata": {},
   "source": [
    "---\n",
    "\n",
    "## Why Use Python for Data Science?\n",
    "\n",
    "##### General Purpose, Open Source, and Readability\n",
    "\n",
    "These are some of the more prominent reasons Python has been so widely adopted for data science.\n",
    "\n",
    "**General purpose:** Python was not intended to just be used for software or website development. Instead, it comes with the basic building blocks you need to develop anything you want with it.\n",
    "\n",
    "**Open source:** Going back to the \"basic building blocks\" point — a large open-source community has already created hundreds of libraries containing combinations of the foundation blocks to create more specific tool sets. Here are a few examples:\n",
    "- Requests: Interacting with websites.\n",
    "- Django: Python web framework.\n",
    "- Pandas: Data scientists' best friend.\n",
    "- Pyglet: GUI application building.\n",
    "- TensorFlow: Google's machine learning library.\n",
    "\n",
    "\n",
    "**Readability:** They're called programming languages because learning them is similar to learning a written language, but instead of learning how to communicate with a person, you're learning how to communicate with a computer. When a foreign language is similar to your native language, it's much easier to pick up. The same can be said for Python, whose general flow makes it a lot easier for humans to read and interpret code.\n"
   ]
  },
  {
   "cell_type": "markdown",
   "metadata": {},
   "source": [
    "---\n",
    "\n",
    "<a id='intro'></a>\n",
    "# Section 1: Python Data Types\n",
    "\n",
    "There are several _standard_ data types within Python, the six most common being:\n",
    "\n",
    "**Integers:** Whole numbers from negative infinity to infinity, such as 1, 0, -5, etc.\n",
    "\n",
    "**Floats:** Short for \"floating point number,\" usually used with decimals such as 2.8 or 3.14159.\n",
    "\n",
    "**Strings:** A set of letters, numbers, or other characters, e.g., \"The fox is quick.\"\n",
    "\n",
    "**Tuples:** An ordered sequence with a fixed number of elements, e.g., in x = (1, 2, 3), the parentheses makes it a tuple. x = (\"Kirk\", \"Picard\", \"Spock\")\n",
    "\n",
    "**Lists:** An ordered sequence without a fixed number of elements, e.g., x = [1, 2, 3]. Note the square brackets. x = [\"Lord\", \"of\", \"the\", \"Rings\"]\n",
    "\n",
    "**Dictionaries**: An unordered collection of key-value pairs, e.g., x = {'Mark': 'Twain', 'Apples': 5}. To retrieve each value (the part after each colon), use its key (the part before each colon). For example, x['Apples'] retrieves the value 5.\n",
    "\n",
    "Throughout this lesson, we will review each data type more in depth and discuss common ways of interacting with each of them.\n",
    "\n",
    "[Python's basic data types](https://en.wikiversity.org/wiki/Python/Basic_data_types)."
   ]
  },
  {
   "cell_type": "markdown",
   "metadata": {},
   "source": [
    "<a id=\"types-codealong\"></a>\n",
    "## Common Types Code-Along\n",
    "\n",
    "---\n",
    "\n",
    "In this section, we'll practice establishing some types and common practices. To run each cell, use `shift+enter` or the `run` button in the Jupyter Notebook toolbar.\n",
    "\n",
    "To come out of a cell, use `Escape` and you should notice the cell turns blue. From here you can add a new cell above using `a`, add a new cell below using `b` or delete the current cell by using `dd`. \n",
    "\n",
    "Some common reasons why we need to keep types in mind:\n",
    "\n",
    "1) Different types can lead to different results: <br>\n",
    "     - `1 + 1` results in `2`, while `'1' + '1'` results in the string `11`.\n",
    "2) Operations may not work with specific types: <br>\n",
    "     - `len('a word')` will return the number of characters in a word, while `len(25)` will return an error because numbers do not have a length."
   ]
  },
  {
   "cell_type": "code",
   "execution_count": null,
   "metadata": {},
   "outputs": [],
   "source": [
    "# This is a cell."
   ]
  },
  {
   "cell_type": "code",
   "execution_count": null,
   "metadata": {},
   "outputs": [],
   "source": [
    "# Assigning a variable:\n",
    "v = 1"
   ]
  },
  {
   "cell_type": "code",
   "execution_count": null,
   "metadata": {},
   "outputs": [],
   "source": [
    "# Assign another:\n",
    "dsi_ga = 'DS1 is awesome!'"
   ]
  },
  {
   "cell_type": "code",
   "execution_count": null,
   "metadata": {},
   "outputs": [],
   "source": [
    "# Run this!\n",
    "ds1_ga"
   ]
  },
  {
   "cell_type": "code",
   "execution_count": null,
   "metadata": {},
   "outputs": [],
   "source": [
    "# Print this:\n",
    "print(v)"
   ]
  },
  {
   "cell_type": "markdown",
   "metadata": {},
   "source": [
    "You can also perform basic math using integers in the iPython notebook."
   ]
  },
  {
   "cell_type": "code",
   "execution_count": null,
   "metadata": {},
   "outputs": [],
   "source": [
    "45 - 19"
   ]
  },
  {
   "cell_type": "code",
   "execution_count": null,
   "metadata": {},
   "outputs": [],
   "source": [
    "# Assigning a float:\n",
    "x = 1.0\n",
    "type(x)"
   ]
  },
  {
   "cell_type": "code",
   "execution_count": null,
   "metadata": {},
   "outputs": [],
   "source": [
    "# Assigning an int:\n",
    "y = 1\n",
    "type(y)"
   ]
  },
  {
   "cell_type": "code",
   "execution_count": null,
   "metadata": {},
   "outputs": [],
   "source": [
    "# Assigning a string:\n",
    "z = '1'\n",
    "type(z)"
   ]
  },
  {
   "cell_type": "markdown",
   "metadata": {},
   "source": [
    "<a id='variables'></a>\n",
    "## Variables- Rules\n",
    "\n",
    "Variables are names that have been assigned to specific values or data. These names can be almost anything you want, but there are some restrictions and best practices.\n",
    "\n",
    "**Restrictions**\n",
    "- Variable names cannot contain spaces.\n",
    "- A variable name must start with a letter or the underscore character.\n",
    "- A variable name cannot start with a number.\n",
    "- A variable name can only contain alphanumeric characters and underscores (A-z, 0-9, and _ )\n",
    "- Variable names are case-sensitive (age, Age and AGE are three different variables)\n",
    "- Variable names cannot be one of Python’s Reserved Keywords\n",
    "\n",
    "**Best Practices**\n",
    "- Variable names should be lowercase.\n",
    "- A variable's name should be representative of the value(s) it has been assigned, and informative of its content and use.\n",
    "- If you must use multiple words in your variable name, use an underscore to separate them (snake_case)\n",
    "- Variables should not be assigned the same name as a default or imported function or class (i.e., 'type', 'print', 'for'), or you risk overwriting these.\n"
   ]
  },
  {
   "cell_type": "markdown",
   "metadata": {},
   "source": [
    "**It is critical to remember that, when we're assigning variables, we are not stating that _\"x equals 1,\"_ we're stating that _\"x has been assigned the value of 1.\"_**"
   ]
  },
  {
   "cell_type": "markdown",
   "metadata": {},
   "source": [
    "<a id='operators'></a>\n",
    "## Operators Demo\n",
    "\n",
    "\"Operators are the constructs (that) can manipulate the value of operands.\" — [Tutorials Point: Python](https://www.tutorialspoint.com/python/python_basic_operators.htm)"
   ]
  },
  {
   "cell_type": "markdown",
   "metadata": {},
   "source": [
    "Operators can be used in a mathematical sense to calculate (or create) the sum, difference, product, or quotient of values or variables."
   ]
  },
  {
   "cell_type": "code",
   "execution_count": null,
   "metadata": {},
   "outputs": [],
   "source": [
    "# Addition:\n",
    "print(1 + 2)\n",
    "# Subtraction:\n",
    "print(1 - 2)\n",
    "# Multiplication:\n",
    "print(1 * 2)\n",
    "# Division:\n",
    "print(1 / 2)"
   ]
  },
  {
   "cell_type": "markdown",
   "metadata": {},
   "source": [
    "There is also \"`//`\" division (a.k.a. integer division), whose output will be the rounded-down whole number. (In mathematics, this is called the quotient.)"
   ]
  },
  {
   "cell_type": "code",
   "execution_count": null,
   "metadata": {},
   "outputs": [],
   "source": [
    "# Division of float numbers:\n",
    "print(3.0 // 2)\n",
    "print(-3.0 // 2)"
   ]
  },
  {
   "cell_type": "markdown",
   "metadata": {},
   "source": [
    "The `=` sign in Python is known as the assignment operator. It is the means by which we can assign values to variables."
   ]
  },
  {
   "cell_type": "code",
   "execution_count": null,
   "metadata": {},
   "outputs": [],
   "source": [
    "number = 2.0\n",
    "type(number)"
   ]
  },
  {
   "cell_type": "code",
   "execution_count": null,
   "metadata": {},
   "outputs": [],
   "source": [
    "# Exponent power operator:\n",
    "2 ** 2"
   ]
  },
  {
   "cell_type": "code",
   "execution_count": null,
   "metadata": {},
   "outputs": [],
   "source": [
    "# Module can be used to get the remainder:\n",
    "5%2"
   ]
  },
  {
   "cell_type": "markdown",
   "metadata": {},
   "source": [
    "## Booleans and Boolean Evaluation Operators\n",
    "\n",
    "Booleans exist as either true or false and are generally used as a means of evaluation."
   ]
  },
  {
   "cell_type": "code",
   "execution_count": null,
   "metadata": {},
   "outputs": [],
   "source": [
    "True and False"
   ]
  },
  {
   "cell_type": "code",
   "execution_count": null,
   "metadata": {},
   "outputs": [],
   "source": [
    "not False"
   ]
  },
  {
   "cell_type": "code",
   "execution_count": null,
   "metadata": {},
   "outputs": [],
   "source": [
    "True or False"
   ]
  },
  {
   "cell_type": "markdown",
   "metadata": {},
   "source": [
    "## Comparison Operators\n",
    "\n",
    "- Less than: **`<`**\n",
    "- Greater than: **`>`**\n",
    "- Less than or equal to: **`<=`**\n",
    "- Greater than or equal to: **`<=`**\n",
    "- Equals: **`==`**\n",
    "- Does not equal: **`!=`**\n"
   ]
  },
  {
   "cell_type": "code",
   "execution_count": null,
   "metadata": {},
   "outputs": [],
   "source": [
    "2 > 1, 2 < 1, 2 > 2, 2 < 2, 2 >= 2, 2 <= 2"
   ]
  },
  {
   "cell_type": "code",
   "execution_count": null,
   "metadata": {},
   "outputs": [],
   "source": [
    "# equality\n",
    "2 == 2, 2 != 3"
   ]
  },
  {
   "cell_type": "markdown",
   "metadata": {},
   "source": [
    "## Coercion- Changing Data Types"
   ]
  },
  {
   "cell_type": "code",
   "execution_count": null,
   "metadata": {},
   "outputs": [],
   "source": [
    "x_int = 1\n",
    "x_float =1.0\n",
    "\n",
    "type(x_int), type(x_float)"
   ]
  },
  {
   "cell_type": "markdown",
   "metadata": {},
   "source": [
    "If an integer or float is compatible, it can be converted to the other type."
   ]
  },
  {
   "cell_type": "code",
   "execution_count": null,
   "metadata": {},
   "outputs": [],
   "source": [
    "float(x_int)"
   ]
  },
  {
   "cell_type": "code",
   "execution_count": null,
   "metadata": {},
   "outputs": [],
   "source": [
    "type(int(x_float))"
   ]
  },
  {
   "cell_type": "code",
   "execution_count": null,
   "metadata": {},
   "outputs": [],
   "source": [
    "str(x_int)"
   ]
  },
  {
   "cell_type": "code",
   "execution_count": null,
   "metadata": {},
   "outputs": [],
   "source": [
    "type(str(x_int))"
   ]
  },
  {
   "cell_type": "markdown",
   "metadata": {},
   "source": [
    "<a id='strings'></a>\n",
    "\n",
    "# Section 2: Strings\n",
    "\n",
    "Strings are essentially any character combination in between quotes. They are most often used as a way of storing text."
   ]
  },
  {
   "cell_type": "code",
   "execution_count": null,
   "metadata": {},
   "outputs": [],
   "source": [
    "s = \"Hello world\"\n",
    "type(s)"
   ]
  },
  {
   "cell_type": "markdown",
   "metadata": {},
   "source": [
    "Strings have a lot of associated methods and attributes that allow us to better understand and manipulate them."
   ]
  },
  {
   "cell_type": "code",
   "execution_count": null,
   "metadata": {},
   "outputs": [],
   "source": [
    "# Length of the string:\n",
    "len(s)"
   ]
  },
  {
   "cell_type": "code",
   "execution_count": null,
   "metadata": {},
   "outputs": [],
   "source": [
    "# Replace an element of a string:\n",
    "s2 = s.replace(\"world\", \"test\")\n",
    "print(s2)"
   ]
  },
  {
   "cell_type": "markdown",
   "metadata": {},
   "source": [
    "<a id='slicing'></a>\n",
    "\n",
    "\n",
    "**String Indexing**  \n",
    "\n",
    "We can extract characters at specific index locations in a string using indexing."
   ]
  },
  {
   "cell_type": "code",
   "execution_count": null,
   "metadata": {},
   "outputs": [],
   "source": [
    "# Indexing the first (index 0) character in the string:\n",
    "s[0]"
   ]
  },
  {
   "cell_type": "markdown",
   "metadata": {},
   "source": [
    "The number you enter after the variable name in brackets (the `[0]`) is called the **index** (its plural is **indices**).\n",
    "\n",
    "_Counting in Python and many other programming languages begins at zero, as opposed to one. This is called **zero-based indexing**._"
   ]
  },
  {
   "cell_type": "code",
   "execution_count": null,
   "metadata": {},
   "outputs": [],
   "source": [
    "# This is called *splicing*. We start at the left index \n",
    "#   and go up to but don't include the right index:\n",
    "\n",
    "# Objects at indexes 0, 1, and 2\n",
    "s[0:3]"
   ]
  },
  {
   "cell_type": "markdown",
   "metadata": {},
   "source": [
    "Most ranges or functions with ranges have upper ends that are not inclusive. So, a range of `[0:5]` starts at `0` and stops before `5`."
   ]
  },
  {
   "cell_type": "code",
   "execution_count": null,
   "metadata": {},
   "outputs": [],
   "source": [
    "# From index 6 up to the end of the string:\n",
    "s[6:]"
   ]
  },
  {
   "cell_type": "code",
   "execution_count": null,
   "metadata": {},
   "outputs": [],
   "source": [
    "# No start or end specified:\n",
    "s[:]"
   ]
  },
  {
   "cell_type": "code",
   "execution_count": null,
   "metadata": {},
   "outputs": [],
   "source": [
    "# Can we index from the right side?\n",
    "s[-1]"
   ]
  },
  {
   "cell_type": "markdown",
   "metadata": {},
   "source": [
    "In addition to specifying a range, you can add a step size or character skip rate."
   ]
  },
  {
   "cell_type": "code",
   "execution_count": null,
   "metadata": {},
   "outputs": [],
   "source": [
    "# Every second character starting at 0 and ending at 10:\n",
    "s[0:10:2]"
   ]
  },
  {
   "cell_type": "code",
   "execution_count": null,
   "metadata": {},
   "outputs": [],
   "source": [
    "# Define a step size of 2, i.e., every other character:\n",
    "s[::2]"
   ]
  },
  {
   "cell_type": "code",
   "execution_count": null,
   "metadata": {},
   "outputs": [],
   "source": [
    "# The same, but for a list of numbers: \n",
    "[0, 1, 2, 3, 4, 5, 6][::2]"
   ]
  },
  {
   "cell_type": "markdown",
   "metadata": {},
   "source": [
    "#### Concatenating\n",
    "To add two strings together, type the first string, an addition sign, and then the second string."
   ]
  },
  {
   "cell_type": "code",
   "execution_count": null,
   "metadata": {},
   "outputs": [],
   "source": [
    "print('Hello' + 'world')"
   ]
  },
  {
   "cell_type": "markdown",
   "metadata": {},
   "source": [
    "You can do the same with variables that refer to strings.\n",
    "\n",
    "In the iPython notebook, type:"
   ]
  },
  {
   "cell_type": "code",
   "execution_count": null,
   "metadata": {},
   "outputs": [],
   "source": [
    "x = 'Hello'\n",
    "y = 'world'\n",
    "\n",
    "x + y"
   ]
  },
  {
   "cell_type": "code",
   "execution_count": null,
   "metadata": {},
   "outputs": [],
   "source": [
    "# Conversion from int to str is required!\n",
    "\n",
    "dice_roll = 3\n",
    "\n",
    "print('You rolled a ' + str(dice_roll) + '.')  "
   ]
  },
  {
   "cell_type": "markdown",
   "metadata": {},
   "source": [
    "There is also \"C-style\" formatting, which allows us to create a string with placeholder values that we can populate."
   ]
  },
  {
   "cell_type": "code",
   "execution_count": null,
   "metadata": {},
   "outputs": [],
   "source": [
    "# C-style formatting:\n",
    "print(\"value = %f\" % 1.0)\n",
    "# \"%f\" is the placeholder for a float."
   ]
  },
  {
   "cell_type": "code",
   "execution_count": null,
   "metadata": {},
   "outputs": [],
   "source": [
    "# An alternative, more intuitive way of formatting a string:\n",
    "s3 = 'value1 = {0}, value2 = {1}'.format(3.1415, 1.5)\n",
    "print(s3)"
   ]
  },
  {
   "cell_type": "code",
   "execution_count": null,
   "metadata": {},
   "outputs": [],
   "source": [
    "# Or even easier, you can use an F string\n",
    "print(f'You rolled {dice_roll}')"
   ]
  },
  {
   "cell_type": "markdown",
   "metadata": {},
   "source": [
    "Multiplying is very easy and straightforward."
   ]
  },
  {
   "cell_type": "code",
   "execution_count": null,
   "metadata": {},
   "outputs": [],
   "source": [
    "x = 'Hello '\n",
    "x * 5"
   ]
  },
  {
   "cell_type": "markdown",
   "metadata": {},
   "source": [
    "<a id='lists'></a>\n",
    "\n",
    "\n",
    "# Section 3: Lists\n",
    "\n",
    "Lists are a means of storing ordered data.\n",
    "\n",
    "Lists can be composed of ints, floats, strings, or other lists, as well as other data types we haven't covered yet."
   ]
  },
  {
   "cell_type": "code",
   "execution_count": null,
   "metadata": {},
   "outputs": [],
   "source": [
    "l = [1, 2, 3, 4]\n",
    "\n",
    "print(type(l))\n",
    "print(l)"
   ]
  },
  {
   "cell_type": "code",
   "execution_count": null,
   "metadata": {},
   "outputs": [],
   "source": [
    "# The contents of a variable can be reassigned to another variable:\n",
    "a = l[:]"
   ]
  },
  {
   "cell_type": "code",
   "execution_count": null,
   "metadata": {},
   "outputs": [],
   "source": [
    "print(a)"
   ]
  },
  {
   "cell_type": "code",
   "execution_count": null,
   "metadata": {},
   "outputs": [],
   "source": [
    "# What happens if you instead do this? Is it the same as above?\n",
    "a = l"
   ]
  },
  {
   "cell_type": "code",
   "execution_count": null,
   "metadata": {},
   "outputs": [],
   "source": [
    "a.append(5)\n",
    "print(a)\n",
    "print(l)"
   ]
  },
  {
   "cell_type": "code",
   "execution_count": null,
   "metadata": {},
   "outputs": [],
   "source": [
    "# List of strings:\n",
    "names = ['Joseph', 'Bob', 'Rick']\n",
    "print(names)"
   ]
  },
  {
   "cell_type": "markdown",
   "metadata": {},
   "source": [
    "Lists also have several methods that allow us to alter them, such as the `.append()` method, which allows us to add another element to the end of a list."
   ]
  },
  {
   "cell_type": "code",
   "execution_count": null,
   "metadata": {},
   "outputs": [],
   "source": [
    "names.append('John')"
   ]
  },
  {
   "cell_type": "code",
   "execution_count": null,
   "metadata": {},
   "outputs": [],
   "source": [
    "names"
   ]
  },
  {
   "cell_type": "code",
   "execution_count": null,
   "metadata": {},
   "outputs": [],
   "source": [
    "names.insert(2, 'Ellen')\n",
    "print(names)"
   ]
  },
  {
   "cell_type": "code",
   "execution_count": null,
   "metadata": {},
   "outputs": [],
   "source": [
    "names.remove('Ellen')\n",
    "print(names)"
   ]
  },
  {
   "cell_type": "code",
   "execution_count": null,
   "metadata": {},
   "outputs": [],
   "source": [
    "# Lists can be indexed in the same way as strings:\n",
    "print(l[1:3])\n",
    "print(l[::2])   # Increments the index by 2 each time (skips alternate elements)."
   ]
  },
  {
   "cell_type": "code",
   "execution_count": null,
   "metadata": {},
   "outputs": [],
   "source": [
    "# We can slice a value in a list as well:\n",
    "names[1][1:]"
   ]
  },
  {
   "cell_type": "markdown",
   "metadata": {},
   "source": [
    "Note that we always read indexing from left to right. In the example above, the interpreter looks up `names` and gets the first element, which is the string `\"Bob\"`. Then, the slice (`[1:]`) adds the first index of that string to the end of the original string, evaluating to `\"ob\"`.\n",
    "\n",
    "Interestingly, the following works in the same way. Instead of having to look up the value of `names`, the list is directly specified (just read the line from left to right!)."
   ]
  },
  {
   "cell_type": "code",
   "execution_count": null,
   "metadata": {},
   "outputs": [],
   "source": [
    "['Joseph', 'Bob', 'Rick', 'John'][1][1:]"
   ]
  },
  {
   "cell_type": "code",
   "execution_count": null,
   "metadata": {},
   "outputs": [],
   "source": [
    "# Lists don't have to be the same type:\n",
    "l = [1, 'a', 1.0, 1-1j]\n",
    "print(l)"
   ]
  },
  {
   "cell_type": "code",
   "execution_count": null,
   "metadata": {},
   "outputs": [],
   "source": [
    "# We can create a list of values in a range using the \"range\" function:\n",
    "start = 10\n",
    "stop = 30\n",
    "step = 2\n",
    "range(start, stop, step)\n",
    "\n",
    "# range() produces a \"generator,\" which is beyond the scope of this introduction!\n",
    "# It is often convenient to have the generator \n",
    "#    generate all of its values by converting it to a list:\n",
    "list(range(start, stop, step))"
   ]
  },
  {
   "cell_type": "markdown",
   "metadata": {},
   "source": [
    "Here's how we create a list from scratch:"
   ]
  },
  {
   "cell_type": "code",
   "execution_count": null,
   "metadata": {},
   "outputs": [],
   "source": [
    "# Create a new empty list:\n",
    "l = []\n",
    "\n",
    "# Add an element using append():\n",
    "l.append(\"A\")\n",
    "l.append(\"d\")\n",
    "l.append(\"d\")\n",
    "\n",
    "print(l)"
   ]
  },
  {
   "cell_type": "code",
   "execution_count": null,
   "metadata": {},
   "outputs": [],
   "source": [
    "# Reassign a range of values with another list:\n",
    "l[1:3] = [\"b\", \"c\"]\n",
    "print(l)"
   ]
  },
  {
   "cell_type": "markdown",
   "metadata": {},
   "source": [
    "Use the `.insert()` method to add values at specific indices."
   ]
  },
  {
   "cell_type": "code",
   "execution_count": null,
   "metadata": {},
   "outputs": [],
   "source": [
    "l.insert(0, \"i\")\n",
    "l.insert(1, \"n\")\n",
    "l.insert(2, \"s\")\n",
    "l.insert(3, \"e\")\n",
    "l.insert(4, \"r\")\n",
    "l.insert(5, \"t\")\n",
    "\n",
    "print(l)"
   ]
  },
  {
   "cell_type": "markdown",
   "metadata": {},
   "source": [
    "If a value already exists at an index where we're trying to insert the new value, the original value gets bumped to the next index.\n",
    "\n",
    "---\n",
    "The `.remove()` method can be used to remove specific values if they appear in a list."
   ]
  },
  {
   "cell_type": "code",
   "execution_count": null,
   "metadata": {},
   "outputs": [],
   "source": [
    "l.remove(\"A\")\n",
    "print(l)"
   ]
  },
  {
   "cell_type": "code",
   "execution_count": null,
   "metadata": {},
   "outputs": [],
   "source": [
    "# find the index of t in the list \n",
    "l.index('t')"
   ]
  },
  {
   "cell_type": "code",
   "execution_count": null,
   "metadata": {},
   "outputs": [],
   "source": [
    "# Reverse the order of the list \n",
    "l.reverse()\n",
    "print(l)"
   ]
  },
  {
   "cell_type": "code",
   "execution_count": null,
   "metadata": {},
   "outputs": [],
   "source": [
    "# Print the last element of the list \n",
    "l[-1]"
   ]
  },
  {
   "cell_type": "markdown",
   "metadata": {},
   "source": [
    "On the other hand, the `del()` function can be used with a list and index to delete values."
   ]
  },
  {
   "cell_type": "code",
   "execution_count": null,
   "metadata": {},
   "outputs": [],
   "source": [
    "\n",
    "del l[7]\n",
    "del l[6]\n",
    "\n",
    "print(l)"
   ]
  },
  {
   "cell_type": "markdown",
   "metadata": {},
   "source": [
    "## Now You Try!\n",
    "\n",
    "Create a list of five elements and do the following: <br> \n",
    "1) Print the last three elements. <br>\n",
    "2) Insert two new elements at index 2 and append one element to the end. <br>\n",
    "3) Remove one element of your choice. <br>\n",
    "4) Print every other element in your list. <br>"
   ]
  },
  {
   "cell_type": "code",
   "execution_count": null,
   "metadata": {},
   "outputs": [],
   "source": [
    "# Create a list of 5 elements. "
   ]
  },
  {
   "cell_type": "code",
   "execution_count": null,
   "metadata": {},
   "outputs": [],
   "source": [
    "# Print the last 3 elements"
   ]
  },
  {
   "cell_type": "code",
   "execution_count": null,
   "metadata": {},
   "outputs": [],
   "source": [
    "# Insert two new elements at index 2 and append one elment to the end "
   ]
  },
  {
   "cell_type": "code",
   "execution_count": null,
   "metadata": {},
   "outputs": [],
   "source": [
    "# Remove one element of your choice "
   ]
  },
  {
   "cell_type": "code",
   "execution_count": null,
   "metadata": {},
   "outputs": [],
   "source": [
    "# Print every other element in your list"
   ]
  },
  {
   "cell_type": "markdown",
   "metadata": {},
   "source": [
    "<a id='tuples'></a>\n",
    "\n",
    "\n",
    "# Section 4: Tuples\n",
    "\n",
    "Tuples are similar to lists in that they store a sequence of various separate values. However, tuples are not mutable in that, once they are created, their values cannot be changed."
   ]
  },
  {
   "cell_type": "code",
   "execution_count": null,
   "metadata": {},
   "outputs": [],
   "source": [
    "point = (10, 20)\n",
    "print(point)\n",
    "print(type(point))"
   ]
  },
  {
   "cell_type": "code",
   "execution_count": null,
   "metadata": {},
   "outputs": [],
   "source": [
    "# They can be sliced just like lists and strings:\n",
    "point[0]"
   ]
  },
  {
   "cell_type": "markdown",
   "metadata": {},
   "source": [
    "Unpacking a variable is a common practice when iterating through Python data types. Unpacking essentially allows us to simultaneously set new variables to items in a list, tuple, or dictionary.  "
   ]
  },
  {
   "cell_type": "code",
   "execution_count": null,
   "metadata": {},
   "outputs": [],
   "source": [
    "# Unpacking:\n",
    "x, y = point\n",
    "\n",
    "print(f\"x = {x}\")\n",
    "print(f\"y = {y}\")"
   ]
  },
  {
   "cell_type": "markdown",
   "metadata": {},
   "source": [
    "<a id='dictionary'></a>\n",
    "\n",
    "\n",
    "# Section 5: Dictionaries\n",
    "\n",
    "Dictionaries are a non-ordered Python data type. Instead of using an ordered index to access data stored in a dictionary, we use a system of key-value pairs.\n",
    "\n",
    "- A key is similar to a variable name. \n",
    "- A value is similar to the value assigned to the variable.\n",
    "\n",
    "Curly braces ({ }) enclose dictionaries. Note: You can also use curly braces to construct a set. The first input in a dictionary pair is the \"key.\" The second input in a dictionary pair is the \"value.\" The general format looks like this:"
   ]
  },
  {
   "cell_type": "code",
   "execution_count": null,
   "metadata": {},
   "outputs": [],
   "source": [
    "params = {\"key1\" : 1.0,\n",
    "          \"key2\" : 2.0,\n",
    "          \"key3\" : 3.0,}\n",
    "\n",
    "print(type(params))\n",
    "print(params)"
   ]
  },
  {
   "cell_type": "markdown",
   "metadata": {},
   "source": [
    "The keys stay the same, but the values are changeable. You can also only have one occurrence of a key in a dictionary, but you can have all of the values be the same."
   ]
  },
  {
   "cell_type": "code",
   "execution_count": null,
   "metadata": {},
   "outputs": [],
   "source": [
    "# Value for parameter2 in the params dictionary:\n",
    "params[\"key2\"]"
   ]
  },
  {
   "cell_type": "code",
   "execution_count": null,
   "metadata": {},
   "outputs": [],
   "source": [
    "# Adding a new dictionary entry:\n",
    "params[\"key4\"] = \"D\""
   ]
  },
  {
   "cell_type": "code",
   "execution_count": null,
   "metadata": {},
   "outputs": [],
   "source": [
    "# Print the entirety of the dictionary:\n",
    "print(params)"
   ]
  },
  {
   "cell_type": "code",
   "execution_count": null,
   "metadata": {},
   "outputs": [],
   "source": [
    "# Print just the keys \n",
    "params.keys()"
   ]
  },
  {
   "cell_type": "code",
   "execution_count": null,
   "metadata": {},
   "outputs": [],
   "source": [
    "# Reassigning the value of a key-value pair in the dictionary:\n",
    "params[\"key1\"] = \"A\"\n",
    "params[\"key2\"] = \"B\""
   ]
  },
  {
   "cell_type": "code",
   "execution_count": null,
   "metadata": {},
   "outputs": [],
   "source": [
    "print(\"Key 1 = \" + str(params[\"key1\"]))\n",
    "print(\"Key 2 = \" + str(params[\"key2\"]))\n",
    "print(\"Key 3 = \" + str(params[\"key3\"]))\n",
    "print(\"Key 4 = \" + str(params[\"key4\"]))"
   ]
  },
  {
   "cell_type": "code",
   "execution_count": null,
   "metadata": {},
   "outputs": [],
   "source": [
    "# Check the dictoinary now \n",
    "print(params)"
   ]
  },
  {
   "cell_type": "code",
   "execution_count": null,
   "metadata": {},
   "outputs": [],
   "source": [
    "# update the original dictionary with the new dictionary \n",
    "params_new = {'Key 5': 'C', 'Key 6': 'E'} \n",
    "\n",
    "params.update(params_new)\n",
    "\n",
    "print(params)"
   ]
  },
  {
   "cell_type": "code",
   "execution_count": null,
   "metadata": {},
   "outputs": [],
   "source": [
    "# delete a key value pair from a dictionary\n",
    "del params['key4']\n",
    "print(params)"
   ]
  },
  {
   "cell_type": "code",
   "execution_count": null,
   "metadata": {},
   "outputs": [],
   "source": [
    "# Dictionaries also have methods.\n",
    "\n",
    "# Convert a dictionary to a list of tuples (key-value pairs).\n",
    "# This is later used to conveniently loop through a dictionary:\n",
    "list(params.items())"
   ]
  },
  {
   "cell_type": "markdown",
   "metadata": {},
   "source": [
    "----"
   ]
  },
  {
   "cell_type": "markdown",
   "metadata": {},
   "source": [
    "<a id='import'></a>\n",
    "\n",
    "# Section 6: Importing Packages and Documentation"
   ]
  },
  {
   "cell_type": "markdown",
   "metadata": {},
   "source": [
    "Not everything we will use is readily available in Python. Sometimes, we'll need to import packages, which are assemblies of functions or additional data types."
   ]
  },
  {
   "cell_type": "code",
   "execution_count": null,
   "metadata": {},
   "outputs": [],
   "source": [
    "import math\n",
    "\n",
    "x = math.cos(2 * math.pi)\n",
    "print(x)"
   ]
  },
  {
   "cell_type": "code",
   "execution_count": null,
   "metadata": {},
   "outputs": [],
   "source": [
    "from math import pi\n",
    "\n",
    "x = pi\n",
    "\n",
    "print(x)"
   ]
  },
  {
   "cell_type": "markdown",
   "metadata": {
    "collapsed": true
   },
   "source": [
    "Import the whole module into the current namespace instead."
   ]
  },
  {
   "cell_type": "code",
   "execution_count": null,
   "metadata": {},
   "outputs": [],
   "source": [
    "from math import *\n",
    "x = cos(2 * pi)\n",
    "print(x)"
   ]
  },
  {
   "cell_type": "markdown",
   "metadata": {},
   "source": [
    "There are several ways to look at a module's documentation. Within the Jupyter Notebook, we can use the `help()` function, or you can place your cursor inside of a function and press `shift + tab`."
   ]
  },
  {
   "cell_type": "code",
   "execution_count": null,
   "metadata": {},
   "outputs": [],
   "source": [
    "help(math.cos)"
   ]
  },
  {
   "cell_type": "markdown",
   "metadata": {},
   "source": [
    "<a name=\"ind-practice\"></a>\n",
    "## Independent Practice: Topic \n",
    "Pair up and make up your own statements using strings, lists, indexing, and concatenation, as well as other Python elements discussed in this lesson. Like the first exercise, but in reverse: You're going to write 3-5 different statements in Python and then see if your partner can tell you what will be returned BEFORE running it. Give yourself 1 point for each correct answer.\n",
    "\n",
    "\n",
    "\n",
    "----\n"
   ]
  },
  {
   "cell_type": "markdown",
   "metadata": {
    "collapsed": true
   },
   "source": [
    "\n",
    "<a name=\"conclusion\"></a>\n",
    "## Lesson Summary\n",
    "\n",
    "\n",
    "Let's review what we learned today. We:\n",
    "\n",
    "- Discussed why Python is popular for data science.\n",
    "- Demonstrated variable assignment.\n",
    "- Defined integers, strings, tuples, lists, and dictionaries.\n",
    "- Demonstrated arithmetic operations and string operations.\n",
    "\n",
    "\n",
    "### Additional Questions?\n",
    "\n",
    "\n",
    "....\n",
    "\n",
    "### Additional Resources\n",
    "\n",
    "- [Learn Python on Codecademy](https://www.codecademy.com/learn/python)\n",
    "- [Learn Python the Hard Way](https://learnpythonthehardway.org)\n",
    "- [Python Data Types and Variables](http://www.python-course.eu/variables.php)\n",
    "- [Python IF… ELIF… ELSE Statements](https://www.tutorialspoint.com/python/python_if_else.htm)\n",
    "- [Python Loops](https://www.tutorialspoint.com/python/python_loops.htm)\n",
    "- [Python Control Flow](https://python.swaroopch.com/control_flow.html)"
   ]
  },
  {
   "cell_type": "code",
   "execution_count": null,
   "metadata": {},
   "outputs": [],
   "source": []
  }
 ],
 "metadata": {
  "anaconda-cloud": {},
  "kernelspec": {
   "display_name": "Python 3",
   "language": "python",
   "name": "python3"
  },
  "language_info": {
   "codemirror_mode": {
    "name": "ipython",
    "version": 3
   },
   "file_extension": ".py",
   "mimetype": "text/x-python",
   "name": "python",
   "nbconvert_exporter": "python",
   "pygments_lexer": "ipython3",
   "version": "3.8.3"
  },
  "toc": {
   "base_numbering": 1,
   "nav_menu": {},
   "number_sections": true,
   "sideBar": true,
   "skip_h1_title": false,
   "title_cell": "Table of Contents",
   "title_sidebar": "Contents",
   "toc_cell": false,
   "toc_position": {},
   "toc_section_display": true,
   "toc_window_display": false
  }
 },
 "nbformat": 4,
 "nbformat_minor": 1
}
