{
 "cells": [
  {
   "cell_type": "markdown",
   "metadata": {},
   "source": [
    "<center><h1>Data-specific problems in Python</h1></center>\n",
    "\n",
    "This notebook is a collection of problems using Python to perform tasks relevant to data analysis. The aim is to develop your general Python skills in a data context; we will look at using Python libraries to simplify a lot of this work in the next DS bootcamp.\n",
    "\n",
    "This version of the notebook uses single examples to illustrate a code structure, then gives you problems to try yourself. If you'd prefer more independence in your practice, try the \"no examples\" version for a challenge. If you'd prefer more support or find this too difficult, try the \"faded examples\" version."
   ]
  },
  {
   "cell_type": "markdown",
   "metadata": {},
   "source": [
    "<h3>Simple <em>for</em> loops</h3>\n",
    "\n",
    "The following code computes the length of a list of numbers. Try adding more entries to data, or removing some, and re-running the cell."
   ]
  },
  {
   "cell_type": "code",
   "execution_count": 1,
   "metadata": {},
   "outputs": [
    {
     "name": "stdout",
     "output_type": "stream",
     "text": [
      "5\n"
     ]
    }
   ],
   "source": [
    "data = [1,2,3,4,5]\n",
    "\n",
    "result = 0\n",
    "for number in data:\n",
    "    result += 1 # this is equivalent to \"result = result + 1\" - i.e., add 1 to the number stored in result\n",
    "print(result)"
   ]
  },
  {
   "cell_type": "markdown",
   "metadata": {},
   "source": [
    "Note: there is a built in function, len(), to find the length of a list - so in reality you'd use that to find the length, rather than writing out your own code like above.\n",
    "\n",
    "Write a <em>for</em> loop below to calculate the <em>sum</em> of the numbers in data. Modify the list data a few times to check the output."
   ]
  },
  {
   "cell_type": "code",
   "execution_count": 1,
   "metadata": {},
   "outputs": [],
   "source": [
    "data = [1,2,3,4,5]\n",
    "\n",
    "# your code here"
   ]
  },
  {
   "cell_type": "markdown",
   "metadata": {},
   "source": [
    "Note: again, there is a built-in sum() function to do this for us - but this is practice writing simple for loops.\n",
    "\n",
    "Now write a for loop that calculates the <em>sum of squares</em> of a list of numbers. E.g., if $data=1+2+3$, your code should calculate $1^2+2^2+3^2=1+4+9=14$, so it should print 14 as the output. Calculating a sum of squares like this is important for finding the <em>standard deviation</em> of a dataset, which we will do later in this workbook."
   ]
  },
  {
   "cell_type": "code",
   "execution_count": 2,
   "metadata": {},
   "outputs": [],
   "source": [
    "# your code here\n"
   ]
  },
  {
   "cell_type": "markdown",
   "metadata": {},
   "source": [
    "Test your code with the following datasets. The answer you should get is in a comment after each line."
   ]
  },
  {
   "cell_type": "code",
   "execution_count": 2,
   "metadata": {},
   "outputs": [],
   "source": [
    "test1 = [1,2,3,4,5,6,7,8,9] # answer = 285\n",
    "test2 = [-3,-7,12,4,-8] # answer = 282\n",
    "test3 = list(range(1, 100, 2)) # answer = 166650\n",
    "# (note: range(1, 100, 2) means \"start at 1 and go up to - but not including - 100\") in steps of size 2\n",
    "# so test3 = [1, 3, 5, ..., 95, 97, 99]"
   ]
  },
  {
   "cell_type": "markdown",
   "metadata": {},
   "source": [
    "<h3>Functions for reusable code</h3>\n",
    "Youve now written some <em>for</em> loops, but everytime you want to run them on a new dataset, you have to either redefine the \"data\" list (or whatever you chose to call it) or put the name of your new dataset into the list in place of the old one. Functions let you reuse code much more elegantly.\n",
    "\n",
    "The code below takes the <em>for</em> loop from before for calculating the length of a list, but packages it up in a reusable function. Compare it with the original <em>for</em> loop."
   ]
  },
  {
   "cell_type": "code",
   "execution_count": 3,
   "metadata": {},
   "outputs": [],
   "source": [
    "def length(data):\n",
    "    result = 0\n",
    "    for number in data:\n",
    "        result += 1 # this is equivalent to \"result = result + 1\" - i.e., add 1 to the number stored in result\n",
    "    return result"
   ]
  },
  {
   "cell_type": "markdown",
   "metadata": {},
   "source": [
    "Note that we have changed from \"print(result)\" to \"return result.\" We could still use a print() statement if we wanted, but a return statement lets us pass the output from this function into another function, which is very useful. Below are some examples of using the function:"
   ]
  },
  {
   "cell_type": "code",
   "execution_count": 4,
   "metadata": {},
   "outputs": [
    {
     "name": "stdout",
     "output_type": "stream",
     "text": [
      "5\n",
      "2\n",
      "7\n",
      "10\n"
     ]
    }
   ],
   "source": [
    "data = [1,2,3,4,5]\n",
    "print(length(data)) # we can name a list data, and then pass the word \"data\" into the function\n",
    "\n",
    "numbers = [100,-1]\n",
    "print(length(numbers)) # we don't have to use the name \"data\", just because that was what we called it when defining\n",
    "# the function - any name for the list will do\n",
    "\n",
    "print(length([3,9,7,4,-2,-9,12])) # we don't need to give the input list a name at all, we can just put it in directly\n",
    "\n",
    "print(length(['this', 'is', 'a', 'list', 'of', 'strings', 'but', 'that', 'doesn\\'t', 'matter'])) # the length function\n",
    "# works on any list - not just lists of numbers"
   ]
  },
  {
   "cell_type": "markdown",
   "metadata": {},
   "source": [
    "Write a function that contains your <em>for</em> loop for the sum of numbers:"
   ]
  },
  {
   "cell_type": "code",
   "execution_count": 3,
   "metadata": {},
   "outputs": [],
   "source": [
    "# your code here"
   ]
  },
  {
   "cell_type": "markdown",
   "metadata": {},
   "source": [
    "Now create a function that contains your <em>for</em> loop for the sum of squares. Call the function \"sum_squares()\""
   ]
  },
  {
   "cell_type": "code",
   "execution_count": null,
   "metadata": {},
   "outputs": [],
   "source": [
    "# your code goes here\n"
   ]
  },
  {
   "cell_type": "markdown",
   "metadata": {},
   "source": [
    "Test your sum_squares() function with the same three test sets as earlier. This should be easier now - all you need to do is call sum_squares(test1), etc."
   ]
  },
  {
   "cell_type": "code",
   "execution_count": null,
   "metadata": {},
   "outputs": [],
   "source": []
  },
  {
   "cell_type": "markdown",
   "metadata": {},
   "source": [
    "We can combine functions into new functions to do more complicated things. For example, the <em>mean</em> (average) of a list of numbers is found by adding them up and dividing by how many there are; we have an adder() function that adds them up, and a length() function that finds how many there are, so we can combine them like so:"
   ]
  },
  {
   "cell_type": "code",
   "execution_count": null,
   "metadata": {},
   "outputs": [],
   "source": [
    "def mean(data):\n",
    "    output = adder(data) / length(data)\n",
    "    return output"
   ]
  },
  {
   "cell_type": "markdown",
   "metadata": {},
   "source": [
    "Note: we didn't need to define output on one line and return in on a separate line - we could have just written a single line definition of the function with \"return adder(data) / length(data).\" When the calculations are more complicated though, it's usually better to break them down into steps.\n",
    "\n",
    "We also could use the built-in functions: \"sum(data) / len(data)\" - instead of using the ones we defined.\n",
    "\n",
    "We also could have written this function without referring to other functions at all - we could have put the <em>for</em> loop(s) finding the length and sum directly into the definition of this function, like so:"
   ]
  },
  {
   "cell_type": "code",
   "execution_count": 5,
   "metadata": {},
   "outputs": [],
   "source": [
    "def mean2(data):\n",
    "    length = 0\n",
    "    total = 0\n",
    "    for number in data:\n",
    "        length += 1\n",
    "        total += number\n",
    "    output = total / length\n",
    "    return output"
   ]
  },
  {
   "cell_type": "markdown",
   "metadata": {},
   "source": [
    "Note that this takes more effort to read and understand than the first version. Where possible, it is often good practice to write complicated functions in stages, giving each stage a sensible name, so that each definition is as short and easy to understand as possible.\n",
    "\n",
    "Try out the mean() function on a few sample datasets. You might want to use mean2() as well and check they give the same answers."
   ]
  },
  {
   "cell_type": "code",
   "execution_count": null,
   "metadata": {},
   "outputs": [],
   "source": []
  },
  {
   "cell_type": "markdown",
   "metadata": {},
   "source": [
    "We will now work towards writing a function that computes the <em>sample standard deviation</em> of a dataset. Note: the standard deviation is found by subtracting the mean from each number, adding up the squares of the results from that, dividing by <em>one less than</em> how many there are, and then square-rooting.\n",
    "\n",
    "We'll start with the first part of this calculation - subtracting the mean from each number. Write a function meeting the specification below:"
   ]
  },
  {
   "cell_type": "code",
   "execution_count": null,
   "metadata": {},
   "outputs": [],
   "source": [
    "# this function should take a list of numbers and output a list of numbers, where the output list is made by taking each number\n",
    "# in the input list and subtracting the mean of all the input numbers\n",
    "# e.g., with input [1,2,3], the mean is 2, so the output should be [-1, 0, 1]\n",
    "def subtract_mean(data):\n",
    "    # your code here"
   ]
  },
  {
   "cell_type": "markdown",
   "metadata": {},
   "source": [
    "Note the code pattern of setting up an empty list (differences = []) and then a for loop with differences.append() in. This is a common code pattern for building up a list one element at a time, and is similar to the pattern we saw earlier of setting result = 0 and then having a for loop where we kept adding something to result.\n",
    "\n",
    "There is a more elegant and \"Pythonic\" way to build up a list like this, called \"list comprehension.\" It looks like this:"
   ]
  },
  {
   "cell_type": "code",
   "execution_count": null,
   "metadata": {},
   "outputs": [],
   "source": [
    "differences = [number - average for number in data]"
   ]
  },
  {
   "cell_type": "markdown",
   "metadata": {},
   "source": [
    "So instead of creating an empty list and then adding to it in a <em>for</em> loop, we just write the calculation that we would have done in the for loop \"number - average\", then indicate the for loop by writing \"for number in data\" and put the whole thing in square brackets to show it's supposed to be a list.\n",
    "\n",
    "List comprehensions can make your code a little shorter, but they can be confusing. There's nothing wrong with sticking to the \"empty list and <em>for</em> loop\" pattern if you prefer that.\n",
    "\n",
    "If you'd like more practice at list comprehension, try using it to double every number in a list:"
   ]
  },
  {
   "cell_type": "code",
   "execution_count": null,
   "metadata": {},
   "outputs": [],
   "source": [
    "data = [1,7,-9,12,-3]\n",
    "doubles = # your code here"
   ]
  },
  {
   "cell_type": "markdown",
   "metadata": {},
   "source": [
    "Now, back to calculating the standard deviation! Our subtract_mean() function takes a list of numbers and subtracts their mean from each of them. Now we need to square them all and add them together (remember your sum_squares() function from earlier?), divide by the length minus 1, and then square root the output (you can take a square root in Python with \"number ** 0.5\").\n",
    "\n",
    "Write a function to do this:"
   ]
  },
  {
   "cell_type": "code",
   "execution_count": null,
   "metadata": {},
   "outputs": [],
   "source": [
    "def st_dev(data):\n",
    "    # your code here!"
   ]
  },
  {
   "cell_type": "markdown",
   "metadata": {},
   "source": [
    "Test your code with the following datasets:"
   ]
  },
  {
   "cell_type": "code",
   "execution_count": 6,
   "metadata": {},
   "outputs": [],
   "source": [
    "test1 = [1,2,3,4,5,6,7,8,9] # answer = 2.738...\n",
    "test2 = [-3,-7,12,4,-8] # answer = 8.384...\n",
    "test3 = list(range(1, 100, 2)) # answer = 29.154..."
   ]
  },
  {
   "cell_type": "markdown",
   "metadata": {},
   "source": [
    "<h3><em>If</em> statements</h3>\n",
    "The following function checks the sign (positive, negative, or zero) of a number - this can be important for data validation. Check out the use of list comprehension when testing it."
   ]
  },
  {
   "cell_type": "code",
   "execution_count": 7,
   "metadata": {},
   "outputs": [
    {
     "name": "stdout",
     "output_type": "stream",
     "text": [
      "['negative', 'positive', 'positive', 'negative', 'zero', 'positive', 'positive', 'negative']\n"
     ]
    }
   ],
   "source": [
    "def check_sign(number):\n",
    "    if number > 0:\n",
    "        return 'positive'\n",
    "    elif number < 0:\n",
    "        return 'negative'\n",
    "    else:\n",
    "        return 'zero'\n",
    "\n",
    "numbers = [-3, 1, 724.6, -11, 0, 2, 200, -2]\n",
    "print([check_sign(number) for number in numbers])"
   ]
  },
  {
   "cell_type": "markdown",
   "metadata": {},
   "source": [
    "Suppose we want to compare Covid cases around the world. We might have a list of case numbers in each country as a proportion of population and we want to classify countries as \"green\", \"amber\", or \"red\" based on their case numbers.\n",
    "\n",
    "One useful way to do this is with the mean and standard deviation. For Normally distributed data, 68% of data points are between (mean - stdev) and (mean + stdev), leaving 32% outside that range - 16% above and 16% below. So the bottom 16% (roughly one sixth) of the data are less than (mean - stdev), 68% are between (mean - stdev) and (mean + stdev), and the top 16% are above (mean + stdev).\n",
    "\n",
    "Write a function that classifies a number as \"red\", \"amber\", or \"green\" based on how it compares to two thresholds:"
   ]
  },
  {
   "cell_type": "code",
   "execution_count": null,
   "metadata": {},
   "outputs": [],
   "source": [
    "def RAG_classifier(number, lower_threshold, upper_threshold):\n",
    "    # your code here"
   ]
  },
  {
   "cell_type": "markdown",
   "metadata": {},
   "source": [
    "Now write a function that uses this and the mean and standard deviation functions from before to convert a list of numbers into a list of RAG ratings, where a point is red if it is less than (mean - stdev), green if it is greater than (mean + stdev), and amber if it's in between. Hint: you can use a <em>for</em> loop for this, or a list comprehension; you won't need a new <em>if</em> statement for this, your RAG_classifier() function will handle that."
   ]
  },
  {
   "cell_type": "code",
   "execution_count": null,
   "metadata": {},
   "outputs": [],
   "source": [
    "def stdev_classifier(data):\n",
    "    # your code here"
   ]
  },
  {
   "cell_type": "markdown",
   "metadata": {},
   "source": [
    "Test your code by running the following cell:"
   ]
  },
  {
   "cell_type": "code",
   "execution_count": null,
   "metadata": {},
   "outputs": [],
   "source": [
    "data = [20.09852562, 23.78812558, 17.16023224, 12.98506367, 21.14158154,\n",
    "       21.49384295, 20.92017253, 20.20764812, 10.07496259, 23.80358356,\n",
    "       24.41430014, 25.4310784 , 19.77776613, 22.08102474, 13.08124938,\n",
    "       25.54101538, 22.02317736, 24.09559675, 18.52046219, 18.53615184]\n",
    "results = ['A','A','A','R','A','A','A','A','R','A','A','G','A','A','R','G','A','A','A','A']\n",
    "if stdev_classifier(data) == results:\n",
    "    print(\"Correct\")\n",
    "else:\n",
    "    print(\"Not quite there yet\")"
   ]
  },
  {
   "cell_type": "markdown",
   "metadata": {},
   "source": [
    "Often we have data that is updated regularly (every month, say) and are interested in flagging changes in the data. Write a function that will take two lists of RAG ratings (of the same size), and return a list of strings \"same\", \"up\", or \"down\" depending whether the rating for an entry has stayed the same, gone up, or gone down. Hint: you will need to use either a for loop or a list comprehension, with an if statement inside!"
   ]
  },
  {
   "cell_type": "code",
   "execution_count": null,
   "metadata": {},
   "outputs": [],
   "source": [
    "def detect_changes(old_ratings, new_ratings):\n",
    "    # your code here"
   ]
  },
  {
   "cell_type": "markdown",
   "metadata": {},
   "source": [
    "Test your code by running the following cell. Note the use of the enumerate() function in the <em>for</em> loop - this can be useful when looping over a list if you want to know both what index you're at in the list and what's in the list at that index. You might want to look into this more yourself!"
   ]
  },
  {
   "cell_type": "code",
   "execution_count": null,
   "metadata": {},
   "outputs": [],
   "source": [
    "old_ratings = ['A', 'R', 'A', 'A', 'G', 'R', 'A', 'G', 'G', 'A', 'A', 'A']\n",
    "new_ratings = ['A', 'G', 'A', 'R', 'G', 'A', 'A', 'A', 'G', 'A', 'G', 'A']\n",
    "correct_answers = ['same', 'up', 'same', 'down', 'same', 'up', 'same', 'down', 'same', 'same', 'up', 'same']\n",
    "changes = detect_changes(old_ratings, new_ratings)\n",
    "is_correct = True\n",
    "for index, rating in enumerate(correct_answers):\n",
    "    if rating != changes[index]:\n",
    "        print(f\"There's an error at index {index}\")\n",
    "        is_correct = False\n",
    "if is_correct:\n",
    "    print(\"Well done, all correct\")"
   ]
  },
  {
   "cell_type": "markdown",
   "metadata": {},
   "source": [
    "<h3>Nested <em>for</em> loops</h3>\n",
    "We have looked at simple <em>for</em> loops, now we will consider <em>nesting</em> one <em>for</em> loop inside another. An example of when this is useful is when you have multiple datasets (or columns within a single dataset) and want to do iterate over each in turn.\n",
    "\n",
    "The function below uses this to find the largest entry in each column. The data is given as a list of lists, where each of the sub-lists should be viewed as a single column."
   ]
  },
  {
   "cell_type": "code",
   "execution_count": 8,
   "metadata": {},
   "outputs": [],
   "source": [
    "def find_column_maxes(data):\n",
    "    maxes = []\n",
    "    for column in data:\n",
    "        column_max = column[0]\n",
    "        for number in column:\n",
    "            if number > column_max:\n",
    "                column_max = number\n",
    "        maxes.append(column_max)\n",
    "    return maxes"
   ]
  },
  {
   "cell_type": "markdown",
   "metadata": {},
   "source": [
    "If you're not used to coding with nested loops, you might need a few passes to understand this code.\n",
    "\n",
    "Start by looking at the middle bit of the code: everything inside the first <em>for</em> loop. We create a variable called column_max and set it equal to the first entry in the column. Then we loop through all the numbers in the column: what do we do with each number? What will the value of column_max be at the end of this for loop? That value is then appended to the list \"maxes\".\n",
    "\n",
    "Then we just repeat this process for each different column in the dataset, so maxes builds up as a list of the different values of column_max for each column.\n",
    "\n",
    "If you don't fully understand how this code works yet, try manually stepping through the code for the following example - pretend you're the computer and walk through what you do at each line of the code."
   ]
  },
  {
   "cell_type": "code",
   "execution_count": 9,
   "metadata": {},
   "outputs": [
    {
     "data": {
      "text/plain": [
       "[3, -4, 18, 2]"
      ]
     },
     "execution_count": 9,
     "metadata": {},
     "output_type": "execute_result"
    }
   ],
   "source": [
    "# this dataset should be interpreted as four columns, each with 3 rows\n",
    "data = [[1,2,3], [-7, -4, -9], [12, 18, -6], [0, 0, 2]]\n",
    "find_column_maxes(data)"
   ]
  },
  {
   "cell_type": "markdown",
   "metadata": {},
   "source": [
    "Write a function that counts the number of zeroes in each column:"
   ]
  },
  {
   "cell_type": "code",
   "execution_count": null,
   "metadata": {},
   "outputs": [],
   "source": [
    "# your code here"
   ]
  },
  {
   "cell_type": "markdown",
   "metadata": {},
   "source": [
    "Test your code on the following data:"
   ]
  },
  {
   "cell_type": "code",
   "execution_count": null,
   "metadata": {},
   "outputs": [],
   "source": [
    "test = [[0,0,0,0], [7, 0, -1, 12], [3, 0, 9, 0], [-1,5,11,9]]\n",
    "# answer = [4,1,2,0]"
   ]
  },
  {
   "cell_type": "markdown",
   "metadata": {},
   "source": [
    "Write a function that will take a list of lists of lists (a collection of several datasets, where each dataset is a list of columns, and each column is a list of numbers) and return a list of lists, recording for each dataset and each column, what the mean is. To help you understand this, first look at the test data and expected output:"
   ]
  },
  {
   "cell_type": "code",
   "execution_count": null,
   "metadata": {},
   "outputs": [],
   "source": [
    "dataset1 = [[1,2,3], [4,5,6], [7,8,9]] # 3 columns, 3 rows\n",
    "dataset2 = [[5,-1,12,-4], [8,9,-1,0]] # 2 columns, 4 rows\n",
    "dataset3 = [[0,3,6,9,-12], [1,3,5,-7,4], [-1,-8,-6,3,-2], [0,0,1,0,1]] # 4 columns, 5 rows\n",
    "\n",
    "test_data = [dataset1, dataset2, dataset3] # a collection of 3 datasets, each with multiple columns\n",
    "\n",
    "# correct output of find_column_means(test_data) is [[2.0, 5.0, 8.0], [3.0, 4.0], [1.2, 1.2, -2.8, 0.4]]"
   ]
  },
  {
   "cell_type": "code",
   "execution_count": null,
   "metadata": {},
   "outputs": [],
   "source": [
    "# your code here"
   ]
  }
 ],
 "metadata": {
  "kernelspec": {
   "display_name": "Python 3",
   "language": "python",
   "name": "python3"
  },
  "language_info": {
   "codemirror_mode": {
    "name": "ipython",
    "version": 3
   },
   "file_extension": ".py",
   "mimetype": "text/x-python",
   "name": "python",
   "nbconvert_exporter": "python",
   "pygments_lexer": "ipython3",
   "version": "3.8.3"
  }
 },
 "nbformat": 4,
 "nbformat_minor": 4
}
