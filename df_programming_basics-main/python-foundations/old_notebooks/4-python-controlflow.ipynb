{
 "cells": [
  {
   "cell_type": "code",
   "execution_count": 1,
   "metadata": {},
   "outputs": [
    {
     "data": {
      "text/html": [
       "<script>\n",
       "code_show=true; \n",
       "function code_toggle() {\n",
       "    if (code_show){\n",
       "        $('div.cell.code_cell.rendered.selected div.input').hide();\n",
       "    } else {\n",
       "        $('div.cell.code_cell.rendered.selected div.input').show();\n",
       "    }\n",
       "    code_show = !code_show\n",
       "} \n",
       "$( document ).ready(code_toggle);\n",
       "\n",
       "var flagHighlight=0;\n",
       "var flagHighlightCode = 0;\n",
       "var flagMagnifyCell = 0;\n",
       "var flagMagnifyCode =0;\n",
       "var flagMagnifyOutputs=0;\n",
       "var flagEnlarge = 0;\n",
       "var flagHighlightOutput = 0;\n",
       "\n",
       "function enlarge_markdown(){\n",
       "    \n",
       "if(flagEnlarge==0){\n",
       "flagEnlarges = 1;\n",
       "document.getElementById('button7').classList.toggle('active_button');\n",
       "var els = document.getElementsByClassName('text_cell');\n",
       "var i;\n",
       "for(i=0;i<els.length;i++){\n",
       "els[i].classList.toggle('enlarged');}}\n",
       "else{\n",
       "flagEnlarge = 0;\n",
       "document.getElementById('button7').classList.toggle('active_button');\n",
       "var els = document.getElementsByClassName('text_cell');\n",
       "var i;\n",
       "for(i=0;i<els.length;i++){\n",
       "els[i].classList.remove('enlarged');\n",
       "}};};\n",
       "\n",
       "\n",
       "function magnify_outputs(){\n",
       "    \n",
       "if(flagMagnifyOutputs==0){\n",
       "flagMagnifyOutputs = 1;\n",
       "document.getElementById('button5').classList.toggle('active_button');\n",
       "var els = document.getElementsByClassName('output_wrapper');\n",
       "var i;\n",
       "for(i=0;i<els.length;i++){\n",
       "els[i].classList.toggle('magnified_output');}}\n",
       "else{\n",
       "flagMagnifyOutputs = 0;\n",
       "document.getElementById('button5').classList.toggle('active_button');\n",
       "var els = document.getElementsByClassName('output_wrapper');\n",
       "var i;\n",
       "for(i=0;i<els.length;i++){\n",
       "els[i].classList.remove('magnified_output');\n",
       "}};};\n",
       "\n",
       "function magnify_output_lines(){\n",
       "    \n",
       "if(flagHighlightOutput==0){\n",
       "flagHighlightOutput = 1;\n",
       "document.getElementById('button6').classList.toggle('active_button');\n",
       "var els = document.getElementsByClassName('output_wrapper');\n",
       "var i;\n",
       "for(i=0;i<els.length;i++){\n",
       "els[i].classList.toggle('magnified_output_lines');}}\n",
       "else{flagHighlightOutput = 0;\n",
       "document.getElementById('button6').classList.toggle('active_button');\n",
       "var els = document.getElementsByClassName('output_wrapper');\n",
       "var i;\n",
       "for(i=0;i<els.length;i++){\n",
       "els[i].classList.remove('magnified_output_lines');\n",
       "}};};\n",
       "\n",
       "\n",
       "function highlight_cell(){\n",
       "    \n",
       "if(flagHighlight==0){\n",
       "flagHighlight = 1;\n",
       "document.getElementById('button4').classList.toggle('active_button');\n",
       "var els = document.getElementsByClassName('CodeMirror-lines');\n",
       "var i;\n",
       "for(i=0;i<els.length;i++){\n",
       "els[i].classList.toggle('highlighted');}}\n",
       "else{flagHighlight = 0;\n",
       "document.getElementById('button4').classList.toggle('active_button');\n",
       "var els = document.getElementsByClassName('CodeMirror-lines');\n",
       "var i;\n",
       "for(i=0;i<els.length;i++){\n",
       "els[i].classList.remove('highlighted');\n",
       "}};};\n",
       "\n",
       "\n",
       "function highlight_code(){   \n",
       "if(flagHighlightCode==0){\n",
       "\n",
       "flagHighlightCode = 1;\n",
       "document.getElementById('button3').classList.toggle('active_button');\n",
       "var els = document.getElementsByClassName('CodeMirror-lines');\n",
       "var i;\n",
       "for(i=0;i<els.length;i++){\n",
       "els[i].classList.toggle('highlighted_code');}}   \n",
       "else{flagHighlightCode = 0;\n",
       "document.getElementById('button3').classList.toggle('active_button');\n",
       "var els = document.getElementsByClassName('CodeMirror-lines');\n",
       "var i;\n",
       "for(i=0;i<els.length;i++){\n",
       "els[i].classList.remove('highlighted_code');\n",
       "}};};\n",
       "\n",
       "function magnify_cell(){   \n",
       "if(flagMagnifyCell==0){\n",
       "flagMagnifyCell = 1;\n",
       "document.getElementById('button2').classList.toggle('active_button');\n",
       "var els = document.getElementsByClassName('CodeMirror-lines');\n",
       "var i;\n",
       "for(i=0;i<els.length;i++){\n",
       "els[i].classList.toggle('magnified_cell');}}   \n",
       "else{flagMagnifyCell = 0;\n",
       "document.getElementById('button2').classList.toggle('active_button');\n",
       "var els = document.getElementsByClassName('CodeMirror-lines');\n",
       "var i;\n",
       "for(i=0;i<els.length;i++){\n",
       "els[i].classList.remove('magnified_cell');\n",
       "}};};\n",
       "\n",
       "function magnify_code(){   \n",
       "if(flagMagnifyCode==0){\n",
       "flagMagnifyCode = 1;\n",
       "document.getElementById('button1').classList.toggle('active_button');\n",
       "var els = document.getElementsByClassName('CodeMirror-lines');\n",
       "var i;\n",
       "for(i=0;i<els.length;i++){\n",
       "els[i].classList.toggle('magnified_code');}}   \n",
       "else{flagMagnifyCode = 0;\n",
       "document.getElementById('button1').classList.toggle('active_button');\n",
       "var els = document.getElementsByClassName('CodeMirror-lines');\n",
       "var i;\n",
       "for(i=0;i<els.length;i++){\n",
       "els[i].classList.remove('magnified_code');\n",
       "}};};\n",
       "\n",
       "\n",
       "document.getElementsByTagName(\"BODY\")[0].insertAdjacentHTML(\"afterend\", \"<div id='help_box'></div>\");\n",
       "document.getElementsByTagName(\"BODY\")[0].insertAdjacentHTML(\"afterend\",\"<img src= 'https://img.flaticon.com/icons/png/512/25/25186.png?size=1200x630f&pad=10,10,10,10&ext=png&bg=FFFFFFFF' id='mvlogo'>\")\n",
       "document.getElementsByTagName(\"BODY\")[0].insertAdjacentHTML(\"afterend\", \"<div class='hidden' id='tooltip2'><p>click the eye to hide/show tools</p></div>\");\n",
       "var help_box = document.getElementById('help_box');\n",
       "\n",
       "help_box.classList.add('floater');\n",
       "\n",
       "help_box.innerHTML = \"<h2 id='heading'><b>Visual tools</b></h2><button id='button1' class='clean_buttons'>Magnify lines </button><button id='button2'class = 'clean_buttons' >Enlarge cells</button><button id='button3' class = 'clean_buttons' >highlight lines</button><button id='button4' class = 'clean_buttons' >highlight cell</button>\";\n",
       "help_box.innerHTML +=\"<button id='button5' class='clean_buttons'>Enlarge</button><button id='button6' class='clean_buttons'>Highlight</button>\"\n",
       "help_box.innerHTML += \"<button id='button7' class='clean_buttons'>enlarge</button\"\n",
       "help_box.innerHTML+= \"<p class='sections' id='code_heading'><b>Code</b></p>\"\n",
       "help_box.innerHTML+= \"<p class='sections' id='output_heading'><b>Outputs</b></p>\"\n",
       "help_box.innerHTML+= \"<p class='sections' id='markdown_heading'><b>Markdowns</b></p>\"\n",
       "help_box.innerHTML +=\"<p id='credit'>logo credit to https://www.flaticon.com/free-icon/eye-open_25186 <br>  used under open license: Attribution 3.0 Unported (CC BY 3.0)<br> Coded by N.Griffiths employed by Muliverse </p>\"\n",
       "document.body.appendChild(help_box);\n",
       "\n",
       "document.getElementById('button7').addEventListener('click',function(){\n",
       "   enlarge_markdown();});\n",
       "    \n",
       "document.getElementById('button6').addEventListener('click',function(){\n",
       "    magnify_output_lines();});\n",
       "\n",
       "document.getElementById('button5').addEventListener('click',function(){\n",
       "    magnify_outputs();});\n",
       "    \n",
       "document.getElementById('button4').addEventListener('click',function(){\n",
       "    highlight_cell();});\n",
       "\n",
       "document.getElementById('button3').addEventListener('click',function(){\n",
       "    highlight_code();});\n",
       "\n",
       "document.getElementById('button2').addEventListener('click',function(){\n",
       "    magnify_cell();});\n",
       "\n",
       "document.getElementById('button1').addEventListener('click',function(){\n",
       "    magnify_code();});\n",
       " \n",
       "document.getElementById('mvlogo').addEventListener('click',function(){  \n",
       "document.getElementById('help_box').classList.toggle('hidden');}); \n",
       " \n",
       " \n",
       "document.getElementById('mvlogo').addEventListener('mouseover',function(){  \n",
       "document.getElementById('tooltip2').classList.toggle('hidden');});\n",
       "\n",
       "document.getElementById('mvlogo').addEventListener('mouseout',function(){  \n",
       "document.getElementById('tooltip2').classList.toggle('hidden');});\n",
       "\n",
       "\n",
       "</script>\n",
       "<a id='boilerplate' href=\"javascript:code_toggle()\">change js running visual-aids</a>.\n",
       "\n",
       "\n",
       "<style>\n",
       "\n",
       ".hidden{\n",
       "display:none;\n",
       "}\n",
       "\n",
       "#credit{\n",
       "position: fixed;\n",
       "top:65.5vh;\n",
       "left:81vw;\n",
       "font-size:0.9vmin;\n",
       "}\n",
       "#boilerplate{\n",
       "color:white;\n",
       "}\n",
       "\n",
       "#boilerplate:hover{\n",
       "color:blue;\n",
       "}\n",
       "\n",
       "#tooltip2{\n",
       "position:fixed;\n",
       "z-index:1001;\n",
       "left:80vw;\n",
       "top:18vh;\n",
       "font-size:1.5vh;\n",
       "background-color:white;\n",
       "}\n",
       "\n",
       ".floater{\n",
       "background-color:#FFFFFF;\n",
       "color:#003b49;\n",
       "border-style:solid;\n",
       "border-color:#003b49;\n",
       "borderwidth:0.1vh;\n",
       "z-index:1000;\n",
       "position:fixed;\n",
       "left: 80vw;\n",
       "Top: 20vh;\n",
       "height: 53vh;\n",
       "width: 18vw;\n",
       "\n",
       "}\n",
       "\n",
       "#heading{\n",
       "position:fixed;\n",
       "top:21vh;\n",
       "left:80vw;\n",
       "margin: 1vh 1vh 1vh  1vh;\n",
       "font-size:3vmin;}\n",
       "\n",
       ".clean_buttons{\n",
       "padding: 0px 0px 0px 0px;\n",
       "background-color:#d0d3d4;\n",
       "color:#003b49;\n",
       "cursor: pointer;\n",
       "width:8vw;\n",
       "height:6vh;\n",
       "font-size:2vmin;\n",
       "border-width:0.1vh;\n",
       "}\n",
       "#button1{\n",
       "position:fixed;\n",
       "top:31vh;\n",
       "left:80.5vw;\n",
       "}\n",
       "#button2{\n",
       "position:fixed;\n",
       "top:31vh;\n",
       "left:89vw;\n",
       "}\n",
       "#button3{\n",
       "position:fixed;\n",
       "top:38vh;\n",
       "left:80.5vw;\n",
       "}\n",
       "#button4{\n",
       "position:fixed;\n",
       "top:38vh;\n",
       "left:89vw;\n",
       "}\n",
       "#button5{\n",
       "position:fixed;\n",
       "top:48.5vh;\n",
       "left:80.5vw;\n",
       "}\n",
       "#button6{\n",
       "position:fixed;\n",
       "top:48.5vh;\n",
       "left:89vw;\n",
       "}\n",
       "#button7{\n",
       "position:fixed;\n",
       "top:58vh;\n",
       "left: 84vw;\n",
       "}\n",
       ".active_button{\n",
       "background:#003b49;\n",
       "color:#d0d3d4;\n",
       "}\n",
       "\n",
       ".sections{\n",
       "font-size: 2vmin;\n",
       "left:82vw;\n",
       "}\n",
       "#code_heading{\n",
       "position:fixed;\n",
       "top:28vh;\n",
       "}\n",
       "#output_heading{\n",
       "position:fixed;\n",
       "top:45vh;\n",
       "}\n",
       "#markdown_heading{\n",
       "position:fixed;\n",
       "top:55vh;\n",
       "}\n",
       "\n",
       "#mvlogo{\n",
       "width:18vw;\n",
       "height:8vh;\n",
       "object-fit: cover;\n",
       "position:fixed;\n",
       "z-index:1000;\n",
       "left: 80vw;\n",
       "top: 10vh;\n",
       "border: 0.5vh solid #003b49;\n",
       "cursor: pointer;\n",
       "}\n",
       "\n",
       ".highlighted :hover{\n",
       "background-color:#fcfaeb;\n",
       "}\n",
       "\n",
       ".highlighted_code div pre :hover{\n",
       "background-color:yellow;\n",
       "}\n",
       "\n",
       ".magnified_code div pre span:hover{\n",
       "margin-top:3vh;\n",
       "margin-bottom:3vh;\n",
       "height:30px;\n",
       "width:auto;\n",
       "font-size:130%;}\n",
       "\n",
       ".magnified_cell div pre{\n",
       "padding: 6px 0px 6px 0px;\n",
       "}\n",
       "\n",
       ".magnified_cell div{\n",
       "font-size:120%;\n",
       "line-height:120%;\n",
       "}\n",
       "\n",
       ".magnified_output *{\n",
       "font-size: 115%;\n",
       "}\n",
       "\n",
       ".magnified_output_lines :hover{\n",
       "background-color:#FFFF99;\n",
       "color:purple;\n",
       "\n",
       "}\n",
       "\n",
       ".enlarged *  {\n",
       "font-size:120%;\n",
       "line-height:120%;\n",
       "\n",
       "}\n",
       "\n",
       "\n",
       "\n",
       "</style>\n"
      ],
      "text/plain": [
       "<IPython.core.display.HTML object>"
      ]
     },
     "metadata": {},
     "output_type": "display_data"
    }
   ],
   "source": [
    "from IPython.display import HTML\n",
    "from IPython.display import Javascript\n",
    "\n",
    "from IPython.display import display\n",
    "\n",
    "# Taken from https://stackoverflow.com/questions/31517194/how-to-hide-one-specific-cell-input-or-output-in-ipython-notebook\n",
    "tag = HTML(\"\"\"<script>\n",
    "code_show=true; \n",
    "function code_toggle() {\n",
    "    if (code_show){\n",
    "        $('div.cell.code_cell.rendered.selected div.input').hide();\n",
    "    } else {\n",
    "        $('div.cell.code_cell.rendered.selected div.input').show();\n",
    "    }\n",
    "    code_show = !code_show\n",
    "} \n",
    "$( document ).ready(code_toggle);\n",
    "\n",
    "var flagHighlight=0;\n",
    "var flagHighlightCode = 0;\n",
    "var flagMagnifyCell = 0;\n",
    "var flagMagnifyCode =0;\n",
    "var flagMagnifyOutputs=0;\n",
    "var flagEnlarge = 0;\n",
    "var flagHighlightOutput = 0;\n",
    "\n",
    "function enlarge_markdown(){\n",
    "    \n",
    "if(flagEnlarge==0){\n",
    "flagEnlarges = 1;\n",
    "document.getElementById('button7').classList.toggle('active_button');\n",
    "var els = document.getElementsByClassName('text_cell');\n",
    "var i;\n",
    "for(i=0;i<els.length;i++){\n",
    "els[i].classList.toggle('enlarged');}}\n",
    "else{\n",
    "flagEnlarge = 0;\n",
    "document.getElementById('button7').classList.toggle('active_button');\n",
    "var els = document.getElementsByClassName('text_cell');\n",
    "var i;\n",
    "for(i=0;i<els.length;i++){\n",
    "els[i].classList.remove('enlarged');\n",
    "}};};\n",
    "\n",
    "\n",
    "function magnify_outputs(){\n",
    "    \n",
    "if(flagMagnifyOutputs==0){\n",
    "flagMagnifyOutputs = 1;\n",
    "document.getElementById('button5').classList.toggle('active_button');\n",
    "var els = document.getElementsByClassName('output_wrapper');\n",
    "var i;\n",
    "for(i=0;i<els.length;i++){\n",
    "els[i].classList.toggle('magnified_output');}}\n",
    "else{\n",
    "flagMagnifyOutputs = 0;\n",
    "document.getElementById('button5').classList.toggle('active_button');\n",
    "var els = document.getElementsByClassName('output_wrapper');\n",
    "var i;\n",
    "for(i=0;i<els.length;i++){\n",
    "els[i].classList.remove('magnified_output');\n",
    "}};};\n",
    "\n",
    "function magnify_output_lines(){\n",
    "    \n",
    "if(flagHighlightOutput==0){\n",
    "flagHighlightOutput = 1;\n",
    "document.getElementById('button6').classList.toggle('active_button');\n",
    "var els = document.getElementsByClassName('output_wrapper');\n",
    "var i;\n",
    "for(i=0;i<els.length;i++){\n",
    "els[i].classList.toggle('magnified_output_lines');}}\n",
    "else{flagHighlightOutput = 0;\n",
    "document.getElementById('button6').classList.toggle('active_button');\n",
    "var els = document.getElementsByClassName('output_wrapper');\n",
    "var i;\n",
    "for(i=0;i<els.length;i++){\n",
    "els[i].classList.remove('magnified_output_lines');\n",
    "}};};\n",
    "\n",
    "\n",
    "function highlight_cell(){\n",
    "    \n",
    "if(flagHighlight==0){\n",
    "flagHighlight = 1;\n",
    "document.getElementById('button4').classList.toggle('active_button');\n",
    "var els = document.getElementsByClassName('CodeMirror-lines');\n",
    "var i;\n",
    "for(i=0;i<els.length;i++){\n",
    "els[i].classList.toggle('highlighted');}}\n",
    "else{flagHighlight = 0;\n",
    "document.getElementById('button4').classList.toggle('active_button');\n",
    "var els = document.getElementsByClassName('CodeMirror-lines');\n",
    "var i;\n",
    "for(i=0;i<els.length;i++){\n",
    "els[i].classList.remove('highlighted');\n",
    "}};};\n",
    "\n",
    "\n",
    "function highlight_code(){   \n",
    "if(flagHighlightCode==0){\n",
    "\n",
    "flagHighlightCode = 1;\n",
    "document.getElementById('button3').classList.toggle('active_button');\n",
    "var els = document.getElementsByClassName('CodeMirror-lines');\n",
    "var i;\n",
    "for(i=0;i<els.length;i++){\n",
    "els[i].classList.toggle('highlighted_code');}}   \n",
    "else{flagHighlightCode = 0;\n",
    "document.getElementById('button3').classList.toggle('active_button');\n",
    "var els = document.getElementsByClassName('CodeMirror-lines');\n",
    "var i;\n",
    "for(i=0;i<els.length;i++){\n",
    "els[i].classList.remove('highlighted_code');\n",
    "}};};\n",
    "\n",
    "function magnify_cell(){   \n",
    "if(flagMagnifyCell==0){\n",
    "flagMagnifyCell = 1;\n",
    "document.getElementById('button2').classList.toggle('active_button');\n",
    "var els = document.getElementsByClassName('CodeMirror-lines');\n",
    "var i;\n",
    "for(i=0;i<els.length;i++){\n",
    "els[i].classList.toggle('magnified_cell');}}   \n",
    "else{flagMagnifyCell = 0;\n",
    "document.getElementById('button2').classList.toggle('active_button');\n",
    "var els = document.getElementsByClassName('CodeMirror-lines');\n",
    "var i;\n",
    "for(i=0;i<els.length;i++){\n",
    "els[i].classList.remove('magnified_cell');\n",
    "}};};\n",
    "\n",
    "function magnify_code(){   \n",
    "if(flagMagnifyCode==0){\n",
    "flagMagnifyCode = 1;\n",
    "document.getElementById('button1').classList.toggle('active_button');\n",
    "var els = document.getElementsByClassName('CodeMirror-lines');\n",
    "var i;\n",
    "for(i=0;i<els.length;i++){\n",
    "els[i].classList.toggle('magnified_code');}}   \n",
    "else{flagMagnifyCode = 0;\n",
    "document.getElementById('button1').classList.toggle('active_button');\n",
    "var els = document.getElementsByClassName('CodeMirror-lines');\n",
    "var i;\n",
    "for(i=0;i<els.length;i++){\n",
    "els[i].classList.remove('magnified_code');\n",
    "}};};\n",
    "\n",
    "\n",
    "document.getElementsByTagName(\"BODY\")[0].insertAdjacentHTML(\"afterend\", \"<div id='help_box'></div>\");\n",
    "document.getElementsByTagName(\"BODY\")[0].insertAdjacentHTML(\"afterend\",\"<img src= 'https://img.flaticon.com/icons/png/512/25/25186.png?size=1200x630f&pad=10,10,10,10&ext=png&bg=FFFFFFFF' id='mvlogo'>\")\n",
    "document.getElementsByTagName(\"BODY\")[0].insertAdjacentHTML(\"afterend\", \"<div class='hidden' id='tooltip2'><p>click the eye to hide/show tools</p></div>\");\n",
    "var help_box = document.getElementById('help_box');\n",
    "\n",
    "help_box.classList.add('floater');\n",
    "\n",
    "help_box.innerHTML = \"<h2 id='heading'><b>Visual tools</b></h2><button id='button1' class='clean_buttons'>Magnify lines </button><button id='button2'class = 'clean_buttons' >Enlarge cells</button><button id='button3' class = 'clean_buttons' >highlight lines</button><button id='button4' class = 'clean_buttons' >highlight cell</button>\";\n",
    "help_box.innerHTML +=\"<button id='button5' class='clean_buttons'>Enlarge</button><button id='button6' class='clean_buttons'>Highlight</button>\"\n",
    "help_box.innerHTML += \"<button id='button7' class='clean_buttons'>enlarge</button\"\n",
    "help_box.innerHTML+= \"<p class='sections' id='code_heading'><b>Code</b></p>\"\n",
    "help_box.innerHTML+= \"<p class='sections' id='output_heading'><b>Outputs</b></p>\"\n",
    "help_box.innerHTML+= \"<p class='sections' id='markdown_heading'><b>Markdowns</b></p>\"\n",
    "help_box.innerHTML +=\"<p id='credit'>logo credit to https://www.flaticon.com/free-icon/eye-open_25186 <br>  used under open license: Attribution 3.0 Unported (CC BY 3.0)<br> Coded by N.Griffiths employed by Muliverse </p>\"\n",
    "document.body.appendChild(help_box);\n",
    "\n",
    "document.getElementById('button7').addEventListener('click',function(){\n",
    "   enlarge_markdown();});\n",
    "    \n",
    "document.getElementById('button6').addEventListener('click',function(){\n",
    "    magnify_output_lines();});\n",
    "\n",
    "document.getElementById('button5').addEventListener('click',function(){\n",
    "    magnify_outputs();});\n",
    "    \n",
    "document.getElementById('button4').addEventListener('click',function(){\n",
    "    highlight_cell();});\n",
    "\n",
    "document.getElementById('button3').addEventListener('click',function(){\n",
    "    highlight_code();});\n",
    "\n",
    "document.getElementById('button2').addEventListener('click',function(){\n",
    "    magnify_cell();});\n",
    "\n",
    "document.getElementById('button1').addEventListener('click',function(){\n",
    "    magnify_code();});\n",
    " \n",
    "document.getElementById('mvlogo').addEventListener('click',function(){  \n",
    "document.getElementById('help_box').classList.toggle('hidden');}); \n",
    " \n",
    " \n",
    "document.getElementById('mvlogo').addEventListener('mouseover',function(){  \n",
    "document.getElementById('tooltip2').classList.toggle('hidden');});\n",
    "\n",
    "document.getElementById('mvlogo').addEventListener('mouseout',function(){  \n",
    "document.getElementById('tooltip2').classList.toggle('hidden');});\n",
    "\n",
    "\n",
    "</script>\n",
    "<a id='boilerplate' href=\"javascript:code_toggle()\">change js running visual-aids</a>.\n",
    "\n",
    "\n",
    "<style>\n",
    "\n",
    ".hidden{\n",
    "display:none;\n",
    "}\n",
    "\n",
    "#credit{\n",
    "position: fixed;\n",
    "top:65.5vh;\n",
    "left:81vw;\n",
    "font-size:0.9vmin;\n",
    "}\n",
    "#boilerplate{\n",
    "color:white;\n",
    "}\n",
    "\n",
    "#boilerplate:hover{\n",
    "color:blue;\n",
    "}\n",
    "\n",
    "#tooltip2{\n",
    "position:fixed;\n",
    "z-index:1001;\n",
    "left:80vw;\n",
    "top:18vh;\n",
    "font-size:1.5vh;\n",
    "background-color:white;\n",
    "}\n",
    "\n",
    ".floater{\n",
    "background-color:#FFFFFF;\n",
    "color:#003b49;\n",
    "border-style:solid;\n",
    "border-color:#003b49;\n",
    "borderwidth:0.1vh;\n",
    "z-index:1000;\n",
    "position:fixed;\n",
    "left: 80vw;\n",
    "Top: 20vh;\n",
    "height: 53vh;\n",
    "width: 18vw;\n",
    "\n",
    "}\n",
    "\n",
    "#heading{\n",
    "position:fixed;\n",
    "top:21vh;\n",
    "left:80vw;\n",
    "margin: 1vh 1vh 1vh  1vh;\n",
    "font-size:3vmin;}\n",
    "\n",
    ".clean_buttons{\n",
    "padding: 0px 0px 0px 0px;\n",
    "background-color:#d0d3d4;\n",
    "color:#003b49;\n",
    "cursor: pointer;\n",
    "width:8vw;\n",
    "height:6vh;\n",
    "font-size:2vmin;\n",
    "border-width:0.1vh;\n",
    "}\n",
    "#button1{\n",
    "position:fixed;\n",
    "top:31vh;\n",
    "left:80.5vw;\n",
    "}\n",
    "#button2{\n",
    "position:fixed;\n",
    "top:31vh;\n",
    "left:89vw;\n",
    "}\n",
    "#button3{\n",
    "position:fixed;\n",
    "top:38vh;\n",
    "left:80.5vw;\n",
    "}\n",
    "#button4{\n",
    "position:fixed;\n",
    "top:38vh;\n",
    "left:89vw;\n",
    "}\n",
    "#button5{\n",
    "position:fixed;\n",
    "top:48.5vh;\n",
    "left:80.5vw;\n",
    "}\n",
    "#button6{\n",
    "position:fixed;\n",
    "top:48.5vh;\n",
    "left:89vw;\n",
    "}\n",
    "#button7{\n",
    "position:fixed;\n",
    "top:58vh;\n",
    "left: 84vw;\n",
    "}\n",
    ".active_button{\n",
    "background:#003b49;\n",
    "color:#d0d3d4;\n",
    "}\n",
    "\n",
    ".sections{\n",
    "font-size: 2vmin;\n",
    "left:82vw;\n",
    "}\n",
    "#code_heading{\n",
    "position:fixed;\n",
    "top:28vh;\n",
    "}\n",
    "#output_heading{\n",
    "position:fixed;\n",
    "top:45vh;\n",
    "}\n",
    "#markdown_heading{\n",
    "position:fixed;\n",
    "top:55vh;\n",
    "}\n",
    "\n",
    "#mvlogo{\n",
    "width:18vw;\n",
    "height:8vh;\n",
    "object-fit: cover;\n",
    "position:fixed;\n",
    "z-index:1000;\n",
    "left: 80vw;\n",
    "top: 10vh;\n",
    "border: 0.5vh solid #003b49;\n",
    "cursor: pointer;\n",
    "}\n",
    "\n",
    ".highlighted :hover{\n",
    "background-color:#fcfaeb;\n",
    "}\n",
    "\n",
    ".highlighted_code div pre :hover{\n",
    "background-color:yellow;\n",
    "}\n",
    "\n",
    ".magnified_code div pre span:hover{\n",
    "margin-top:3vh;\n",
    "margin-bottom:3vh;\n",
    "height:30px;\n",
    "width:auto;\n",
    "font-size:130%;}\n",
    "\n",
    ".magnified_cell div pre{\n",
    "padding: 6px 0px 6px 0px;\n",
    "}\n",
    "\n",
    ".magnified_cell div{\n",
    "font-size:120%;\n",
    "line-height:120%;\n",
    "}\n",
    "\n",
    ".magnified_output *{\n",
    "font-size: 115%;\n",
    "}\n",
    "\n",
    ".magnified_output_lines :hover{\n",
    "background-color:#FFFF99;\n",
    "color:purple;\n",
    "\n",
    "}\n",
    "\n",
    ".enlarged *  {\n",
    "font-size:120%;\n",
    "line-height:120%;\n",
    "\n",
    "}\n",
    "\n",
    "\n",
    "\n",
    "</style>\n",
    "\"\"\")\n",
    "\n",
    "display(tag)"
   ]
  },
  {
   "cell_type": "markdown",
   "metadata": {},
   "source": [
    "<img src=\"http://imgur.com/1ZcRyrc.png\" style=\"float: left; margin: 20px; height: 55px\">\n",
    "\n",
    "# Introduction to Python: Part Two\n",
    "\n",
    "_Authors: Kiefer Katovich (San Francisco), Dave Yerrington (San Francisco), Joseph Nelson (Washington, D.C.), Sam Stack (Washington, D.C.)_\n",
    "\n",
    "---"
   ]
  },
  {
   "cell_type": "markdown",
   "metadata": {},
   "source": [
    "\n",
    "### Learning Objectives\n",
    " \n",
    "#### Part Two: Python Iterations, Control Flow, and Functions\n",
    "**After this lesson, you will be able to:**\n",
    "- Understand `Python` control flow and conditional programming.  \n",
    "- Implement `for` and `while` loops to iterate through data structures.\n",
    "- Apply `if… else` conditional statements.\n",
    "- Create functions to perform repetitive actions.\n",
    "- Demonstrate error handling using `try, except` statements.\n",
    "- Combine control flow and conditional statements to solve the classic \"FizzBuzz\" code challenge.\n",
    "- Use `Python` control flow and functions to help us parse, clean, edit, and analyze the Coffee Preferences data set.\n",
    "---"
   ]
  },
  {
   "cell_type": "markdown",
   "metadata": {},
   "source": [
    "### Lesson Guide\n",
    "\n",
    "#### [Part 2: Python Iterations, Control Flow, and Functions](#py_i)\n",
    "- [`if… else` Statements](#if_else_statements)\n",
    "- [Iterating With `for` Loops](#for_loops)\n",
    "- [FizzBuzz](#fizz_buzz)\n",
    "- [Functions](#functions)\n",
    "- [`while` Loops](#while_loops)\n",
    "- [Practice Control Flow on the Coffee Preference Data Set](#coffee_preference)\n",
    "- [Conclusion](#conclusion)\n",
    "----"
   ]
  },
  {
   "cell_type": "markdown",
   "metadata": {},
   "source": [
    "<a id='py_i'></a>\n",
    "## Python Iterations, Control Flow, and Functions\n",
    "\n",
    "We've gone over how data can exist within the Python language. Now, let's look at the core ways of interacting with it.\n",
    "\n",
    "- `if… elif… else` statements.\n",
    "- `for` and `while` loops.\n",
    "- Error handling with `try` and `except`.\n",
    "- Functions."
   ]
  },
  {
   "cell_type": "markdown",
   "metadata": {},
   "source": [
    "<a id='if_else_statements'></a>\n",
    "\n",
    "# Section 1: `if… else` Statements\n",
    "\n",
    "---\n",
    "\n",
    "In Python, **indentation matters**! This is especially true when we look at the control structures in this lesson. In each case, a block of indented code is only sometimes run. There will always be a condition in the line preceding the indented block that determines whether the indented code is run or skipped.\n",
    "\n",
    "#### `if` Statement\n",
    "\n",
    "The simplest example of a control structure is the `if` statement."
   ]
  },
  {
   "cell_type": "code",
   "execution_count": 2,
   "metadata": {},
   "outputs": [
    {
     "name": "stdout",
     "output_type": "stream",
     "text": [
      "The integer 1 is equal to the integer 1.\n",
      "Is the next indented line run, too?\n"
     ]
    }
   ],
   "source": [
    "if 1 == 1:\n",
    "    print('The integer 1 is equal to the integer 1.')\n",
    "    print('Is the next indented line run, too?')"
   ]
  },
  {
   "cell_type": "code",
   "execution_count": 3,
   "metadata": {},
   "outputs": [
    {
     "name": "stdout",
     "output_type": "stream",
     "text": [
      "---\n",
      "These two lines are not indented, so they are always run next.\n"
     ]
    }
   ],
   "source": [
    "if 'one' == 'two':\n",
    "    print(\"The string 'one' is equal to the string 'two'.\")\n",
    "\n",
    "print('---')\n",
    "print('These two lines are not indented, so they are always run next.')"
   ]
  },
  {
   "cell_type": "markdown",
   "metadata": {},
   "source": [
    "Notice that, in Python, the line before every indented block must end with a colon (`:`). In fact, it turns out that the `if` statement has a very specific syntax.\n",
    "\n",
    "```if <expression>:\n",
    "    <one or more indented lines>```\n",
    "\n",
    "When the `if` statement is run, the expression is evaluated to `True` or `False` by applying the built-in `bool()` function to it. If the expression evaluates to `True`, the code block is run; otherwise, it is skipped.\n",
    "\n",
    "#### `if` ... `else`\n",
    "\n",
    "In many cases, you may want to run some code if the expression evaluates to `True` and some different code if it evaluates to `False`. This is done using `else`. Note how it is at the same indentation level as the `if` statement, followed by a colon, followed by a code block. Let's see it in action."
   ]
  },
  {
   "cell_type": "code",
   "execution_count": 3,
   "metadata": {},
   "outputs": [
    {
     "name": "stdout",
     "output_type": "stream",
     "text": [
      "50 >= 30.\n",
      "The else code block was run instead of the first block.\n",
      "---\n",
      "These two lines are not indented, so they are always run next.\n"
     ]
    }
   ],
   "source": [
    "if 50 < 30:\n",
    "    print(\"50 < 30.\")\n",
    "else:\n",
    "    print(\"50 >= 30.\")\n",
    "    print(\"The else code block wdas run instead of the first block.\")\n",
    "\n",
    "print('---')\n",
    "print('These two lines are not indented, so they are always run next.')"
   ]
  },
  {
   "cell_type": "markdown",
   "metadata": {},
   "source": [
    "#### `if` ... `elif` ... `else`\n",
    "\n",
    "Sometimes, you might want to run one specific code block out of several. For example, perhaps we provide the user with three choices and want something different to happen with each one.\n",
    "\n",
    "`elif` stands for `else if`. It belongs on a line between the initial `if` statement and an (optional) `else`. "
   ]
  },
  {
   "cell_type": "code",
   "execution_count": 4,
   "metadata": {},
   "outputs": [
    {
     "name": "stdout",
     "output_type": "stream",
     "text": [
      "Your health is average.\n",
      "Exercise and eat healthily!\n",
      "---\n",
      "These two lines are not indented, so they are always run next.\n"
     ]
    }
   ],
   "source": [
    "health = 55\n",
    "\n",
    "if health > 70:\n",
    "    print('You are in great health!')\n",
    "elif health > 40:\n",
    "    print('Your health is average.')\n",
    "    print('Exercise and eat healthily!')\n",
    "else:\n",
    "    print('Your health is low.')\n",
    "    print('Please see a doctor now.')\n",
    "\n",
    "print('---')\n",
    "print('These two lines are not indented, so they are always run next.')"
   ]
  },
  {
   "cell_type": "markdown",
   "metadata": {},
   "source": [
    "This code works by evaluating each condition in order. If a condition evaluates to `True`, the rest are skipped.\n",
    "\n",
    "**Let's walk through the code.** First, we let `health = 55`. We move to the next line at the same indentation level — the `if`. We evaluate `health > 70` to be `False`, so its code block is skipped. Next, the interpreter moves to the next line at the same outer indentation level, which happens to be the `elif`. It evaluates its expression, `health > 40`, to be `True`, so its code block is run. Now, because a code block was run, the rest of the `if` statement is skipped."
   ]
  },
  {
   "cell_type": "markdown",
   "metadata": {},
   "source": [
    "![](./assets/if-flow.png)"
   ]
  },
  {
   "cell_type": "markdown",
   "metadata": {},
   "source": [
    "### 1) Write an `if… else` statement to check whether or not the suitcase weighs more than 50 pounds.\n",
    "\n",
    "Print a message indicating whether or not the suitcase weighs more than 50 pounds."
   ]
  },
  {
   "cell_type": "code",
   "execution_count": 4,
   "metadata": {},
   "outputs": [
    {
     "name": "stdout",
     "output_type": "stream",
     "text": [
      "How many pounds does your suitcase weigh? 10\n"
     ]
    }
   ],
   "source": [
    "weight = float((input(\"How many pounds does your suitcase weigh? \")))"
   ]
  },
  {
   "cell_type": "code",
   "execution_count": 5,
   "metadata": {},
   "outputs": [
    {
     "data": {
      "text/plain": [
       "10.0"
      ]
     },
     "execution_count": 5,
     "metadata": {},
     "output_type": "execute_result"
    }
   ],
   "source": [
    "weight"
   ]
  },
  {
   "cell_type": "code",
   "execution_count": null,
   "metadata": {},
   "outputs": [],
   "source": [
    "# A:"
   ]
  },
  {
   "cell_type": "markdown",
   "metadata": {},
   "source": [
    "Click here for solution\n",
    "\n",
    "<span style ='color:white'>\n",
    "\n",
    "if weight > 50:\n",
    "    print('The suitcase is heavier than 50 pounds')\n",
    "else:\n",
    "    print('The suitcase is less than or equal to 50 pounds')"
   ]
  },
  {
   "cell_type": "markdown",
   "metadata": {},
   "source": [
    "---\n",
    "\n",
    "### 2) Write an `if… else` statement for multiple conditions.\n",
    "\n",
    "Print out these recommendations based on the weather conditions:\n",
    "\n",
    "1) The temperature is higher than 60 degrees and it is raining: Bring an umbrella.\n",
    "2) The temperature is lower than or equal to 60 degrees and it is raining: Bring an umbrella and a jacket.\n",
    "3) The temperature is higher than 60 degrees and the sun is shining: Wear a T-shirt.\n",
    "4) The temperature is lower than or equal to 60 degrees and the sun is shining: Bring a jacket."
   ]
  },
  {
   "cell_type": "code",
   "execution_count": 7,
   "metadata": {},
   "outputs": [
    {
     "name": "stdout",
     "output_type": "stream",
     "text": [
      "What is the temperature? 37\n",
      "What is the weather (rain or shine)? rain\n"
     ]
    }
   ],
   "source": [
    "temperature = float(eval(input('What is the temperature? ')))\n",
    "weather = input('What is the weather (rain or shine)? ')"
   ]
  },
  {
   "cell_type": "code",
   "execution_count": 8,
   "metadata": {},
   "outputs": [],
   "source": [
    "# A:"
   ]
  },
  {
   "cell_type": "markdown",
   "metadata": {},
   "source": [
    "Click here for solution\n",
    "\n",
    "<span style ='color:white'>\n",
    "\n",
    "if temperature > 60 and weather == 'rain':\n",
    "    print('Bring an umbrella')\n",
    "elif temperature < 60 and weather == 'rain':\n",
    "    print('Bring umbrella and jacket')\n",
    "elif temperature > 60 and weather == 'shine':\n",
    "    print('T - shirt')\n",
    "else:\n",
    "    print('jacket')"
   ]
  },
  {
   "cell_type": "markdown",
   "metadata": {},
   "source": [
    "---\n",
    "<a id='for_loops'></a>\n",
    "# Section 2: `for` Loops\n",
    "\n",
    "\n",
    "One of the primary purposes of using a programming language is to automate repetitive tasks. One such means in Python is the `for` loop.\n",
    "\n",
    "The `for` loop allows you to perform a task repeatedly on every element within an object, such as every name in a list.\n",
    "\n",
    "\n",
    "Let's see how the pseudocode works:\n",
    "\n",
    "```python\n",
    "# For each individual object in the list\n",
    "    # perform task_A on said object.\n",
    "    # Once task_A has been completed, move to next object in the list.\n",
    "```\n",
    "\n",
    "Let's say we wanted to print each of the names in the list, as well as \"is Awesome!\""
   ]
  },
  {
   "cell_type": "code",
   "execution_count": 16,
   "metadata": {},
   "outputs": [
    {
     "name": "stdout",
     "output_type": "stream",
     "text": [
      "Alex Is Awesome!\n",
      "Brian Is Awesome!\n",
      "Catherine Is Awesome!\n"
     ]
    }
   ],
   "source": [
    "names = ['Alex', 'Brian', 'Catherine']\n",
    "\n",
    "for name in names:\n",
    "    print(name + ' Is Awesome!')"
   ]
  },
  {
   "cell_type": "markdown",
   "metadata": {},
   "source": [
    "This process of cycling through a list item by item is known as \"iteration.\" "
   ]
  },
  {
   "cell_type": "markdown",
   "metadata": {},
   "source": [
    "Commands like `range` and `len` are very useful when writing loops as you can see in the examples below."
   ]
  },
  {
   "cell_type": "code",
   "execution_count": 11,
   "metadata": {},
   "outputs": [
    {
     "name": "stdout",
     "output_type": "stream",
     "text": [
      "0\n",
      "1\n",
      "2\n",
      "3\n",
      "4\n",
      "5\n"
     ]
    }
   ],
   "source": [
    "# range can take in 3 inputs, if using 1 that is the upper limit (but not equal to)\n",
    "for i in range(6):\n",
    "    print(i)"
   ]
  },
  {
   "cell_type": "code",
   "execution_count": 15,
   "metadata": {},
   "outputs": [
    {
     "name": "stdout",
     "output_type": "stream",
     "text": [
      "1\n",
      "2\n",
      "3\n",
      "4\n",
      "5\n"
     ]
    }
   ],
   "source": [
    "# 2 inputs sets a lower limit (equal to) and upper (not equal to)\n",
    "for i in range(1,6):\n",
    "    print(i)"
   ]
  },
  {
   "cell_type": "code",
   "execution_count": 16,
   "metadata": {},
   "outputs": [
    {
     "name": "stdout",
     "output_type": "stream",
     "text": [
      "0\n",
      "2\n",
      "4\n"
     ]
    }
   ],
   "source": [
    "# 3 inputs also adds in a step\n",
    "for i in range(0,6,2):\n",
    "    print(i)"
   ]
  },
  {
   "cell_type": "code",
   "execution_count": 17,
   "metadata": {},
   "outputs": [
    {
     "name": "stdout",
     "output_type": "stream",
     "text": [
      "Data Rules!\n",
      "Data Rules!\n",
      "Data Rules!\n",
      "Data Rules!\n"
     ]
    }
   ],
   "source": [
    "# combining len with range allows us to iterate through the length of an object\n",
    "for i in range(len('data')):\n",
    "    print('Data Rules!')"
   ]
  },
  {
   "cell_type": "markdown",
   "metadata": {},
   "source": [
    "---\n",
    "\n",
    "### 3) Write a `for` loop that iterates from number 1 to number 15.\n",
    "\n",
    "On each iteration, print out the number.  \n"
   ]
  },
  {
   "cell_type": "code",
   "execution_count": null,
   "metadata": {},
   "outputs": [],
   "source": [
    "# A:"
   ]
  },
  {
   "cell_type": "markdown",
   "metadata": {
    "collapsed": true
   },
   "source": [
    "Click here for solution\n",
    "\n",
    "<span style ='color:white'>\n",
    "\n",
    "for number in range(15):\n",
    "    print(number + 1)"
   ]
  },
  {
   "cell_type": "markdown",
   "metadata": {},
   "source": [
    "---\n",
    "\n",
    "### 4) Iterate from 1 to 15, printing whether the number is odd or even.\n",
    "\n",
    "Hint: The modulus operator, `%`, can be used to take the remainder. For example:\n",
    "\n",
    "```python\n",
    "9 % 5 == 4\n",
    "```\n",
    "\n",
    "Or, in other words, the remainder of dividing 9 by 5 is 4."
   ]
  },
  {
   "cell_type": "code",
   "execution_count": null,
   "metadata": {},
   "outputs": [],
   "source": [
    "# A:"
   ]
  },
  {
   "cell_type": "markdown",
   "metadata": {},
   "source": [
    "Click here for solution\n",
    "\n",
    "<span style ='color:white'>\n",
    "\n",
    "for i in range(1, 16):\n",
    "    print(i, ['even', 'odd'][i%2])\n",
    "\n",
    "# alternate\n",
    "# for num in range(1,16):\n",
    "#     if(num % 2 == 0): \n",
    "#         print(\"The number {} is even\".format(str(num)))\n",
    "#     else:\n",
    "#         print(\"The number \" + str(num) + \" is odd\")"
   ]
  },
  {
   "cell_type": "markdown",
   "metadata": {},
   "source": [
    "---\n",
    "<a id='fizz_buzz'></a>\n",
    "### 5) Iterate from 1 to 30 using the following instructions:\n",
    "\n",
    "1) If a number is divisible by 3, print \"fizz.\"\n",
    "2) If a number is divisible by 5, print \"buzz.\" \n",
    "3) If a number is both divisible by 3 and by 5, print \"fizzbuzz.\"\n",
    "4) Otherwise, print just the number."
   ]
  },
  {
   "cell_type": "code",
   "execution_count": null,
   "metadata": {},
   "outputs": [],
   "source": [
    "# A:"
   ]
  },
  {
   "cell_type": "markdown",
   "metadata": {
    "collapsed": true
   },
   "source": [
    "Click here for solution\n",
    "\n",
    "<span style ='color:white'>\n",
    "\n",
    "for num in range(1, 31):\n",
    "    if num % 15 == 0:\n",
    "        print('fizzbuzz')\n",
    "    elif num % 5 == 0:\n",
    "        print('buzz')\n",
    "    elif num % 3 == 0:\n",
    "        print('fizz')\n",
    "    else:\n",
    "        print(num)      "
   ]
  },
  {
   "cell_type": "markdown",
   "metadata": {},
   "source": [
    "Remember this example. FizzBuzz is a common coding challenge. It is relatively easy to solve, but those who ask are always looking for more creative ways to solve or optimize it."
   ]
  },
  {
   "cell_type": "markdown",
   "metadata": {},
   "source": [
    "---\n",
    "\n",
    "### 6) Iterate through the following list of animals and print each one in all caps."
   ]
  },
  {
   "cell_type": "code",
   "execution_count": 33,
   "metadata": {},
   "outputs": [],
   "source": [
    "animals = ['duck', 'rat', 'boar', 'slug', 'mammoth', 'gazelle','stapler']"
   ]
  },
  {
   "cell_type": "code",
   "execution_count": 19,
   "metadata": {},
   "outputs": [],
   "source": [
    "# A:"
   ]
  },
  {
   "cell_type": "markdown",
   "metadata": {
    "collapsed": true
   },
   "source": [
    "Click here for solution\n",
    "\n",
    "<span style ='color:white'>\n",
    "\n",
    "for animal in animals:\n",
    "    print(animal.upper())"
   ]
  },
  {
   "cell_type": "markdown",
   "metadata": {},
   "source": [
    "---\n",
    "\n",
    "### 7) Iterate through the animals list. Capitalize the first letter and append the modified animals to a new list."
   ]
  },
  {
   "cell_type": "code",
   "execution_count": 35,
   "metadata": {},
   "outputs": [],
   "source": [
    "# A: "
   ]
  },
  {
   "cell_type": "markdown",
   "metadata": {
    "collapsed": true
   },
   "source": [
    "Click here for solution\n",
    "\n",
    "<span style ='color:white'>\n",
    "\n",
    "empty = []\n",
    "for animal in animals:\n",
    "    capped = animal.capitalize()\n",
    "    empty.append(capped)"
   ]
  },
  {
   "cell_type": "markdown",
   "metadata": {},
   "source": [
    "---\n",
    "\n",
    "### 8) Iterate through the animals. Print out the animal name and the number of vowels in the name.\n",
    "Hint: You may need to create a variable of vowels for comparison."
   ]
  },
  {
   "cell_type": "code",
   "execution_count": 48,
   "metadata": {},
   "outputs": [],
   "source": [
    "# A:"
   ]
  },
  {
   "cell_type": "markdown",
   "metadata": {
    "collapsed": true
   },
   "source": [
    "Click here for solution\n",
    "\n",
    "<span style ='color:white'>\n",
    "\n",
    "for a in animals:\n",
    "    cnt = 0\n",
    "    for l in a:\n",
    "        if l in ['a', 'e', 'i', 'o', 'u']:\n",
    "            cnt += 1\n",
    "    print(a, cnt)"
   ]
  },
  {
   "cell_type": "markdown",
   "metadata": {},
   "source": [
    "---\n",
    "<a id='functions'></a>\n",
    "# Section 3: `try` / `except`\n",
    "---\n",
    "\n",
    "Sometimes, code throws a runtime error. For example, division by zero or using a keyword as a variable name."
   ]
  },
  {
   "cell_type": "code",
   "execution_count": 38,
   "metadata": {},
   "outputs": [
    {
     "ename": "ZeroDivisionError",
     "evalue": "division by zero",
     "output_type": "error",
     "traceback": [
      "\u001b[0;31m---------------------------------------------------------------------------\u001b[0m",
      "\u001b[0;31mZeroDivisionError\u001b[0m                         Traceback (most recent call last)",
      "\u001b[0;32m<ipython-input-38-bc757c3fda29>\u001b[0m in \u001b[0;36m<module>\u001b[0;34m()\u001b[0m\n\u001b[0;32m----> 1\u001b[0;31m \u001b[0;36m1\u001b[0m \u001b[0;34m/\u001b[0m \u001b[0;36m0\u001b[0m\u001b[0;34m\u001b[0m\u001b[0;34m\u001b[0m\u001b[0m\n\u001b[0m",
      "\u001b[0;31mZeroDivisionError\u001b[0m: division by zero"
     ]
    }
   ],
   "source": [
    "1 / 0"
   ]
  },
  {
   "cell_type": "code",
   "execution_count": 8,
   "metadata": {},
   "outputs": [
    {
     "ename": "TypeError",
     "evalue": "unsupported operand type(s) for -: 'str' and 'str'",
     "output_type": "error",
     "traceback": [
      "\u001b[1;31m---------------------------------------------------------------------------\u001b[0m",
      "\u001b[1;31mTypeError\u001b[0m                                 Traceback (most recent call last)",
      "\u001b[1;32m<ipython-input-8-2eca43ca5017>\u001b[0m in \u001b[0;36m<module>\u001b[1;34m\u001b[0m\n\u001b[1;32m----> 1\u001b[1;33m \u001b[0mprint\u001b[0m\u001b[1;33m(\u001b[0m\u001b[1;34m'a'\u001b[0m \u001b[1;33m-\u001b[0m \u001b[1;34m'b'\u001b[0m\u001b[1;33m)\u001b[0m\u001b[1;33m\u001b[0m\u001b[1;33m\u001b[0m\u001b[0m\n\u001b[0m",
      "\u001b[1;31mTypeError\u001b[0m: unsupported operand type(s) for -: 'str' and 'str'"
     ]
    }
   ],
   "source": [
    "print('a' - 'b')"
   ]
  },
  {
   "cell_type": "markdown",
   "metadata": {},
   "source": [
    "These errors are called **exceptions**. Exceptions are serious errors that are **thrown** when the computer cannot continue because the expression cannot be evaluated properly. For example:\n",
    "\n",
    "+ Using the addition operator to add a string and a non-string.\n",
    "+ Using an undefined name.\n",
    "+ Opening a file that does not exist."
   ]
  },
  {
   "cell_type": "markdown",
   "metadata": {},
   "source": [
    "Luckily, our program does not have to be this fragile. By wrapping a code block with `try`, we can \"catch\" exceptions. If an exception occurs, instead of exiting, the computer immediately executes the matching `except` block and continues the program."
   ]
  },
  {
   "cell_type": "code",
   "execution_count": 43,
   "metadata": {},
   "outputs": [
    {
     "name": "stdout",
     "output_type": "stream",
     "text": [
      "1.0\n",
      "0.5\n",
      "0.3333333333333333\n",
      "Divide by zero!\n",
      "Program keeps executing!\n"
     ]
    }
   ],
   "source": [
    "a = [1, 2, 3, 0]\n",
    "for num in a:\n",
    "    try:\n",
    "        print(1 / num)\n",
    "        #print('not executed due to the exception')\n",
    "    except:\n",
    "        print('Divide by zero!')\n",
    "\n",
    "print('Program keeps executing!')"
   ]
  },
  {
   "cell_type": "markdown",
   "metadata": {},
   "source": [
    "Sometimes, you might want to do nothing in the event of an exception. However, an indented code block is still required! So, you can use the keyword `pass`."
   ]
  },
  {
   "cell_type": "code",
   "execution_count": 44,
   "metadata": {
    "scrolled": true
   },
   "outputs": [
    {
     "name": "stdout",
     "output_type": "stream",
     "text": [
      "Program keeps executing!\n"
     ]
    }
   ],
   "source": [
    "try:\n",
    "    print('a' - 'b')\n",
    "except:\n",
    "    pass\n",
    "\n",
    "print('Program keeps executing!')"
   ]
  },
  {
   "cell_type": "code",
   "execution_count": 82,
   "metadata": {},
   "outputs": [
    {
     "name": "stdout",
     "output_type": "stream",
     "text": [
      "Type a number: a\n",
      "Please type a number\n"
     ]
    }
   ],
   "source": [
    "try:\n",
    "    float(input('Type a number: '))\n",
    "except:\n",
    "    print('Please type a number')"
   ]
  },
  {
   "cell_type": "markdown",
   "metadata": {},
   "source": [
    "We can also catch specific exceptions and use try/except in more ways, but we'll keep it brief for this introduction!"
   ]
  },
  {
   "cell_type": "markdown",
   "metadata": {},
   "source": [
    "### 9) Try-Except Example\n",
    "\n",
    "Iterate through the following list, appending any items which are floats to a new list"
   ]
  },
  {
   "cell_type": "code",
   "execution_count": 18,
   "metadata": {},
   "outputs": [],
   "source": [
    "corrupted = ['!1', '23.1', '23.4.5', '??12', '.12', '12-12', '-11.1', '0-1', '*12.1', '1000']"
   ]
  },
  {
   "cell_type": "code",
   "execution_count": 19,
   "metadata": {},
   "outputs": [],
   "source": [
    "# A:"
   ]
  },
  {
   "cell_type": "markdown",
   "metadata": {},
   "source": [
    "Click here for solution\n",
    "\n",
    "<span style ='color:white'>\n",
    "\n",
    "new_list = []\n",
    "for num in corrupted:\n",
    "    try:\n",
    "        new_list.append(float(num))\n",
    "    except:\n",
    "        pass"
   ]
  },
  {
   "cell_type": "markdown",
   "metadata": {},
   "source": [
    "---\n",
    "<a id='functions'></a>\n",
    "# Section 4: Functions\n",
    "---\n",
    "\n",
    "Similar to the way we can use `for` loops as a means of performing repetitive tasks on a series of objects, we can also create functions to perform repetitive tasks. Within a function, we can write a large block of action and then call the function whenever we want to use it.  \n",
    "\n",
    "\n",
    "Let's make some pseudocode:\n",
    "```python\n",
    "# Define the function name and the requirements it needs.\n",
    "    # Perform actions.\n",
    "    # Optional: Return output.\n",
    "```\n",
    "\n",
    "Let's create a function that takes two numbers as arguments and returns their sum, difference, and product. "
   ]
  },
  {
   "cell_type": "code",
   "execution_count": 39,
   "metadata": {},
   "outputs": [],
   "source": [
    "def function(x):\n",
    "    return x**2"
   ]
  },
  {
   "cell_type": "code",
   "execution_count": 44,
   "metadata": {},
   "outputs": [],
   "source": [
    "def louise(x,y=5):\n",
    "    \n",
    "    return function(x) * y"
   ]
  },
  {
   "cell_type": "code",
   "execution_count": 49,
   "metadata": {},
   "outputs": [
    {
     "data": {
      "text/plain": [
       "24"
      ]
     },
     "execution_count": 49,
     "metadata": {},
     "output_type": "execute_result"
    }
   ],
   "source": [
    "louise(x=2,y=6)"
   ]
  },
  {
   "cell_type": "code",
   "execution_count": 46,
   "metadata": {},
   "outputs": [],
   "source": [
    "def arithmetic(num1, num2):\n",
    "    '''\n",
    "    This function adds, subtracts\n",
    "    and multiplies num1 and num2.\n",
    "    '''\n",
    "    print(num1 + num2)\n",
    "    print(num1 - num2)\n",
    "    print(num1 * num2)\n",
    "    \n",
    "#arithmetic(3,5)"
   ]
  },
  {
   "cell_type": "code",
   "execution_count": 47,
   "metadata": {},
   "outputs": [
    {
     "name": "stdout",
     "output_type": "stream",
     "text": [
      "8\n",
      "-2\n",
      "15\n"
     ]
    }
   ],
   "source": [
    "arithmetic(3, 5)"
   ]
  },
  {
   "cell_type": "code",
   "execution_count": 48,
   "metadata": {},
   "outputs": [
    {
     "data": {
      "text/plain": [
       "13.46"
      ]
     },
     "execution_count": 48,
     "metadata": {},
     "output_type": "execute_result"
    }
   ],
   "source": [
    "round(13.456, 2)"
   ]
  },
  {
   "cell_type": "markdown",
   "metadata": {},
   "source": [
    "Once we define the function, it will exist until we reset our kernel, close our notebook, or overwrite it."
   ]
  },
  {
   "cell_type": "code",
   "execution_count": 78,
   "metadata": {},
   "outputs": [
    {
     "name": "stdout",
     "output_type": "stream",
     "text": [
      "14\n",
      "-6\n",
      "40\n"
     ]
    }
   ],
   "source": [
    "arithmetic(4,10)"
   ]
  },
  {
   "cell_type": "code",
   "execution_count": 22,
   "metadata": {},
   "outputs": [
    {
     "name": "stdout",
     "output_type": "stream",
     "text": [
      "5\n",
      "6\n",
      "9\n",
      "14\n",
      "21\n",
      "30\n"
     ]
    }
   ],
   "source": [
    "# Function that squares a number and adds 5\n",
    "\n",
    "def square_add_five(x):\n",
    "    \n",
    "    output= x**2 + 5\n",
    "    return output\n",
    "\n",
    "# loop through a range of numbers, applying function\n",
    "\n",
    "for i in range(0,6):\n",
    "    print(square_add_five(i))"
   ]
  },
  {
   "cell_type": "markdown",
   "metadata": {},
   "source": [
    "### 10) Write a function that takes a word as an argument and returns the number of vowels in the word.\n",
    "\n",
    "Try it out on three words."
   ]
  },
  {
   "cell_type": "code",
   "execution_count": 58,
   "metadata": {},
   "outputs": [],
   "source": [
    "word='Steve'"
   ]
  },
  {
   "cell_type": "code",
   "execution_count": 62,
   "metadata": {},
   "outputs": [
    {
     "name": "stdout",
     "output_type": "stream",
     "text": [
      "The number of vowels in Steve is 3\n"
     ]
    }
   ],
   "source": [
    "count = 0\n",
    "for letter in word:\n",
    "    if letter not in 'aeiou':\n",
    "        count += 1\n",
    "print('The number of vowels in {} is {}'.format(word, count))"
   ]
  },
  {
   "cell_type": "code",
   "execution_count": 47,
   "metadata": {},
   "outputs": [],
   "source": [
    "# A:"
   ]
  },
  {
   "cell_type": "markdown",
   "metadata": {
    "collapsed": true
   },
   "source": [
    "Click here for solution\n",
    "\n",
    "<span style ='color:white'>\n",
    "\n",
    "def vowel_counter(word):\n",
    "    '''\n",
    "    This function takes in a word and \n",
    "    counts how many vowels\n",
    "    '''\n",
    "    count = 0\n",
    "    for letter in word:\n",
    "        if letter in 'aeiou':\n",
    "            count += 1\n",
    "    print('The number of vowels in {} is {}'.format(word, count))\n",
    "    return count\n",
    "    \n",
    "vowel_counter('steve')"
   ]
  },
  {
   "cell_type": "markdown",
   "metadata": {},
   "source": [
    "---\n",
    "\n",
    "### 11) Write a function to calculate the area of a triangle using a height and width.\n",
    "\n",
    "Test it out."
   ]
  },
  {
   "cell_type": "code",
   "execution_count": 46,
   "metadata": {},
   "outputs": [],
   "source": [
    "# A:"
   ]
  },
  {
   "cell_type": "markdown",
   "metadata": {
    "collapsed": true
   },
   "source": [
    "Click here for solution\n",
    "\n",
    "<span style ='color:white'>\n",
    "\n",
    "def triangle_area(height, width):\n",
    "    '''\n",
    "    This function takes in a height\n",
    "    and width and returns an area.\n",
    "    '''\n",
    "    area = 0.5*height*width\n",
    "    return area\n",
    "  \n",
    "triangle_area(4, 5)"
   ]
  },
  {
   "cell_type": "markdown",
   "metadata": {},
   "source": [
    "---\n",
    "<a id='while_loops'></a>\n",
    "# Section 5: `while` Loops\n",
    "---\n",
    "\n",
    "\n",
    "`while` loops are a different means of performing repetitive tasks/iteration. The function of a `for` loop is to perform tasks over a _finite list_. The function of a `while` loop is to perform a repetitive task until a _specific threshold or criteria point is met_. Keep in mind that this can be relatively dangerous, as it is easy to create a loop that never meets your criteria and runs forever.\n",
    "\n",
    "_We say \"list,\" but we're not just talking about a Python list data type. We're including any data type where information can be iterated through._\n",
    "\n",
    "Let's look at some pseudocode:\n",
    "\n",
    "```python\n",
    "# A threshold or criteria point is set.\n",
    "    # As long as the threshold or criteria point isn't met,\n",
    "    # perform a task.\n",
    "    # Check threshold/criteria point.\n",
    "        # If threshold/criteria point is met or exceeded,\n",
    "            # break loop.\n",
    "        # If not, repeat.\n",
    "    \n",
    "```\n",
    "\n",
    "An example of an infinite `while` loop:\n",
    "\n",
    "```python\n",
    "x = 0\n",
    "while x < 10:\n",
    "    print x\n",
    "```\n",
    "\n",
    "Because the value assigned to `x` never changes and always remains less than 10, this loop will print \"`x`\" infinitely until you force-kill the kernel. \n",
    "\n",
    "We can fix this infinity loop by including a incrementation for `x` within it.\n",
    "\n",
    "```python\n",
    "x = 0\n",
    "while x < 10:\n",
    "    print x\n",
    "    x = x+1\n",
    "```\n",
    "\n"
   ]
  },
  {
   "cell_type": "code",
   "execution_count": 1,
   "metadata": {},
   "outputs": [
    {
     "name": "stdout",
     "output_type": "stream",
     "text": [
      "hello\n",
      "hello\n",
      "hello\n",
      "hello\n",
      "hello\n",
      "hello\n",
      "hello\n",
      "hello\n",
      "hello\n",
      "hello\n"
     ]
    }
   ],
   "source": [
    "x=20\n",
    "while x>10:\n",
    "    print('hello')\n",
    "    x-=1"
   ]
  },
  {
   "cell_type": "code",
   "execution_count": null,
   "metadata": {},
   "outputs": [
    {
     "name": "stdout",
     "output_type": "stream",
     "text": [
      "Please enter your pin: hello\n",
      "Pin must be a number. Please try again.\n",
      "Please enter your pin: hello\n",
      "Pin must be a number. Please try again.\n",
      "Please enter your pin: 023958\n",
      "Wrong pin. Please try again. 2 attempts remaining.\n",
      "Please enter your pin: 3421\n",
      "Wrong pin. Please try again. 1 attempts remaining.\n"
     ]
    }
   ],
   "source": [
    "status=True\n",
    "password='password'\n",
    "x=0\n",
    "while status is True and x<3:\n",
    "    try:\n",
    "        number=input('Please enter a Password: ')\n",
    "        if number==password:\n",
    "            print('Success')\n",
    "            status=False\n",
    "        else:\n",
    "            print('Wrong Password')\n",
    "    except:\n",
    "        print('Wrong Password')\n",
    "        x+=1"
   ]
  },
  {
   "cell_type": "code",
   "execution_count": 30,
   "metadata": {},
   "outputs": [
    {
     "name": "stdout",
     "output_type": "stream",
     "text": [
      "[0, 2, 4, 6, 8, 10, 12, 14, 16, 18, 20, 22, 24, 26, 28, 30, 32, 34, 36, 38]\n"
     ]
    }
   ],
   "source": [
    "# Write a while loop that doubles all numbers smaller than 20 and appends them to a list\n",
    "\n",
    "x=0\n",
    "doubled=[]\n",
    "while x<20:\n",
    "    doubled.append(x*2)\n",
    "    x+=1 #+= adds a value to a variable in a control flow statement\n",
    "    \n",
    "print(doubled)"
   ]
  },
  {
   "cell_type": "code",
   "execution_count": 5,
   "metadata": {},
   "outputs": [
    {
     "name": "stdout",
     "output_type": "stream",
     "text": [
      "What is my favourite animal? dog\n",
      "What is my favourite animal? mouse\n",
      "What is my favourite animal? Cat\n"
     ]
    }
   ],
   "source": [
    "# Write a while loop that ends when a user gives the correct answer\n",
    "\n",
    "status=False\n",
    "\n",
    "while status is False:\n",
    "    answer=str(input('What is my favourite animal? ')).lower()\n",
    "    if answer=='cat':\n",
    "        status=True"
   ]
  },
  {
   "cell_type": "markdown",
   "metadata": {},
   "source": [
    "### 12) Use `while` loops and strings.\n",
    "\n",
    "Iterate over the following sentence repeatedly, counting the number of vowels in the sentence until you have tallied one million. Print out the number of iterations it took to reach that amount."
   ]
  },
  {
   "cell_type": "code",
   "execution_count": 7,
   "metadata": {},
   "outputs": [],
   "source": [
    "sentence = \"A MAN KNOCKED ON MY DOOR AND ASKED FOR A SMALL DONATION TOWARDS THE LOCAL SWIMMING POOL SO I GAVE HIM A GLASS OF WATER\""
   ]
  },
  {
   "cell_type": "code",
   "execution_count": null,
   "metadata": {},
   "outputs": [],
   "source": [
    "#A: "
   ]
  },
  {
   "cell_type": "markdown",
   "metadata": {
    "collapsed": true
   },
   "source": [
    "Click here for solution\n",
    "\n",
    "<span style ='color:white'>\n",
    "count = 0\n",
    "iterations = 0\n",
    "while count < 1000000:\n",
    "    #count the vowels\n",
    "    iterations += 1\n",
    "    count += vowel_counter(sentence)\n",
    "print(iterations, count)"
   ]
  },
  {
   "cell_type": "markdown",
   "metadata": {},
   "source": [
    "# Section 6: List and Dictionary Comprehensions"
   ]
  },
  {
   "cell_type": "markdown",
   "metadata": {},
   "source": [
    "Suppose you have a list of regional sales in pounds (£) and you would like to create a new list of the regional sales in Dollars ($) by applying the exchange rate (1.25). You could write the following:"
   ]
  },
  {
   "cell_type": "code",
   "execution_count": 3,
   "metadata": {},
   "outputs": [
    {
     "name": "stdout",
     "output_type": "stream",
     "text": [
      "List of Sales in Pounds: [300, 500, 200, 250, 860, 100, 120]\n",
      "List of Sales in Dollars: [375.0, 625.0, 250.0, 312.5, 1075.0, 125.0, 150.0]\n"
     ]
    }
   ],
   "source": [
    "sales_pounds = [300, 500, 200, 250, 860, 100, 120]\n",
    "\n",
    "# create an empty list \n",
    "sales_dollars = []\n",
    "\n",
    "# loop through the sales_pound list\n",
    "for sale in sales_pounds:\n",
    "    # multiply by 1.25 and append to sales_dollar\n",
    "    new_sale = sale * 1.25\n",
    "    \n",
    "    sales_dollars.append(new_sale)\n",
    "    \n",
    "    \n",
    "\n",
    "print('List of Sales in Pounds: ' + str(sales_pounds))\n",
    "print('List of Sales in Dollars: ' + str(sales_dollars))"
   ]
  },
  {
   "cell_type": "markdown",
   "metadata": {},
   "source": [
    "However, we can do this more efficiently by using a list comprehension. List comprehension allows you to create a new list based on an existing list.\n",
    "\n",
    "Let's run the above example again, now using list comprehension"
   ]
  },
  {
   "cell_type": "code",
   "execution_count": 4,
   "metadata": {},
   "outputs": [
    {
     "name": "stdout",
     "output_type": "stream",
     "text": [
      "List of Sales in Pounds: [300, 500, 200, 250, 860, 100, 120]\n",
      "List of Sales in Dollars: [375.0, 625.0, 250.0, 312.5, 1075.0, 125.0, 150.0]\n"
     ]
    }
   ],
   "source": [
    "sales_dollars_2 = [sale * 1.25       for sale in sales_pounds]\n",
    "\n",
    "print('List of Sales in Pounds: ' + str(sales_pounds))\n",
    "print('List of Sales in Dollars: ' + str(sales_dollars))"
   ]
  },
  {
   "cell_type": "markdown",
   "metadata": {},
   "source": [
    "#### Exercise: Convert every element in the list of names below to uppercase using a list comprehension"
   ]
  },
  {
   "cell_type": "code",
   "execution_count": 37,
   "metadata": {},
   "outputs": [],
   "source": [
    "names = ['abe', 'barbara', 'charlotte', 'david', 'eve', 'francis']"
   ]
  },
  {
   "cell_type": "code",
   "execution_count": 41,
   "metadata": {},
   "outputs": [
    {
     "data": {
      "text/plain": [
       "{'abe': 3, 'barbara': 5, 'charlotte': 5, 'david': 5, 'eve': 5, 'francis': 5}"
      ]
     },
     "execution_count": 41,
     "metadata": {},
     "output_type": "execute_result"
    }
   ],
   "source": []
  },
  {
   "cell_type": "markdown",
   "metadata": {},
   "source": [
    "Click here for solution\n",
    "\n",
    "<span style ='color:white'>\n",
    "upper_names=[name.upper() for name in names]"
   ]
  },
  {
   "cell_type": "markdown",
   "metadata": {},
   "source": [
    "Similar to this, we can also create a dictionary by using a comprehension. The code below takes a list of animals and creates a dictionary which also includes the animal's names length"
   ]
  },
  {
   "cell_type": "code",
   "execution_count": 34,
   "metadata": {},
   "outputs": [
    {
     "name": "stdout",
     "output_type": "stream",
     "text": [
      "{'cat': 3, 'dog': 3, 'cow': 3, 'mouse': 5}\n"
     ]
    }
   ],
   "source": [
    "animals=['cat','dog','cow','mouse']\n",
    "animal_length={}\n",
    "for animal in animals:\n",
    "    animal_length[animal]=len(animal)\n",
    "    \n",
    "print(animal_length)"
   ]
  },
  {
   "cell_type": "markdown",
   "metadata": {},
   "source": [
    "We could again do this in one line:"
   ]
  },
  {
   "cell_type": "code",
   "execution_count": 37,
   "metadata": {},
   "outputs": [
    {
     "name": "stdout",
     "output_type": "stream",
     "text": [
      "{'cat': 3, 'dog': 3, 'cow': 3, 'mouse': 5}\n"
     ]
    }
   ],
   "source": [
    "animal_length={animal:len(animal) for animal in animals}\n",
    "print(animal_length)"
   ]
  },
  {
   "cell_type": "markdown",
   "metadata": {},
   "source": [
    "While dictionary and list comprehensions do shorten our code, they are more difficult to read. It is sometimes more beneficial to use a longer block if others will need to use your code"
   ]
  },
  {
   "cell_type": "markdown",
   "metadata": {},
   "source": [
    "We can also incorporate conditions into our comprehensions. Consider the code below which applies a different rate depending on the size of the sale. "
   ]
  },
  {
   "cell_type": "code",
   "execution_count": 10,
   "metadata": {},
   "outputs": [
    {
     "name": "stdout",
     "output_type": "stream",
     "text": [
      "List of Sales in Pounds: [300, 500, 200, 250, 860, 100, 120]\n",
      "List of Sales in Dollars: [375.0, 625.0, 250.0, 312.5, 1075.0, 125.0, 150.0]\n"
     ]
    }
   ],
   "source": [
    "conditional_sales = []\n",
    "\n",
    "for sale in sales_pounds:\n",
    "    if sale > 150:\n",
    "        new_sale = sale * 1.25\n",
    "        conditional_sales.append(new_sale)\n",
    "    else:\n",
    "        new_sale = sale *1.15\n",
    "        conditional_sales.append(new_sale)\n",
    "        \n",
    "print('List of Sales in Pounds: ' + str(sales_pounds))\n",
    "print('List of Sales in Dollars: ' + str(sales_dollars))"
   ]
  },
  {
   "cell_type": "markdown",
   "metadata": {},
   "source": [
    "We can write it all again in one line, note that the `expression` comes first, followed by the `if` statement and the `for` statement comes last. "
   ]
  },
  {
   "cell_type": "code",
   "execution_count": 11,
   "metadata": {},
   "outputs": [
    {
     "name": "stdout",
     "output_type": "stream",
     "text": [
      "List of Sales in Pounds: [300, 500, 200, 250, 860, 100, 120]\n",
      "List of Sales in Dollars: [375.0, 625.0, 250.0, 312.5, 1075.0, 125.0, 150.0]\n"
     ]
    }
   ],
   "source": [
    "conditional_sales_2 = [sale * 1.25 if sale > 150 else sale * 1.15 for sale in sales_pounds]\n",
    "\n",
    "        \n",
    "print('List of Sales in Pounds: ' + str(sales_pounds))\n",
    "print('List of Sales in Dollars: ' + str(sales_dollars))"
   ]
  },
  {
   "cell_type": "markdown",
   "metadata": {},
   "source": [
    "### 13) Use a list comprehension\n",
    "\n",
    "Iterate from 1 to 15, squaring each number and placing it into a list. Try to use a list comprehension."
   ]
  },
  {
   "cell_type": "code",
   "execution_count": null,
   "metadata": {},
   "outputs": [],
   "source": [
    "# A: "
   ]
  },
  {
   "cell_type": "markdown",
   "metadata": {},
   "source": [
    "Click here for solution\n",
    "\n",
    "<span style ='color:white'>\n",
    "\n",
    "squared=[i**2 for i in range(1,16)]"
   ]
  },
  {
   "cell_type": "markdown",
   "metadata": {},
   "source": [
    "### 14) Use a dictionary comprehension\n",
    "\n",
    "Iterate through the list of names, creating a dictionary where the names are the keys. Assign a value of True if the name starts with 'L' and False otherwise"
   ]
  },
  {
   "cell_type": "code",
   "execution_count": 44,
   "metadata": {},
   "outputs": [],
   "source": [
    "names=['Lauren','Mary','Lee','Jonathan','Lisa','Howard']"
   ]
  },
  {
   "cell_type": "code",
   "execution_count": null,
   "metadata": {},
   "outputs": [],
   "source": [
    "# A:"
   ]
  },
  {
   "cell_type": "markdown",
   "metadata": {},
   "source": [
    "Click here for solution\n",
    "\n",
    "<span style ='color:white'>\n",
    "\n",
    "name_list = {name : name[0] == 'L' for name in names}\n",
    "name_list"
   ]
  },
  {
   "cell_type": "markdown",
   "metadata": {},
   "source": [
    "### 15) Use a dictionary comprehension\n",
    "\n",
    "Loop through numbers from 1 to 20 and return a list that returns the number if it is an even number and square the number if it is odd."
   ]
  },
  {
   "cell_type": "code",
   "execution_count": null,
   "metadata": {},
   "outputs": [],
   "source": [
    "# A:"
   ]
  },
  {
   "cell_type": "markdown",
   "metadata": {},
   "source": [
    "Click here for solution\n",
    "\n",
    "<span style ='color:white'>\n",
    "square_if_odd=[i**2 if i%2==1 else i for i in range(1,21)]\n",
    "print(square_if_odd)"
   ]
  },
  {
   "cell_type": "markdown",
   "metadata": {},
   "source": [
    "---\n",
    "<a id='coffee_preference'></a>\n",
    "\n",
    "# Practice Control Flow on the Coffee Preference Data Set\n",
    "\n",
    "### 1) Load Coffee Preference data from file and print.\n",
    "\n",
    "The code to load in the data is provided below. \n",
    "\n",
    "The `with open(..., 'r') as f:` opens up a file in \"read\" mode (rather than \"write\") and assigns this opened file to `f`. \n",
    "\n",
    "We can then use the built-in `.readlines()` function to split the CSV file on newlines and assign it to the variable `lines`."
   ]
  },
  {
   "cell_type": "code",
   "execution_count": 82,
   "metadata": {},
   "outputs": [],
   "source": [
    "with open('data/coffee-preferences.csv','r') as f:\n",
    "    lines = f.readlines()"
   ]
  },
  {
   "cell_type": "markdown",
   "metadata": {},
   "source": [
    "#### Iterate through `lines` and print them out."
   ]
  },
  {
   "cell_type": "code",
   "execution_count": null,
   "metadata": {},
   "outputs": [],
   "source": [
    "# A:\n",
    "for line in lines:\n",
    "    print(line)"
   ]
  },
  {
   "cell_type": "markdown",
   "metadata": {},
   "source": [
    "#### Print out just the `lines` object by typing \"lines\" in a cell and hitting `enter`."
   ]
  },
  {
   "cell_type": "code",
   "execution_count": null,
   "metadata": {},
   "outputs": [],
   "source": [
    "# A:\n",
    "lines"
   ]
  },
  {
   "cell_type": "markdown",
   "metadata": {},
   "source": [
    "---\n",
    "\n",
    "### 2) Remove the remaining newline `'\\n'` characters with a `for` loop.\n",
    "\n",
    "Iterate through the lines of the data and remove the unwanted newline characters.\n",
    "\n",
    "**.replace('\\n', '')** is a built-in string function that will take the substring you want to replace as its first argument and the string you want to replace it with as its second."
   ]
  },
  {
   "cell_type": "code",
   "execution_count": null,
   "metadata": {},
   "outputs": [],
   "source": [
    "# A:"
   ]
  },
  {
   "cell_type": "markdown",
   "metadata": {
    "collapsed": true
   },
   "source": [
    "Click here for solution\n",
    "\n",
    "<span style ='color:white'>\n",
    "\n",
    "clean_lines = []\n",
    "for entry in lines:\n",
    "    clean_lines.append(entry.replace('\\n', ''))"
   ]
  },
  {
   "cell_type": "markdown",
   "metadata": {},
   "source": [
    "---\n",
    "\n",
    "### 3) Split the lines into \"header\" and \"data\" variables.\n",
    "\n",
    "The header is the first string in the list of strings. It contains our data's column names."
   ]
  },
  {
   "cell_type": "code",
   "execution_count": 63,
   "metadata": {},
   "outputs": [],
   "source": [
    "# A:"
   ]
  },
  {
   "cell_type": "markdown",
   "metadata": {},
   "source": [
    "Click here for solution\n",
    "\n",
    "<span style ='color:white'>\n",
    "\n",
    "header = clean_lines[0]\n",
    "data = clean_lines[1:]"
   ]
  },
  {
   "cell_type": "markdown",
   "metadata": {},
   "source": [
    "---\n",
    "\n",
    "### 4) Split the header and data strings on commas.\n",
    "\n",
    "To split a string on the comma character, use the built-in **`.split(',')`** function. \n",
    "\n",
    "Split the header on commas, then print it. You can see that the original string is now a list containing items that were originally separated by commas."
   ]
  },
  {
   "cell_type": "code",
   "execution_count": 65,
   "metadata": {},
   "outputs": [],
   "source": [
    "# A:"
   ]
  },
  {
   "cell_type": "markdown",
   "metadata": {},
   "source": [
    "Click here for solution\n",
    "\n",
    "<span style ='color:white'>\n",
    "\n",
    "data = [i.split(',') for i in data]\n",
    "header = header.split(',')"
   ]
  },
  {
   "cell_type": "markdown",
   "metadata": {},
   "source": [
    "---\n",
    "\n",
    "### 5) Remove the \"Timestamp\" column.\n",
    "\n",
    "We aren't interested in the \"Timestamp\" column in our data, so remove it from the header and data list.\n",
    "\n",
    "Removing \"Timestamp\" from the header can be done with list functions or with slicing. To remove the header column from the data, use a `for` loop.\n",
    "\n",
    "Print out the new data object with the timestamps removed."
   ]
  },
  {
   "cell_type": "code",
   "execution_count": 76,
   "metadata": {},
   "outputs": [],
   "source": [
    "# A:"
   ]
  },
  {
   "cell_type": "markdown",
   "metadata": {
    "collapsed": true
   },
   "source": [
    "Click here for solution\n",
    "\n",
    "<span style ='color:white'>\n",
    "\n",
    "header.remove('Timestamp')\n",
    "data=[i[1:] for i in data]"
   ]
  },
  {
   "cell_type": "markdown",
   "metadata": {},
   "source": [
    "---\n",
    "\n",
    "### 6) Convert numeric columns to floats and empty fields to `None`.\n",
    "\n",
    "Iterate through the data and construct a new data list of lists that contains the numeric ratings converted from strings to floats and the empty fields (which are empty strings, '') replaced with the `None` object.\n",
    "\n",
    "Use a nested `for` loop (a `for` loop within another `for` loop) to get the job done. You will likely need to use `if… else` conditional statements as well.\n",
    "\n",
    "Print out the new data object to make sure you've succeeded."
   ]
  },
  {
   "cell_type": "code",
   "execution_count": null,
   "metadata": {},
   "outputs": [],
   "source": [
    "# A:"
   ]
  },
  {
   "cell_type": "markdown",
   "metadata": {
    "collapsed": true
   },
   "source": [
    "Click here for solution\n",
    "\n",
    "<span style ='color:white'>\n",
    "\n",
    "new_data=[]\n",
    "for item in data:\n",
    "    new_line=[]\n",
    "    for i in item:\n",
    "        if len(i)>1:\n",
    "            new_line.append(i)\n",
    "        else:\n",
    "            try:\n",
    "                new_line.append(float(i))\n",
    "            except:\n",
    "                new_line.append(None)\n",
    "    new_data.append(new_line)\n",
    "    \n",
    "new_data    "
   ]
  },
  {
   "cell_type": "markdown",
   "metadata": {},
   "source": [
    "---\n",
    "\n",
    "### 7) Count the `None` values per person and put the counts in a dictionary.\n",
    "\n",
    "Use a `for` loop to count the number of `None` values per person. Create a dictionary with the names of the people as keys and the counts of `None` as values.\n",
    "\n",
    "Who rated the most coffee brands? Who rated the least?"
   ]
  },
  {
   "cell_type": "code",
   "execution_count": 17,
   "metadata": {
    "collapsed": true
   },
   "outputs": [],
   "source": [
    "# A:"
   ]
  },
  {
   "cell_type": "markdown",
   "metadata": {},
   "source": [
    "Click here for solution\n",
    "\n",
    "<span style ='color:white'>\n",
    "\n",
    "none_dictionary={}\n",
    "\n",
    "for item in new_data:\n",
    "    count=0\n",
    "    for i in item:\n",
    "        if i==None:\n",
    "            count+=1\n",
    "    none_dictionary[item[0]]=count\n",
    "    \n",
    "none_dictionary"
   ]
  },
  {
   "cell_type": "markdown",
   "metadata": {},
   "source": [
    "---\n",
    "\n",
    "### 8) Calculate average rating per coffee brand.\n",
    "\n",
    "**Excluding `None` values**, calculate the average rating per brand of coffee.\n",
    "\n",
    "The final output should be a dictionary with the coffee brand names as keys and their average rating as the values.\n",
    "\n",
    "Remember that the average can be calculated as the sum of the ratings over the number of ratings:\n",
    "\n",
    "```python\n",
    "average_rating = float(sum(ratings_list))/len(ratings_list)\n",
    "```\n",
    "\n",
    "Print your dictionary to see the average brand ratings."
   ]
  },
  {
   "cell_type": "code",
   "execution_count": 18,
   "metadata": {
    "collapsed": true
   },
   "outputs": [],
   "source": [
    "# A:"
   ]
  },
  {
   "cell_type": "markdown",
   "metadata": {},
   "source": [
    "Click here for solution\n",
    "\n",
    "<span style ='color:white'>\n",
    "\n",
    "coffee_ratings={}\n",
    "for i in range(len(header)):\n",
    "    if i>1:\n",
    "        review_list=[]\n",
    "        for review in new_data:\n",
    "            review_list.append(review[i])\n",
    "        ratings_list=[review for review in review_list if review is not None]\n",
    "        average_rating = float(sum(ratings_list))/len(ratings_list)\n",
    "        coffee_ratings[header[i]]=average_rating\n",
    "        \n",
    "coffee_ratings"
   ]
  },
  {
   "cell_type": "markdown",
   "metadata": {},
   "source": [
    "---\n",
    "\n",
    "### 9) Create a list containing only the people's names."
   ]
  },
  {
   "cell_type": "code",
   "execution_count": 19,
   "metadata": {
    "collapsed": true
   },
   "outputs": [],
   "source": [
    "# A:"
   ]
  },
  {
   "cell_type": "markdown",
   "metadata": {},
   "source": [
    "Click here for solution\n",
    "\n",
    "<span style ='color:white'>\n",
    "\n",
    "names=[i[0] for i in new_data]\n",
    "names"
   ]
  },
  {
   "cell_type": "markdown",
   "metadata": {},
   "source": [
    "---\n",
    "\n",
    "### 11) Picking a name at random. What are the odds of choosing the same name three times in a row?\n",
    "\n",
    "Now, we'll use a `while` loop to \"brute force\" the odds of choosing the same name three times in a row randomly from the list of names.\n",
    "\n",
    "\"Brute force\" is a term used quite frequently in programming to refer to a computationally inefficient way of solving a problem. It's brute force in this situation because we can use statistics to solve this much more efficiently than if we actually played out an entire scenario.\n",
    "\n",
    "Below, we've imported the **`random`** package, which has the essential function for this code: **`random.choice()`**.\n",
    "The function takes a list as an argument and returns one of the elements of that list at random."
   ]
  },
  {
   "cell_type": "code",
   "execution_count": 132,
   "metadata": {},
   "outputs": [],
   "source": [
    "import random\n",
    "# Choose a random person from the list of people:\n",
    "# random.choice(people)"
   ]
  },
  {
   "cell_type": "markdown",
   "metadata": {},
   "source": [
    "Write a function to choose a person from the list randomly three times and check if they are all the same.\n",
    "\n",
    "Define a function that has the following properties:\n",
    "\n",
    "1) Takes a list (your list of names) as an argument.\n",
    "2) Selects a name using `random.choice(people)` three separate times.\n",
    "3) Returns `True` if the name was the same all three times; otherwise returns `False`."
   ]
  },
  {
   "cell_type": "code",
   "execution_count": 20,
   "metadata": {
    "collapsed": true
   },
   "outputs": [],
   "source": [
    "# A:"
   ]
  },
  {
   "cell_type": "markdown",
   "metadata": {},
   "source": [
    "Click here for solution\n",
    "\n",
    "<span style ='color:white'>\n",
    "\n",
    "def same_name_thrice(list_of_names):\n",
    "    name_1=random.choice(names)\n",
    "    name_2=random.choice(names)\n",
    "    name_3=random.choice(names)\n",
    "    if name_1==name_2 and name_1==name_3:\n",
    "        return True\n",
    "    else:\n",
    "        return False\n",
    "    "
   ]
  },
  {
   "cell_type": "markdown",
   "metadata": {},
   "source": [
    "---\n",
    "\n",
    "### 12) Construct a `while` loop to run the choosing function until it returns `True`.\n",
    "\n",
    "Run the function until you draw the same person three times using a `while` loop. Keep track of how many tries it took and print out the number of tries after it runs."
   ]
  },
  {
   "cell_type": "code",
   "execution_count": 21,
   "metadata": {
    "collapsed": true
   },
   "outputs": [],
   "source": [
    "# A:"
   ]
  },
  {
   "cell_type": "markdown",
   "metadata": {},
   "source": [
    "Click here for solution\n",
    "\n",
    "<span style ='color:white'>\n",
    "\n",
    "attempts=0\n",
    "status=False\n",
    "while status is False:\n",
    "    if same_name_thrice(names) is True:\n",
    "        print ('number of attempts: ' + str(attempts))\n",
    "        status=True\n",
    "    else:\n",
    "        attempts+=1"
   ]
  },
  {
   "cell_type": "markdown",
   "metadata": {},
   "source": [
    "\n",
    "<a name=\"conclusion\"></a>\n",
    "## Lesson Summary\n",
    "\n",
    "\n",
    "Let's review what we learned today. We:\n",
    "\n",
    "- Reviewed `Python` control flow and conditional programming. \n",
    "- Implemented `for` and `while` loops to iterate through data structures.\n",
    "- Applied `if… else` conditional statements.\n",
    "- Created functions to perform repetitive actions.\n",
    "- Demonstrated error handling using `try, except` statements.\n",
    "- Combined control flow and conditional statements to solve the classic \"FizzBuzz\" code challenge.\n",
    "- Used `Python` control flow and functions to help us parse, clean, edit, and analyze the Coffee Preferences data set.\n",
    "\n",
    "\n",
    "\n",
    "### Additional Questions?\n",
    "\n",
    "\n",
    "....\n",
    "\n",
    "### Additional Resources\n",
    "\n",
    "- [Learn Python on Codecademy](https://www.codecademy.com/learn/python)\n",
    "- [Learn Python the Hard Way](https://learnpythonthehardway.org)\n",
    "- [Python Data Types and Variables](http://www.python-course.eu/variables.php)\n",
    "- [Python IF… ELIF… ELSE Statements](https://www.tutorialspoint.com/python/python_if_else.htm)\n",
    "- [Python Loops](https://www.tutorialspoint.com/python/python_loops.htm)\n",
    "- [Python Control Flow](https://python.swaroopch.com/control_flow.html)"
   ]
  },
  {
   "cell_type": "code",
   "execution_count": null,
   "metadata": {
    "collapsed": true
   },
   "outputs": [],
   "source": []
  }
 ],
 "metadata": {
  "anaconda-cloud": {},
  "kernelspec": {
   "display_name": "Python 3",
   "language": "python",
   "name": "python3"
  },
  "language_info": {
   "codemirror_mode": {
    "name": "ipython",
    "version": 3
   },
   "file_extension": ".py",
   "mimetype": "text/x-python",
   "name": "python",
   "nbconvert_exporter": "python",
   "pygments_lexer": "ipython3",
   "version": "3.8.3"
  },
  "toc": {
   "base_numbering": 1,
   "nav_menu": {},
   "number_sections": true,
   "sideBar": true,
   "skip_h1_title": false,
   "title_cell": "Table of Contents",
   "title_sidebar": "Contents",
   "toc_cell": false,
   "toc_position": {},
   "toc_section_display": true,
   "toc_window_display": false
  }
 },
 "nbformat": 4,
 "nbformat_minor": 2
}
